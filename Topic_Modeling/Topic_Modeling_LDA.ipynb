{
 "cells": [
  {
   "cell_type": "markdown",
   "id": "415676c8",
   "metadata": {},
   "source": [
    "# 잠재 디리클레 할당(LDA)"
   ]
  },
  {
   "cell_type": "markdown",
   "id": "e71188b0",
   "metadata": {},
   "source": [
    "LDA를 수행할 떄 문서 집합에서 토픽이 몇개가 존재할지 가정하는 것은 사용자가 한다."
   ]
  },
  {
   "cell_type": "markdown",
   "id": "3399737d",
   "metadata": {},
   "source": [
    "LDA 역시 DTM 또는 TF-IDF 행렬을 입력으로 받는데, 이를 통해 LDA는 단어의 순서를 신경쓰지 않는다는 것을 알 수 있다.\n",
    "\n",
    "LDA는 문서들로부터 '나는 이 문서를 작성하기 위해서 이런 주제들을 넣을 것이고, 이런 단어들을 넣을거야' 라는 가정을 염두해두고 진행한다.\n",
    "\n",
    "예를들어 각각의 문서가\n",
    "1. 문서에 사용할 단어의 개수 N을 정한다.\n",
    "2. 문서에 사용할 토픽의 혼합을 확률 분포에 기반하여 결정한다.\n",
    "3. 문서에 사용할 단어를 토픽 분포에서 토픽 T를 확률적으로 고르고, 선택한 토픽 T에서 단어의 출현 확률 분포에 기반해 문서에 사용할 단어를 룬다.\n",
    "\n",
    "고 가정하고 LDA는 토픽을 뽑아내기 위해 위의 과정을 역으로 추적한다."
   ]
  },
  {
   "cell_type": "markdown",
   "id": "98992d30",
   "metadata": {},
   "source": [
    "## LDA의 수행과정"
   ]
  },
  {
   "cell_type": "markdown",
   "id": "de807604",
   "metadata": {},
   "source": [
    "1. 사용자는 알고리즘에게 토픽의 개수 k개를 알려준다.\n",
    "\n",
    "LDA는 토픽의 개수 k를 입력받으면, k개의 토픽이 M개의 전체 문서에 걸쳐 분포되어 있다고 가정한다.\n",
    "\n",
    "2. 모든 단어를 k개 중 하나의 토픽에 할당한다.\n",
    "\n",
    "위 작업을 통해 각 문서는 토픽을 가지며, 토픽은 단어 분포를 가진다. 물론 랜덤이기 때문에 결과는 전부 틀리다.\n",
    "\n",
    "3. 모든 문서의 모든 단어에 대해 다음 사항 반복진행.\n",
    "- 어떤 문서의 각 단어 w는 자신은 잘못된 토픽에 할당되어 있지만, 다른 단어들은 전부 올바른 토픽에 할당되어 있다고 가정한다. 이데 따라 단어 w는 아래의 두가지 기준에 따라 토픽이 재할당된다.\n",
    "\n",
    "    - p(topic t | document d): 문서 d의 단어들 중 토픽 t에 해당하는 단어들의 비율\n",
    "    - p(word w | topic t): 각 토픽들 t에서 해당 단어 w의 분포\n",
    "    \n",
    "4. 수렴할 때 까지 진행."
   ]
  },
  {
   "cell_type": "markdown",
   "id": "726d43bb",
   "metadata": {},
   "source": [
    "LSA vs LDA\n",
    "\n",
    "- LSA: DTM을 차원숙소하여 근접 단어들을 토픽으로 묶는다.\n",
    "- LDA: 단어가 특정 토픽에 존재할 확률과 문서에 특정 토픽이 존재할 확률을 결합확률로 추정하여 토픽을 추출한다."
   ]
  },
  {
   "cell_type": "markdown",
   "id": "cf28212b",
   "metadata": {},
   "source": [
    "# 실습 01: gensim 사용\n",
    "\n",
    "gensim: Word2Vec 지원, 토픽 모델링 지원하는 패키지"
   ]
  },
  {
   "cell_type": "markdown",
   "id": "b36f8586",
   "metadata": {},
   "source": [
    "## 정수 인코딩과 단어 집합 만들기\n",
    "\n",
    "LSA와 전처리 과정을 같고 tokenized_doc로 토큰화 했다고 하자."
   ]
  },
  {
   "cell_type": "code",
   "execution_count": 3,
   "id": "6d321c7b",
   "metadata": {},
   "outputs": [
    {
     "name": "stderr",
     "output_type": "stream",
     "text": [
      "[nltk_data] Downloading package stopwords to\n",
      "[nltk_data]     /Users/jihyeonbin/nltk_data...\n",
      "[nltk_data]   Package stopwords is already up-to-date!\n"
     ]
    },
    {
     "name": "stdout",
     "output_type": "stream",
     "text": [
      "['yeah', 'expect', 'people', 'read', 'actually', 'accept', 'hard', 'atheism', 'need', 'little', 'leap', 'faith', 'jimmy', 'logic', 'runs', 'steam', 'sorry', 'pity', 'sorry', 'feelings', 'denial', 'faith', 'need', 'well', 'pretend', 'happily', 'ever', 'anyway', 'maybe', 'start', 'newsgroup', 'atheist', 'hard', 'bummin', 'much', 'forget', 'flintstone', 'chewables', 'bake', 'timmons']\n"
     ]
    }
   ],
   "source": [
    "import pandas as pd\n",
    "from sklearn.datasets import fetch_20newsgroups\n",
    "import nltk\n",
    "from nltk.corpus import stopwords\n",
    "from sklearn.feature_extraction.text import TfidfVectorizer\n",
    "from sklearn.decomposition import TruncatedSVD\n",
    "\n",
    "import warnings\n",
    "warnings.filterwarnings(action='ignore')\n",
    "\n",
    "dataset = fetch_20newsgroups(shuffle=True, random_state=1, remove=('headers', 'footers', 'quotes'))\n",
    "documents = dataset.data\n",
    "\n",
    "#전처리\n",
    "news_df = pd.DataFrame({'document':documents})\n",
    "# 특수 문자 제거\n",
    "news_df['clean_doc'] = news_df['document'].str.replace(\"[^a-zA-Z]\", \" \")\n",
    "# 길이가 3이하인 단어는 제거 (길이가 짧은 단어 제거)\n",
    "news_df['clean_doc'] = news_df['clean_doc'].apply(lambda x: ' '.join([w for w in x.split() if len(w)>3]))\n",
    "# 전체 단어에 대한 소문자 변환\n",
    "news_df['clean_doc'] = news_df['clean_doc'].apply(lambda x: x.lower())\n",
    "\n",
    "# NLTK로부터 불용어를 받아온다.\n",
    "import nltk\n",
    "nltk.download('stopwords')\n",
    "\n",
    "# 불용어를 제거\n",
    "stop_words = stopwords.words('english')\n",
    "tokenized_doc = news_df['clean_doc'].apply(lambda x: x.split()) # 토큰화\n",
    "tokenized_doc = tokenized_doc.apply(lambda x: [item for item in x if item not in stop_words])"
   ]
  },
  {
   "cell_type": "code",
   "execution_count": 4,
   "id": "791a47cb",
   "metadata": {},
   "outputs": [
    {
     "name": "stdout",
     "output_type": "stream",
     "text": [
      "0    [well, sure, story, seem, biased, disagree, st...\n",
      "1    [yeah, expect, people, read, actually, accept,...\n",
      "2    [although, realize, principle, strongest, poin...\n",
      "3    [notwithstanding, legitimate, fuss, proposal, ...\n",
      "4    [well, change, scoring, playoff, pool, unfortu...\n",
      "Name: clean_doc, dtype: object\n"
     ]
    }
   ],
   "source": [
    "# 토큰화 완료\n",
    "print(tokenized_doc[:5])"
   ]
  },
  {
   "cell_type": "markdown",
   "id": "0396f800",
   "metadata": {},
   "source": [
    "각 단어에 정수 인코딩을 하는 동시에, 각 뉴스에서의 단어의 빈도수 기록한다.\n",
    "\n",
    "각 단어를 (word_id, word_frequeny) 형태로 변경하자. \n",
    "- word_id: 단어가 정수 인코딩 된 값\n",
    "- word_frequency: 해당 뉴스에서의 해당 단어의 빈도수\n",
    "\n",
    "정수 인코딩: 단어를 빈도수 순으로 정렬한 단어 집합을 만들고 빈도수가 높은 순서대로 차례로 낮은 숫자부터 정수 부여"
   ]
  },
  {
   "cell_type": "code",
   "execution_count": 6,
   "id": "88244c76",
   "metadata": {},
   "outputs": [
    {
     "name": "stdout",
     "output_type": "stream",
     "text": [
      "[(52, 1), (55, 1), (56, 1), (57, 1), (58, 1), (59, 1), (60, 1), (61, 1), (62, 1), (63, 1), (64, 1), (65, 1), (66, 2), (67, 1), (68, 1), (69, 1), (70, 1), (71, 2), (72, 1), (73, 1), (74, 1), (75, 1), (76, 1), (77, 1), (78, 2), (79, 1), (80, 1), (81, 1), (82, 1), (83, 1), (84, 1), (85, 2), (86, 1), (87, 1), (88, 1), (89, 1)]\n"
     ]
    }
   ],
   "source": [
    "from gensim import corpora\n",
    "dictionary = corpora.Dictionary(tokenized_doc)\n",
    "corpus = [dictionary.doc2bow(text) for text in tokenized_doc]\n",
    "print(corpus[1]) # 수행된 결과에서 두번째 뉴스 출력. 첫번째 문서의 인덱스는 0\n",
    "\n",
    "#전체 뉴스에 대해 정수 인코딩 수행하고, 두번째 뉴스 출력"
   ]
  },
  {
   "cell_type": "markdown",
   "id": "9b6e4d7f",
   "metadata": {},
   "source": [
    "위 출력결과 중 (66,2)는 정수 인코딩이 66으로 할당된 단어가 두번째 뉴스에서 두번 등장했다는 의미이다.\n",
    "\n",
    "단어가 정수 인코딩 되기 전 어떤 단어였는지 확인도 가능하다."
   ]
  },
  {
   "cell_type": "code",
   "execution_count": 7,
   "id": "0a7e9967",
   "metadata": {},
   "outputs": [
    {
     "name": "stdout",
     "output_type": "stream",
     "text": [
      "faith\n"
     ]
    }
   ],
   "source": [
    "print(dictionary[66])"
   ]
  },
  {
   "cell_type": "code",
   "execution_count": 8,
   "id": "7c94a4f2",
   "metadata": {},
   "outputs": [
    {
     "data": {
      "text/plain": [
       "64281"
      ]
     },
     "execution_count": 8,
     "metadata": {},
     "output_type": "execute_result"
    }
   ],
   "source": [
    "len(dictionary)"
   ]
  },
  {
   "cell_type": "markdown",
   "id": "c43e68f3",
   "metadata": {},
   "source": [
    "총 65284개의 단어가 학습되었다"
   ]
  },
  {
   "cell_type": "markdown",
   "id": "9adf5723",
   "metadata": {},
   "source": [
    "## LDA 모델 훈련시키기\n",
    "\n",
    "기존의 뉴스 데이터가 총 20개의 카테고리를 가지고 있으므로 토픽의 개수를 20으로 하여 LDA 모델을 학습시켜보자."
   ]
  },
  {
   "cell_type": "code",
   "execution_count": 9,
   "id": "7e7088af",
   "metadata": {},
   "outputs": [
    {
     "name": "stdout",
     "output_type": "stream",
     "text": [
      "(0, '0.017*\"israel\" + 0.015*\"jews\" + 0.012*\"turkish\" + 0.010*\"israeli\"')\n",
      "(1, '0.013*\"colormap\" + 0.010*\"width\" + 0.008*\"pixmap\" + 0.008*\"height\"')\n",
      "(2, '0.016*\"jesus\" + 0.009*\"christian\" + 0.009*\"bible\" + 0.008*\"church\"')\n",
      "(3, '0.008*\"time\" + 0.007*\"president\" + 0.006*\"year\" + 0.005*\"space\"')\n",
      "(4, '0.026*\"henrik\" + 0.017*\"norton\" + 0.011*\"allocation\" + 0.009*\"cross\"')\n",
      "(5, '0.020*\"file\" + 0.016*\"windows\" + 0.013*\"program\" + 0.010*\"window\"')\n",
      "(6, '0.019*\"period\" + 0.011*\"power\" + 0.011*\"pittsburgh\" + 0.009*\"play\"')\n",
      "(7, '0.012*\"drive\" + 0.011*\"like\" + 0.008*\"system\" + 0.008*\"card\"')\n",
      "(8, '0.014*\"andrew\" + 0.013*\"doug\" + 0.012*\"symbol\" + 0.007*\"friday\"')\n",
      "(9, '0.019*\"people\" + 0.018*\"would\" + 0.011*\"like\" + 0.011*\"know\"')\n",
      "(10, '0.013*\"available\" + 0.010*\"information\" + 0.008*\"also\" + 0.008*\"mail\"')\n",
      "(11, '0.009*\"true\" + 0.009*\"believe\" + 0.008*\"argument\" + 0.008*\"evidence\"')\n",
      "(12, '0.010*\"ground\" + 0.008*\"wire\" + 0.008*\"water\" + 0.008*\"current\"')\n",
      "(13, '0.041*\"armenian\" + 0.028*\"armenians\" + 0.014*\"genocide\" + 0.010*\"university\"')\n",
      "(14, '0.011*\"weaver\" + 0.011*\"homosexuality\" + 0.011*\"homosexual\" + 0.011*\"homosexuals\"')\n",
      "(15, '0.016*\"pain\" + 0.012*\"koresh\" + 0.007*\"batf\" + 0.006*\"david\"')\n",
      "(16, '0.009*\"government\" + 0.007*\"public\" + 0.005*\"encryption\" + 0.005*\"number\"')\n",
      "(17, '0.035*\"space\" + 0.013*\"launch\" + 0.013*\"satellite\" + 0.011*\"earth\"')\n",
      "(18, '0.048*\"thanks\" + 0.042*\"please\" + 0.038*\"anyone\" + 0.032*\"would\"')\n",
      "(19, '0.017*\"game\" + 0.015*\"team\" + 0.014*\"year\" + 0.012*\"games\"')\n"
     ]
    }
   ],
   "source": [
    "import gensim\n",
    "NUM_TOPICS = 20 # 20개의 토픽, k=20\n",
    "ldamodel = gensim.models.ldamodel.LdaModel(corpus, num_topics = NUM_TOPICS, id2word=dictionary, passes=15)\n",
    "topics = ldamodel.print_topics(num_words=4)\n",
    "for topic in topics:\n",
    "    print(topic)"
   ]
  },
  {
   "cell_type": "markdown",
   "id": "e09357ca",
   "metadata": {},
   "source": [
    "각 단어 앞에 붙은 수치는 단어의 해당 토픽에 대한 기여도를 보여준다. 즉, 20개의 토픽에서 각 토픽에 대한 기여도를 볼 수 있다. \n",
    "\n",
    "passess는 알고리즘의 동작 횟수를 말하는데 알고리즘이 결정하는 토픽의 값이 적절히 수렴할 수 있도록 정해준다.\n",
    "\n",
    "num_words = 4: 총 4개의 단어만 출력"
   ]
  },
  {
   "cell_type": "markdown",
   "id": "4007b973",
   "metadata": {},
   "source": [
    "## LDA 시각화"
   ]
  },
  {
   "cell_type": "code",
   "execution_count": 12,
   "id": "70522c75",
   "metadata": {},
   "outputs": [
    {
     "name": "stdout",
     "output_type": "stream",
     "text": [
      "Requirement already satisfied: pyLDAvis in ./opt/anaconda3/lib/python3.8/site-packages (3.4.0)\n",
      "Requirement already satisfied: scikit-learn>=1.0.0 in ./opt/anaconda3/lib/python3.8/site-packages (from pyLDAvis) (1.0.2)\n",
      "Collecting pandas>=1.3.4\n",
      "  Using cached pandas-1.5.3-cp38-cp38-macosx_10_9_x86_64.whl (11.9 MB)\n",
      "Requirement already satisfied: setuptools in ./opt/anaconda3/lib/python3.8/site-packages (from pyLDAvis) (52.0.0.post20210125)\n",
      "Requirement already satisfied: joblib>=1.2.0 in ./opt/anaconda3/lib/python3.8/site-packages (from pyLDAvis) (1.2.0)\n",
      "Requirement already satisfied: scipy in ./opt/anaconda3/lib/python3.8/site-packages (from pyLDAvis) (1.10.1)\n",
      "Requirement already satisfied: numpy>=1.22.0 in ./opt/anaconda3/lib/python3.8/site-packages (from pyLDAvis) (1.22.4)\n",
      "Requirement already satisfied: jinja2 in ./opt/anaconda3/lib/python3.8/site-packages (from pyLDAvis) (2.11.3)\n",
      "Requirement already satisfied: numexpr in ./opt/anaconda3/lib/python3.8/site-packages (from pyLDAvis) (2.7.3)\n",
      "Requirement already satisfied: gensim in ./opt/anaconda3/lib/python3.8/site-packages (from pyLDAvis) (4.3.0)\n",
      "Requirement already satisfied: funcy in ./opt/anaconda3/lib/python3.8/site-packages (from pyLDAvis) (1.18)\n",
      "Requirement already satisfied: pytz>=2020.1 in ./opt/anaconda3/lib/python3.8/site-packages (from pandas>=1.3.4->pyLDAvis) (2022.7.1)\n",
      "Requirement already satisfied: python-dateutil>=2.8.1 in ./opt/anaconda3/lib/python3.8/site-packages (from pandas>=1.3.4->pyLDAvis) (2.8.1)\n",
      "Requirement already satisfied: six>=1.5 in ./opt/anaconda3/lib/python3.8/site-packages (from python-dateutil>=2.8.1->pandas>=1.3.4->pyLDAvis) (1.15.0)\n",
      "Requirement already satisfied: threadpoolctl>=2.0.0 in ./opt/anaconda3/lib/python3.8/site-packages (from scikit-learn>=1.0.0->pyLDAvis) (2.1.0)\n",
      "Requirement already satisfied: smart-open>=1.8.1 in ./opt/anaconda3/lib/python3.8/site-packages (from gensim->pyLDAvis) (6.3.0)\n",
      "Requirement already satisfied: FuzzyTM>=0.4.0 in ./opt/anaconda3/lib/python3.8/site-packages (from gensim->pyLDAvis) (2.0.5)\n",
      "Requirement already satisfied: pyfume in ./opt/anaconda3/lib/python3.8/site-packages (from FuzzyTM>=0.4.0->gensim->pyLDAvis) (0.2.25)\n",
      "Requirement already satisfied: MarkupSafe>=0.23 in ./opt/anaconda3/lib/python3.8/site-packages (from jinja2->pyLDAvis) (1.1.1)\n",
      "Requirement already satisfied: fst-pso in ./opt/anaconda3/lib/python3.8/site-packages (from pyfume->FuzzyTM>=0.4.0->gensim->pyLDAvis) (1.8.1)\n",
      "Requirement already satisfied: simpful in ./opt/anaconda3/lib/python3.8/site-packages (from pyfume->FuzzyTM>=0.4.0->gensim->pyLDAvis) (2.10.0)\n",
      "Requirement already satisfied: miniful in ./opt/anaconda3/lib/python3.8/site-packages (from fst-pso->pyfume->FuzzyTM>=0.4.0->gensim->pyLDAvis) (0.0.6)\n",
      "Requirement already satisfied: requests in ./opt/anaconda3/lib/python3.8/site-packages (from simpful->pyfume->FuzzyTM>=0.4.0->gensim->pyLDAvis) (2.28.2)\n",
      "Requirement already satisfied: idna<4,>=2.5 in ./opt/anaconda3/lib/python3.8/site-packages (from requests->simpful->pyfume->FuzzyTM>=0.4.0->gensim->pyLDAvis) (2.10)\n",
      "Requirement already satisfied: charset-normalizer<4,>=2 in ./opt/anaconda3/lib/python3.8/site-packages (from requests->simpful->pyfume->FuzzyTM>=0.4.0->gensim->pyLDAvis) (3.0.1)\n",
      "Requirement already satisfied: certifi>=2017.4.17 in ./opt/anaconda3/lib/python3.8/site-packages (from requests->simpful->pyfume->FuzzyTM>=0.4.0->gensim->pyLDAvis) (2020.12.5)\n",
      "Requirement already satisfied: urllib3<1.27,>=1.21.1 in ./opt/anaconda3/lib/python3.8/site-packages (from requests->simpful->pyfume->FuzzyTM>=0.4.0->gensim->pyLDAvis) (1.26.4)\n",
      "Installing collected packages: pandas\n",
      "  Attempting uninstall: pandas\n",
      "    Found existing installation: pandas 1.2.0\n",
      "    Uninstalling pandas-1.2.0:\n",
      "      Successfully uninstalled pandas-1.2.0\n",
      "Successfully installed pandas-1.5.3\n",
      "Note: you may need to restart the kernel to use updated packages.\n"
     ]
    }
   ],
   "source": [
    "pip install pyLDAvis"
   ]
  },
  {
   "cell_type": "code",
   "execution_count": 19,
   "id": "f27eb341",
   "metadata": {},
   "outputs": [
    {
     "name": "stderr",
     "output_type": "stream",
     "text": [
      "/Users/jihyeonbin/opt/anaconda3/lib/python3.8/site-packages/ipykernel/ipkernel.py:287: DeprecationWarning: `should_run_async` will not call `transform_cell` automatically in the future. Please pass the result to `transformed_cell` argument and any exception that happen during thetransform in `preprocessing_exc_tuple` in IPython 7.17 and above.\n",
      "  and should_run_async(code)\n"
     ]
    },
    {
     "name": "stdout",
     "output_type": "stream",
     "text": [
      "Collecting pandas==1.2\n",
      "  Using cached pandas-1.2.0-cp38-cp38-macosx_10_9_x86_64.whl (10.5 MB)\n",
      "Requirement already satisfied: python-dateutil>=2.7.3 in ./opt/anaconda3/lib/python3.8/site-packages (from pandas==1.2) (2.8.1)\n",
      "Requirement already satisfied: pytz>=2017.3 in ./opt/anaconda3/lib/python3.8/site-packages (from pandas==1.2) (2022.7.1)\n",
      "Requirement already satisfied: numpy>=1.16.5 in ./opt/anaconda3/lib/python3.8/site-packages (from pandas==1.2) (1.22.4)\n",
      "Requirement already satisfied: six>=1.5 in ./opt/anaconda3/lib/python3.8/site-packages (from python-dateutil>=2.7.3->pandas==1.2) (1.15.0)\n",
      "Installing collected packages: pandas\n",
      "  Attempting uninstall: pandas\n",
      "    Found existing installation: pandas 1.3.2\n",
      "    Uninstalling pandas-1.3.2:\n",
      "      Successfully uninstalled pandas-1.3.2\n",
      "\u001b[31mERROR: pip's dependency resolver does not currently take into account all the packages that are installed. This behaviour is the source of the following dependency conflicts.\n",
      "yfinance 0.2.11 requires pandas>=1.3.0, but you have pandas 1.2.0 which is incompatible.\n",
      "pyldavis 3.4.0 requires pandas>=1.3.4, but you have pandas 1.2.0 which is incompatible.\u001b[0m\n",
      "Successfully installed pandas-1.2.0\n",
      "Note: you may need to restart the kernel to use updated packages.\n"
     ]
    }
   ],
   "source": [
    "pip install pandas==1.2"
   ]
  },
  {
   "cell_type": "markdown",
   "id": "5ff18384",
   "metadata": {},
   "source": [
    "판다스 높으면 시각화에 오류가 생긴다."
   ]
  },
  {
   "cell_type": "code",
   "execution_count": 20,
   "id": "5248896c",
   "metadata": {},
   "outputs": [
    {
     "name": "stderr",
     "output_type": "stream",
     "text": [
      "/Users/jihyeonbin/opt/anaconda3/lib/python3.8/site-packages/ipykernel/ipkernel.py:287: DeprecationWarning: `should_run_async` will not call `transform_cell` automatically in the future. Please pass the result to `transformed_cell` argument and any exception that happen during thetransform in `preprocessing_exc_tuple` in IPython 7.17 and above.\n",
      "  and should_run_async(code)\n"
     ]
    },
    {
     "data": {
      "text/html": [
       "\n",
       "<link rel=\"stylesheet\" type=\"text/css\" href=\"https://cdn.jsdelivr.net/gh/bmabey/pyLDAvis@3.4.0/pyLDAvis/js/ldavis.v1.0.0.css\">\n",
       "\n",
       "\n",
       "<div id=\"ldavis_el683471405215570446889048010451\" style=\"background-color:white;\"></div>\n",
       "<script type=\"text/javascript\">\n",
       "\n",
       "var ldavis_el683471405215570446889048010451_data = {\"mdsDat\": {\"x\": [-0.27570456107817787, -0.18574155089351221, -0.23056402422949074, -0.14099234333860594, -0.2162947299016907, -0.1788090710207417, -0.1465367997028899, -0.10316439959371579, -0.13781885846271894, -0.011760673841650927, 0.008586137004109713, 0.0246679139795072, 0.12108690103769951, 0.1538064500164362, 0.1738256393318163, 0.1629268760302688, 0.23761103245773246, 0.24332410882072814, 0.2495167200636741, 0.25203523332122185], \"y\": [0.03030894716686127, 0.08829840220768556, -0.10871585355619232, -0.09230173839373336, -0.14811831831811337, 0.04451778067210466, 0.0976261263888654, 0.09111099796162939, -0.005507414922147018, 0.2774624225789872, -0.08461094250066226, -0.18895229801787375, -0.08173602790531516, 0.012980347003125139, 0.051525975331008646, 0.1321620432216416, -0.040753770714116025, -0.02221598645268673, -0.030140203114010312, -0.022940488637057672], \"topics\": [1, 2, 3, 4, 5, 6, 7, 8, 9, 10, 11, 12, 13, 14, 15, 16, 17, 18, 19, 20], \"cluster\": [1, 1, 1, 1, 1, 1, 1, 1, 1, 1, 1, 1, 1, 1, 1, 1, 1, 1, 1, 1], \"Freq\": [20.812471410813288, 11.394472174190412, 10.1220545572773, 9.527070910960404, 8.319094390461418, 7.528830246217198, 6.4315198850122615, 5.280702187019621, 4.465181924017118, 3.6444334517931756, 2.618396627619271, 2.0538496938649375, 1.7118671706310138, 1.5081879504732931, 1.4799708053307352, 1.4206964331131449, 0.48406863389346083, 0.48333934853391425, 0.3788710350738702, 0.33492116370416536]}, \"tinfo\": {\"Term\": [\"would\", \"know\", \"anyone\", \"please\", \"thanks\", \"space\", \"file\", \"mail\", \"people\", \"windows\", \"like\", \"could\", \"help\", \"jesus\", \"game\", \"armenian\", \"drive\", \"information\", \"someone\", \"government\", \"year\", \"program\", \"available\", \"team\", \"email\", \"armenians\", \"think\", \"send\", \"system\", \"looking\", \"islam\", \"atheists\", \"azerbaijani\", \"afraid\", \"sumgait\", \"karina\", \"victims\", \"mamma\", \"baku\", \"lying\", \"azerbaijanis\", \"marriage\", \"married\", \"prophecy\", \"prison\", \"justified\", \"ridiculous\", \"messiah\", \"husband\", \"witnesses\", \"lyuda\", \"implies\", \"feelings\", \"karabagh\", \"defending\", \"tragedy\", \"essence\", \"marina\", \"proud\", \"shouting\", \"apartment\", \"sick\", \"happened\", \"kill\", \"eyes\", \"people\", \"knew\", \"woman\", \"everyone\", \"judge\", \"brought\", \"said\", \"worse\", \"happen\", \"think\", \"never\", \"told\", \"feel\", \"really\", \"would\", \"know\", \"someone\", \"says\", \"even\", \"right\", \"away\", \"like\", \"could\", \"thing\", \"come\", \"something\", \"maybe\", \"take\", \"else\", \"tell\", \"want\", \"well\", \"going\", \"things\", \"time\", \"anything\", \"much\", \"still\", \"many\", \"make\", \"good\", \"point\", \"believe\", \"might\", \"also\", \"encryption\", \"clipper\", \"privacy\", \"federal\", \"ripem\", \"secure\", \"enforcement\", \"firearms\", \"escrow\", \"amendment\", \"agencies\", \"cryptography\", \"patients\", \"encrypted\", \"crypto\", \"senate\", \"crypt\", \"wiretap\", \"cipher\", \"firearm\", \"attorney\", \"handgun\", \"cryptographic\", \"legislation\", \"classified\", \"homicide\", \"plaintext\", \"hicnet\", \"terminals\", \"initiative\", \"health\", \"medicine\", \"drug\", \"security\", \"private\", \"weapon\", \"proposal\", \"medical\", \"government\", \"disease\", \"public\", \"keys\", \"constitution\", \"protect\", \"legal\", \"secret\", \"administration\", \"states\", \"national\", \"united\", \"congress\", \"chip\", \"control\", \"technology\", \"state\", \"court\", \"number\", \"information\", \"system\", \"american\", \"crime\", \"used\", \"would\", \"rights\", \"people\", \"using\", \"also\", \"drive\", \"scsi\", \"drives\", \"controller\", \"motherboard\", \"brand\", \"backup\", \"adapter\", \"vesa\", \"stereo\", \"adaptec\", \"compass\", \"connector\", \"sleeve\", \"jumper\", \"warranty\", \"plate\", \"jumpers\", \"forsale\", \"screw\", \"deck\", \"bios\", \"recognition\", \"laptop\", \"boot\", \"connectors\", \"controllers\", \"floppies\", \"esdi\", \"proprietary\", \"floppy\", \"clone\", \"cable\", \"ports\", \"card\", \"shipping\", \"disk\", \"upgrade\", \"modem\", \"apple\", \"price\", \"sale\", \"sell\", \"cards\", \"disks\", \"tape\", \"speed\", \"video\", \"port\", \"board\", \"hard\", \"offer\", \"condition\", \"sound\", \"chips\", \"system\", \"drivers\", \"like\", \"memory\", \"used\", \"need\", \"good\", \"power\", \"work\", \"computer\", \"also\", \"problem\", \"would\", \"much\", \"make\", \"want\", \"best\", \"know\", \"think\", \"well\", \"char\", \"proceedings\", \"interactive\", \"icon\", \"astronomy\", \"visualization\", \"shar\", \"imaging\", \"listserv\", \"compuserve\", \"listing\", \"patents\", \"emacs\", \"isbn\", \"ieee\", \"adobe\", \"mailer\", \"packaging\", \"digit\", \"siggraph\", \"wisc\", \"builder\", \"compilers\", \"precision\", \"presentations\", \"astronomical\", \"anon\", \"anonymous\", \"typing\", \"graphical\", \"binaries\", \"archive\", \"processing\", \"mailing\", \"online\", \"requests\", \"addresses\", \"contest\", \"comp\", \"amiga\", \"monthly\", \"script\", \"distribution\", \"internet\", \"available\", \"usenet\", \"graphics\", \"library\", \"contrib\", \"sites\", \"contact\", \"list\", \"database\", \"send\", \"request\", \"guide\", \"software\", \"export\", \"mail\", \"information\", \"unix\", \"systems\", \"includes\", \"package\", \"data\", \"email\", \"university\", \"address\", \"based\", \"version\", \"computer\", \"user\", \"subject\", \"also\", \"system\", \"include\", \"nasa\", \"image\", \"space\", \"name\", \"program\", \"mouse\", \"jpeg\", \"printf\", \"screen\", \"xterm\", \"font\", \"string\", \"fonts\", \"uuencode\", \"echo\", \"xlib\", \"openwindows\", \"exit\", \"sunos\", \"prog\", \"cursor\", \"linux\", \"windows\", \"bitmap\", \"outlets\", \"argv\", \"config\", \"outlet\", \"defaults\", \"financial\", \"mono\", \"buttons\", \"entries\", \"polygon\", \"temp\", \"entry\", \"widget\", \"null\", \"window\", \"display\", \"displays\", \"file\", \"output\", \"client\", \"menu\", \"color\", \"files\", \"remark\", \"error\", \"bytes\", \"program\", \"application\", \"stream\", \"default\", \"size\", \"build\", \"running\", \"section\", \"using\", \"server\", \"line\", \"version\", \"image\", \"format\", \"code\", \"problem\", \"check\", \"info\", \"read\", \"work\", \"time\", \"like\", \"billion\", \"ride\", \"riding\", \"senior\", \"motorcycle\", \"bikes\", \"helmet\", \"bike\", \"funding\", \"investment\", \"tires\", \"aircraft\", \"motorcycles\", \"rockets\", \"senator\", \"crew\", \"republicans\", \"allah\", \"payload\", \"shock\", \"ozone\", \"aerospace\", \"cluster\", \"vitamin\", \"balls\", \"riders\", \"smoking\", \"kidney\", \"launches\", \"stimulus\", \"jobs\", \"pounds\", \"doctor\", \"engine\", \"mile\", \"food\", \"miles\", \"station\", \"president\", \"summer\", \"cars\", \"road\", \"stage\", \"flight\", \"street\", \"morning\", \"money\", \"feet\", \"space\", \"side\", \"year\", \"working\", \"time\", \"going\", \"work\", \"back\", \"years\", \"first\", \"nasa\", \"russian\", \"small\", \"last\", \"long\", \"days\", \"also\", \"would\", \"think\", \"well\", \"made\", \"know\", \"said\", \"much\", \"like\", \"jesus\", \"bible\", \"church\", \"christ\", \"spirit\", \"lord\", \"matthew\", \"myers\", \"filename\", \"judas\", \"catholic\", \"scripture\", \"biblical\", \"doctrine\", \"surrender\", \"pope\", \"worship\", \"passage\", \"passages\", \"satan\", \"divine\", \"skepticism\", \"resurrection\", \"revelation\", \"testament\", \"intellect\", \"sabbath\", \"gospel\", \"shameful\", \"cadre\", \"christian\", \"holy\", \"gordon\", \"heaven\", \"christians\", \"faith\", \"paul\", \"eternal\", \"christianity\", \"john\", \"father\", \"acts\", \"book\", \"word\", \"world\", \"life\", \"love\", \"also\", \"books\", \"believe\", \"would\", \"many\", \"words\", \"even\", \"time\", \"season\", \"players\", \"hockey\", \"games\", \"teams\", \"baseball\", \"fans\", \"puck\", \"winning\", \"score\", \"pitching\", \"playoffs\", \"scored\", \"cubs\", \"braves\", \"game\", \"pens\", \"espn\", \"defensive\", \"coach\", \"wins\", \"stanley\", \"plays\", \"hitter\", \"phillies\", \"traded\", \"maine\", \"mets\", \"defenseman\", \"arena\", \"bruins\", \"team\", \"league\", \"morris\", \"player\", \"sweden\", \"sports\", \"stats\", \"ball\", \"played\", \"flyers\", \"play\", \"playing\", \"year\", \"jose\", \"division\", \"last\", \"goal\", \"points\", \"pick\", \"runs\", \"good\", \"first\", \"lost\", \"best\", \"better\", \"average\", \"series\", \"would\", \"second\", \"back\", \"well\", \"think\", \"home\", \"time\", \"years\", \"great\", \"atheism\", \"universe\", \"atheist\", \"fallacy\", \"yankees\", \"arrogant\", \"dram\", \"retail\", \"creed\", \"morality\", \"filters\", \"believer\", \"asynchronous\", \"certainty\", \"premises\", \"soundblaster\", \"qemm\", \"theists\", \"theist\", \"messenger\", \"hawk\", \"forty\", \"react\", \"logos\", \"alarm\", \"beef\", \"inference\", \"logically\", \"kirlian\", \"questioning\", \"absolute\", \"assertion\", \"autos\", \"easter\", \"objective\", \"subjective\", \"argument\", \"reasoning\", \"definition\", \"exist\", \"existence\", \"conclusion\", \"belief\", \"beliefs\", \"arguments\", \"evidence\", \"truth\", \"science\", \"exists\", \"context\", \"meaning\", \"theory\", \"religion\", \"true\", \"therefore\", \"cannot\", \"statement\", \"claim\", \"believe\", \"sense\", \"question\", \"example\", \"must\", \"human\", \"reason\", \"mean\", \"think\", \"however\", \"many\", \"different\", \"based\", \"israeli\", \"arab\", \"tobacco\", \"arabs\", \"greece\", \"civilians\", \"smokeless\", \"ethnic\", \"occupied\", \"lebanon\", \"palestine\", \"cyprus\", \"territory\", \"azeris\", \"palestinians\", \"israelis\", \"lebanese\", \"holocaust\", \"gaza\", \"syria\", \"istanbul\", \"occupation\", \"iran\", \"homeland\", \"zionist\", \"conductor\", \"zionism\", \"refugees\", \"erzurum\", \"israel\", \"ships\", \"karabakh\", \"turkey\", \"turkish\", \"jews\", \"troops\", \"azerbaijan\", \"minister\", \"armenia\", \"jewish\", \"greek\", \"turks\", \"forces\", \"peace\", \"land\", \"army\", \"muslims\", \"military\", \"island\", \"countries\", \"muslim\", \"europe\", \"soldiers\", \"killed\", \"state\", \"government\", \"western\", \"anti\", \"rights\", \"human\", \"armenians\", \"world\", \"country\", \"circuit\", \"voltage\", \"wiring\", \"rockefeller\", \"circuits\", \"temperature\", \"analog\", \"exhaust\", \"clemens\", \"offset\", \"pipe\", \"cylinder\", \"plants\", \"cooling\", \"ctrl\", \"rounds\", \"cycles\", \"sensor\", \"promo\", \"amplifier\", \"wrist\", \"meter\", \"adjust\", \"pickup\", \"sampling\", \"orioles\", \"managing\", \"frequency\", \"coding\", \"measurements\", \"detect\", \"wire\", \"flow\", \"neutral\", \"electrical\", \"ground\", \"phase\", \"cycle\", \"water\", \"bits\", \"byte\", \"signal\", \"plane\", \"heat\", \"input\", \"current\", \"sequence\", \"test\", \"unit\", \"block\", \"data\", \"connected\", \"output\", \"high\", \"used\", \"power\", \"line\", \"time\", \"point\", \"normal\", \"usually\", \"plastic\", \"thanx\", \"fuse\", \"trips\", \"amps\", \"hong\", \"speedstar\", \"carbs\", \"scrolls\", \"hackers\", \"cheapest\", \"sticker\", \"feustel\", \"bout\", \"laserjet\", \"paradox\", \"odometer\", \"carb\", \"interval\", \"organs\", \"applelink\", \"nanao\", \"extraordinary\", \"isdn\", \"singled\", \"grammar\", \"subsequently\", \"philips\", \"rash\", \"tseng\", \"advance\", \"bandwidth\", \"appreciated\", \"hello\", \"replies\", \"thanks\", \"specs\", \"repost\", \"sony\", \"wondering\", \"appreciate\", \"please\", \"reply\", \"greatly\", \"anyone\", \"looking\", \"borland\", \"anybody\", \"diamond\", \"thank\", \"mail\", \"email\", \"interested\", \"help\", \"know\", \"post\", \"info\", \"would\", \"someone\", \"send\", \"address\", \"could\", \"information\", \"find\", \"like\", \"need\", \"tell\", \"lunar\", \"simms\", \"radar\", \"satellite\", \"spacecraft\", \"candida\", \"nubus\", \"quadra\", \"mars\", \"saturn\", \"vram\", \"eisa\", \"accelerator\", \"engines\", \"satellites\", \"simm\", \"cmos\", \"venus\", \"orbit\", \"detectors\", \"yeast\", \"ingr\", \"probes\", \"vpic\", \"suck\", \"powerpc\", \"jupiter\", \"orbiter\", \"orbital\", \"catbyte\", \"missions\", \"launch\", \"solar\", \"probe\", \"moon\", \"shuttle\", \"launched\", \"mission\", \"graphic\", \"centris\", \"space\", \"earth\", \"planetary\", \"ford\", \"rocket\", \"speed\", \"system\", \"data\", \"power\", \"koresh\", \"batf\", \"kent\", \"offense\", \"pitcher\", \"waco\", \"liar\", \"expose\", \"cooper\", \"stewart\", \"innings\", \"astros\", \"inning\", \"pitched\", \"chest\", \"weiss\", \"nords\", \"twins\", \"outs\", \"documentary\", \"ninth\", \"forged\", \"psalm\", \"davidian\", \"starters\", \"hemisphere\", \"dealt\", \"fluke\", \"insane\", \"eternity\", \"pain\", \"tear\", \"hawks\", \"compound\", \"shit\", \"mask\", \"convincing\", \"cult\", \"davidians\", \"surgery\", \"cheers\", \"nolan\", \"injury\", \"fire\", \"david\", \"main\", \"hell\", \"bobby\", \"event\", \"quotes\", \"left\", \"scorer\", \"hartford\", \"jagr\", \"grounded\", \"stevens\", \"hulk\", \"gerard\", \"tocchet\", \"wolverine\", \"comics\", \"amour\", \"fleury\", \"neely\", \"tigers\", \"carson\", \"fleet\", \"unassisted\", \"brind\", \"chelios\", \"gifs\", \"dineen\", \"courtnall\", \"mullen\", \"cassels\", \"shanahan\", \"sandstrom\", \"todd\", \"roenick\", \"juneau\", \"galley\", \"buffalo\", \"ncsl\", \"finals\", \"calgary\", \"lemieux\", \"winnipeg\", \"pittsburgh\", \"murphy\", \"period\", \"vernon\", \"philadelphia\", \"chicago\", \"nist\", \"detroit\", \"miller\", \"adams\", \"captain\", \"recchi\", \"louis\", \"angeles\", \"boston\", \"jersey\", \"vancouver\", \"play\", \"washington\", \"montreal\", \"power\", \"cover\", \"copies\", \"first\", \"third\", \"second\", \"toronto\", \"mark\", \"genocide\", \"sdpa\", \"fascist\", \"asala\", \"expos\", \"countersteering\", \"cape\", \"bounced\", \"canadiens\", \"collaboration\", \"invaded\", \"seal\", \"providence\", \"hojali\", \"springfield\", \"studio\", \"tamu\", \"adirondack\", \"exterminated\", \"kars\", \"missile\", \"utica\", \"tartars\", \"binghamton\", \"armies\", \"halifax\", \"tartar\", \"breton\", \"wholesale\", \"columns\", \"serdar\", \"armenian\", \"corpses\", \"argic\", \"london\", \"hitler\", \"professor\", \"armenians\", \"ottoman\", \"massacres\", \"german\", \"nazi\", \"soviet\", \"triangle\", \"baltimore\", \"slaughter\", \"russian\", \"million\", \"nazis\", \"massacre\", \"university\", \"history\", \"bodies\", \"published\", \"muslim\", \"percent\", \"dead\", \"eastern\", \"turkish\", \"turks\", \"armenia\", \"population\", \"source\", \"women\", \"mydisplay\", \"accelerators\", \"glutamate\", \"toplevel\", \"palette\", \"colormap\", \"headache\", \"inflammation\", \"methanol\", \"muscles\", \"lens\", \"popup\", \"width\", \"mercedes\", \"xtpointer\", \"xtsetarg\", \"foreground\", \"sedan\", \"envelope\", \"quantization\", \"mixer\", \"cmap\", \"buffering\", \"judicial\", \"theta\", \"gxxor\", \"fran\", \"dyer\", \"cubic\", \"xxxxx\", \"tuning\", \"sync\", \"neck\", \"pixmap\", \"lethal\", \"height\", \"cells\", \"allergic\", \"blue\", \"border\", \"shell\", \"colors\", \"green\", \"converter\", \"brain\", \"model\", \"weaver\", \"homosexuality\", \"homosexual\", \"homosexuals\", \"handguns\", \"hudson\", \"icons\", \"babies\", \"negotiating\", \"survivors\", \"oxford\", \"nissan\", \"smiley\", \"rifles\", \"sentra\", \"biker\", \"acids\", \"motto\", \"yamaha\", \"supra\", \"rocketry\", \"promiscuous\", \"extracting\", \"sqrt\", \"spider\", \"verbal\", \"retract\", \"bastard\", \"crossposting\", \"creature\", \"balloon\", \"dodge\", \"radius\", \"orientation\", \"sexual\", \"nick\", \"equation\", \"carrier\", \"immoral\", \"male\", \"company\", \"labor\", \"owns\", \"henrik\", \"allocation\", \"challenges\", \"revenues\", \"standpoint\", \"algorythm\", \"cheat\", \"rebuild\", \"earl\", \"spacewalks\", \"careers\", \"tesla\", \"graeme\", \"advisor\", \"norton\", \"consume\", \"grams\", \"coprocessor\", \"nagarno\", \"distributing\", \"repaired\", \"hinted\", \"activate\", \"transmits\", \"panther\", \"punch\", \"caste\", \"vent\", \"poison\", \"govern\", \"dont\", \"bolt\", \"planes\", \"poly\", \"teel\", \"motorola\", \"pack\", \"wave\", \"colorado\", \"cross\", \"progressive\", \"unit\", \"spec\", \"antenna\", \"writes\", \"desktop\", \"ghetto\", \"wanna\", \"firms\", \"sensitivity\", \"warsaw\", \"journals\", \"miami\", \"liturgy\", \"absolutes\", \"championship\", \"preferences\", \"unaware\", \"sued\", \"parish\", \"statutes\", \"unbelievable\", \"females\", \"neural\", \"cereals\", \"coated\", \"mellon\", \"projector\", \"breeding\", \"notebook\", \"symbol\", \"dock\", \"carnegie\", \"cheek\", \"macx\", \"northeast\", \"seizures\", \"doug\", \"andrew\", \"seizure\", \"assess\", \"female\", \"thursday\", \"friday\", \"wednesday\", \"sunday\", \"patterns\", \"june\", \"blind\"], \"Freq\": [6422.0, 3630.0, 1608.0, 1493.0, 1211.0, 1290.0, 1885.0, 1253.0, 4382.0, 1260.0, 4200.0, 2652.0, 1222.0, 966.0, 889.0, 641.0, 1124.0, 1645.0, 1044.0, 1290.0, 1606.0, 1647.0, 1583.0, 815.0, 801.0, 570.0, 3208.0, 917.0, 2115.0, 690.0, 203.4292876644532, 174.5880760193691, 137.25138590629714, 135.95560703950795, 130.4370960906303, 129.89612481330064, 99.71894237650504, 94.14410025824141, 92.39531188878708, 91.55023443916446, 85.41227730600605, 81.71184935361849, 72.6655020286317, 71.8294371033368, 67.81527149405699, 65.80171274526761, 63.07336479167794, 62.34775245913878, 61.44237555278179, 60.923264563920995, 60.581766249616216, 60.1345472070615, 59.83148806102224, 56.731335878523865, 55.3051646427545, 53.621158853496645, 53.645726370069056, 52.65224885683713, 50.81140316251033, 50.233155436677606, 180.9698803608142, 102.53206474859452, 343.87155838744656, 319.4445168732966, 151.83809289927956, 3732.6568782156864, 220.99116892716097, 202.59430447346463, 433.49746848108185, 160.00138059573757, 207.68412469520587, 1430.8577946971836, 179.9411336814551, 268.89517686201776, 2091.5657449139026, 895.0993892051454, 496.10144735393817, 406.8284950166444, 1054.0047936236183, 3589.7681756964275, 2147.7576193153855, 718.669796469099, 528.54408223134, 1443.5553886640098, 1180.9189992356364, 472.8562150311572, 2164.409709964379, 1464.3620794878186, 694.4271935465183, 703.2693244746235, 1005.9318268886564, 528.7147995727775, 868.1564997895102, 518.2210743918766, 604.7501931994412, 1053.336455362561, 1360.2300544993614, 847.3989555681969, 768.3873232915277, 1332.597816881489, 635.7633653607511, 1000.707200590578, 789.8235719122778, 993.4344289692846, 953.8276355365567, 960.439010507315, 702.9136826288802, 687.1431765161792, 645.0865961754338, 680.0352912834848, 565.1882570216612, 423.7271035988226, 356.71300148044344, 325.53623702262183, 249.65379504554588, 248.84547252605643, 227.71018476306247, 217.15747650484906, 207.99190634157011, 202.4597844142486, 192.23406369479304, 190.459904202966, 188.98647139572645, 158.28788757580557, 157.17838232216266, 112.83568225324267, 107.98776135522193, 106.99643627936736, 92.9087041491505, 92.1578502089875, 87.85017069396181, 86.55782756851927, 76.79177947541459, 74.88642972512727, 74.77481159387067, 73.04317872406477, 73.01837469489664, 71.83835277712481, 69.07754271749376, 68.95776636622475, 475.3711698860142, 145.37958196531613, 236.77677950249532, 493.9026426524418, 360.84359441541733, 155.85894225167894, 139.92714203159397, 314.26218503157287, 991.1697149691278, 209.1969286431843, 744.1546733841143, 392.83815708926454, 165.73275739081697, 222.04186870009914, 261.02802592457317, 230.90098622312968, 274.33073840131425, 416.7340395551501, 417.51836880025525, 291.59621757277415, 233.31701014288885, 403.10750655052556, 415.43308216012923, 324.0399130607823, 438.1618831146757, 250.52434299469516, 494.61554946830796, 437.2618439602642, 468.89374588486453, 299.86318007055684, 242.73063326589266, 386.7447521586986, 425.40100819441034, 256.24016422077415, 301.968152850278, 275.6110468854341, 268.065301440052, 1123.3442973226013, 633.7996423601735, 336.38126840499365, 316.14327716680316, 174.87046500271282, 133.6289695480546, 112.9941831960963, 113.46960586119405, 98.74127120001964, 95.13802046072495, 93.32131552634564, 90.16646802310287, 86.27524823775711, 83.74462156727502, 75.27886389950203, 74.79178833195655, 65.00807107990724, 59.1401454263322, 52.402747825081626, 51.93371146818191, 51.88003271909875, 171.64377575226945, 47.63358790365675, 46.99818118481879, 115.20247291702628, 43.89248856123959, 44.54204643877191, 55.308923177828554, 42.23231569815159, 40.99332970745562, 245.67284757746816, 74.55973746288541, 263.6078516788933, 110.47249735709147, 740.537843059087, 294.7448571554559, 662.7282343283343, 139.2654745233234, 279.1887106575296, 397.9281967630951, 548.0956339172978, 319.36580265683546, 328.5707290782307, 250.73217658591804, 200.73898565731199, 293.78329858225675, 421.05826846237085, 382.35681315274564, 234.78081045113626, 304.50493662711756, 577.9537122500863, 307.38159992127527, 267.98668719529735, 285.4463699122834, 207.02473341473066, 761.3469671847971, 247.62319796763606, 1027.6607229673684, 317.7561153887316, 636.3405715243213, 569.3340529947951, 685.7652178489066, 442.9880518226088, 536.1896198502136, 380.76333079002535, 641.9540857900771, 465.26997677955745, 673.2194701281787, 474.34359845371955, 432.4865079023955, 383.8146694601304, 327.45144275929795, 353.0649387154227, 349.27447630532146, 341.25118007495973, 271.9306660638565, 89.78641121182785, 88.53329693037084, 85.10155690547872, 78.81719013444169, 68.87827698505875, 68.70206449192884, 67.96434249269514, 66.99803095116087, 65.63422579966183, 61.860170777070756, 59.00745929555812, 57.74492350040296, 56.05154013616505, 53.96799806723043, 51.03031819573865, 50.686006620937825, 49.14310267784598, 48.06061365120997, 47.84645560122388, 46.38557019812251, 44.24253860508942, 44.13159352894425, 44.1239779377706, 44.05286642839357, 44.05077187602279, 71.10408444043128, 452.65582593695024, 83.51852546981196, 40.14737361057078, 118.53667661783936, 290.12534079403645, 183.004202323235, 181.788186244957, 76.95289023755623, 160.85789371952964, 112.46370340541662, 196.1337780803921, 355.9333694248087, 138.42693783181787, 76.56932500366008, 67.7684608023337, 228.36041786624114, 401.0082635469913, 1179.9848204816315, 202.10156292571398, 523.8260357399644, 264.2982125520321, 235.1493519762755, 213.81156706749266, 424.5306745224358, 716.5548925393471, 107.15475722794352, 629.1887882275673, 328.4386915137995, 183.85685196089665, 723.5823355256655, 267.9897512143474, 744.8222722685761, 904.3166891861566, 276.85654482771884, 431.9097269170997, 312.21748231392814, 353.7046385992499, 625.0083264935196, 429.40736440533783, 366.9364687614006, 371.2579725150148, 464.5482653254256, 449.4999842693477, 396.7287038003975, 307.3280185743426, 386.4784358382955, 747.4322910650236, 424.3672199981079, 313.35439792644144, 291.84591361939084, 315.13566245892383, 341.75121092985955, 336.66276736303047, 316.2907326239707, 319.30354350812127, 270.1002653956492, 241.71353041493074, 423.7165753716433, 201.39821287575973, 181.44474268354875, 173.73143292697443, 172.9070390031758, 145.98424280055207, 121.17756426559083, 140.67595021804382, 92.34406908006648, 89.71181500073632, 87.09963109456841, 81.95709779473927, 76.78604080180767, 69.82896499616604, 1244.667715309802, 69.08100421108296, 62.30501778582384, 62.261797546567095, 61.81447315717, 58.022875236497214, 58.00792896929437, 56.38501499700649, 55.88847243872329, 53.22295459083186, 240.71076167103675, 52.095038605897194, 51.70932594853708, 682.652034660332, 386.6302619775171, 217.36297199963263, 793.4111997841876, 554.8345911898763, 106.24230328673582, 1612.7285721333737, 730.5492716888225, 172.2443718295684, 95.90848558904152, 471.81033361642477, 705.9879672063933, 150.8673344287803, 328.307855592197, 149.01098214518905, 1009.9618939553408, 347.45979520994433, 211.07018655441408, 137.63443108690305, 348.84572853161035, 325.67535179181823, 358.3084914651357, 308.6734364107715, 662.7600328417783, 380.4859033244218, 486.3526816476861, 458.8405992640214, 378.38717364088143, 271.57378606286653, 364.8323521206241, 536.8436139758232, 303.7390409804553, 331.04735098849306, 345.61326528759656, 342.9918602004873, 345.8421207552124, 306.65049244100595, 162.02417247633622, 151.8243501176227, 122.76373564663847, 119.56742278962675, 116.30561206137851, 110.06210386506478, 96.09219892697274, 357.37921974023766, 90.87373032292666, 79.88389063757857, 79.93695856136637, 76.15550906708185, 68.77913880842596, 67.35231895184032, 65.96109812993441, 63.798869012138724, 63.529666483605425, 63.12778159010017, 62.120734032876975, 57.82147050558233, 51.90005279938757, 51.8292397654373, 51.66109229114533, 50.18053488397332, 48.54550294470293, 48.45537954794849, 47.56532416277292, 47.47660279712801, 47.17784043060472, 46.45555166947942, 251.67611848323622, 58.80411016599714, 194.12410580140417, 235.26775081743008, 76.62020495429431, 265.7706744498847, 190.29986715469013, 207.26670357051546, 470.4047235210967, 158.2268360862553, 215.56254257147475, 216.62061987591755, 99.316159000431, 131.43934511607975, 183.94539342751602, 125.01784174636738, 272.82452314617007, 116.0260093916297, 376.91477803677174, 219.86385683084006, 407.81668205649277, 226.24916687208895, 543.8130970173221, 349.8704600783342, 375.7817025308875, 348.75583279075096, 313.5285414282555, 366.68853890085404, 193.1611155023603, 166.38108250065397, 199.45386637937492, 260.8222663337076, 248.6182509668318, 191.8409797502916, 297.3629134769361, 338.578007672371, 275.0045601516406, 253.63303583941854, 222.72488754980068, 251.53375582585724, 229.12441041984954, 231.0366469278963, 204.15538309491404, 966.0803657895406, 555.7496797589342, 484.3095750523819, 399.823693010105, 212.17593030818267, 210.32810123931114, 196.84466361798042, 169.3229620094628, 160.91011425046406, 147.30062978044253, 141.4779918492484, 135.89713677156178, 114.79266985789445, 108.36063388230953, 107.6020932709802, 99.58755727204048, 99.18060785636436, 96.82893461083368, 95.71887430762283, 94.92360220878929, 92.59982973496223, 90.82764450613493, 90.54399619431767, 86.63980445689126, 84.1643224307229, 83.04305033611502, 80.2459657961297, 79.81627103068699, 79.67384266790779, 78.90537018269423, 575.3820985253374, 186.64110400291602, 119.79859885950992, 150.76151243430127, 358.38599886394735, 269.81922496370595, 236.08075663457754, 126.25832824586064, 181.8582596185177, 278.4720107789032, 194.49364820714905, 140.30035333143712, 270.1927892683917, 256.342051072773, 300.994726402034, 241.78279630448176, 182.10903764650064, 332.51790777970524, 161.79275680789488, 232.06265938888905, 266.7749375843209, 221.2503166618702, 163.15052762728425, 185.8875972571119, 174.8698384948543, 460.9861947156896, 396.0296455832956, 382.88495884696584, 611.5722985942525, 282.9246248262138, 208.56953637853502, 143.63425175983986, 140.28932379384185, 132.21651125033173, 117.56686994703169, 113.01768478088512, 112.59848853374923, 105.83785265223541, 103.40379970014644, 99.43463907717846, 881.0903226904497, 88.59972354514885, 86.5793305518418, 85.75622596305645, 83.73232215274447, 83.51341273190253, 70.93676209673784, 69.63037417314769, 63.99956969383641, 63.99096877926743, 63.94515203025973, 61.853726637382685, 61.72544091434739, 58.05769978276905, 54.40568687653562, 69.36206673511573, 779.2384919762964, 373.0041107714964, 94.40485946282953, 262.26869188108503, 73.81933659853746, 101.91173769863244, 118.53764020355692, 141.914562004286, 175.10782208575148, 92.77210058920254, 406.90416054793116, 146.37375753322215, 715.4823369711592, 119.12305426180329, 170.3837770974053, 418.8456351099098, 162.4361680379211, 191.50556845280593, 151.56720697443382, 183.78221723271136, 347.86708372313643, 311.59933426182, 161.79934810393004, 216.4516141012145, 219.82857386918405, 145.23349348583935, 153.5916802650961, 231.11233972308534, 177.02728789656342, 186.7873356865917, 196.1958555853353, 192.33245392144278, 163.63911014942568, 184.630484633676, 172.01310147613614, 164.6553683827976, 180.89748389520528, 166.71463369134864, 122.63055813128179, 63.98088298144208, 61.730941493263764, 57.853447610561695, 42.725888860270786, 41.89027984891753, 39.997154454064855, 159.44012669226476, 36.482130956468794, 36.35490194502086, 34.527721775813916, 38.76630349729993, 32.286944311012746, 32.12219046061149, 31.233776618996746, 30.675972543834423, 27.422615174195773, 27.356471378162677, 27.018837184257023, 26.80802989676487, 26.615272657484695, 26.336777689197646, 24.863171951742512, 24.609423817981504, 24.50651719685661, 24.104494072716246, 24.064586389114474, 23.877761440156988, 138.12504517187517, 48.71842047423137, 72.40729183340223, 69.7880689958311, 210.7678911272956, 56.638261375230464, 332.25577596445413, 93.01902711320633, 143.23305988807317, 313.4754851529258, 193.23607191228143, 148.07823691102826, 166.11014571811552, 141.1587936216015, 132.61971096758765, 330.41210948883577, 271.35302687857535, 297.4736706296396, 154.08136721941474, 151.9531593072139, 157.61815403146662, 164.3898510241704, 216.22615422125693, 374.08206650604154, 170.52222086917695, 257.8449188510035, 167.9242252060157, 189.75054604572927, 369.10537631553103, 170.1850880654994, 288.59872602242746, 251.27466158776764, 280.13799924327003, 203.42559219796345, 211.58337999414854, 189.3016975421171, 205.05110924601667, 175.8158293979307, 184.60068262039294, 169.62748256072445, 161.1135488462711, 363.08266853725013, 240.1559858251937, 149.83659732590604, 113.6076399228982, 107.60899461954331, 95.48813296818389, 92.31609528862657, 88.4058079330464, 82.51570158778958, 82.30685687910633, 80.18108483774205, 76.75066544406222, 76.75019543812152, 76.66646144872125, 76.39577854463361, 74.63799684418252, 69.09964132423276, 64.47619693737744, 63.099091686462984, 60.55099499673086, 60.256017647639645, 59.85305643367343, 59.36034434391095, 54.69540977746312, 51.88978629820752, 49.763702270141216, 47.480745655816776, 42.79645575851803, 40.3738790173793, 580.256368702676, 63.479792446651736, 97.72535314234814, 271.5075376141315, 403.8351981164907, 509.28456405983815, 118.91495510879287, 147.3834094219918, 74.90666196414543, 174.93788045865162, 257.7661035828015, 231.5975990297484, 165.53259157937558, 124.9947736795263, 189.13390747724344, 184.04957769600642, 157.31345183050468, 142.75445056888398, 208.22423601311831, 112.45121461646677, 135.0248382143498, 129.61119633969864, 126.66332718320139, 130.41493080894162, 161.2269157779599, 211.47121532956461, 229.8812345769335, 124.78450274591957, 144.9514852351187, 154.56547295916533, 161.79518537446467, 159.1625038225086, 179.23939103500663, 131.27322648505887, 145.8827852124834, 106.98896258571952, 126.55783555930923, 76.08065942403046, 75.56671806479908, 74.88720740573056, 68.50782309810235, 59.29562480573366, 56.90516927912402, 54.97407860788919, 51.83078870879419, 51.02807627907186, 46.162549520838766, 44.61981428218307, 43.677470073925214, 40.664627567315634, 40.327608631723415, 37.75461816283607, 37.15959512225643, 36.91817822224953, 36.88333286534942, 36.27638904477765, 34.46067813300277, 33.87096777215101, 32.76224499010296, 32.412097185703765, 32.199106761062744, 85.40269773365517, 31.926535724920097, 30.659361178341584, 55.725364297845665, 206.6660010968261, 72.24215080021673, 118.28339947087419, 101.69682327875181, 253.58560893441606, 67.51997906291477, 65.00028423263454, 195.74245621099712, 179.36712963119945, 99.6104568065937, 91.93610026541629, 73.76938465829657, 74.66098913633148, 143.66630611943918, 188.5892313407924, 64.9612527752146, 114.73915217177978, 96.63391809663419, 86.85745208495985, 149.06189276164517, 74.48588903461541, 122.23663868835096, 122.12559931545225, 141.10325982257947, 110.47776006374181, 107.03239556190579, 119.5063463226003, 98.07842552594316, 77.12935620279696, 76.84024162753457, 100.02794750051754, 55.55920415080184, 36.419493041105994, 33.93102315845753, 33.48492695202616, 31.95574521599783, 27.7801249764025, 25.77796672568688, 22.991438705316522, 22.359397532676812, 21.988379863066264, 21.77293323336264, 21.061034345752287, 20.176046092976822, 18.909558174749083, 42.435188204800376, 17.532469844455594, 17.405649225993653, 17.276614841064323, 16.76374143663853, 15.880394956003398, 15.849475294595527, 15.831450052209165, 15.70727248138622, 15.48931524185186, 15.442601230103673, 15.435481556204422, 15.181019433210377, 14.913402582399275, 14.822452059281567, 298.28450590395664, 51.7444746553061, 240.19826963419763, 147.248940312369, 94.16483439240227, 942.4820992956957, 65.00286017484036, 22.611899347767555, 84.15853689066307, 133.5643881931361, 147.38643815826933, 819.5326105682869, 211.00247354049856, 121.95660704570024, 743.9820471315381, 342.9483073111353, 58.68901553700459, 219.2226234236161, 54.90211624852747, 130.74880605772594, 414.8511498954259, 296.33505790092875, 209.71950739048955, 346.29140293731024, 606.9561547780002, 211.56843053022672, 209.46582961899787, 627.4308572622465, 202.58547540609604, 180.06364975181907, 152.69608909884266, 255.99808189240068, 157.55444679071564, 142.80132249894277, 162.20211876375095, 137.85887136564529, 107.29193294256153, 156.62236603558506, 141.16167876127528, 133.48649759587624, 204.57982420203592, 101.97272408201329, 84.36825232365813, 83.7035544356621, 83.62009512323326, 81.50341226759674, 77.85384303839243, 76.09662978720525, 74.40147621994765, 59.16714844538791, 57.82554551738641, 104.90703870573185, 53.70548136105992, 50.110869057553295, 49.67027727548453, 170.0099462185877, 44.00492927315654, 42.65264936935632, 38.90920268770135, 38.52310725590368, 38.32298913624508, 38.317108235136686, 38.03976189373819, 37.856631775145445, 40.10621157660613, 61.08660985822244, 33.863172571418424, 75.19135927017847, 216.60315713296336, 111.45815699442106, 70.69822140547943, 129.1914985184239, 142.68981473705458, 75.46314444878126, 135.24556076158683, 81.37898838705883, 62.06908956494669, 570.6510351421899, 183.1603567017446, 64.66866482013904, 65.07808972953757, 71.1435407468858, 96.83016725297459, 75.45590465984395, 67.98621626288349, 66.27088111784163, 173.02616411525574, 93.7187015538268, 83.05606655639751, 73.54416484152512, 64.19549231980069, 63.44995805416618, 60.69948209740659, 60.535890724185904, 52.19460195364019, 42.907801861006845, 42.02522938711335, 40.22572763520503, 40.16416037636041, 38.63590131725289, 34.947073801880435, 32.41343974959016, 32.12116043089839, 31.58051277381398, 30.73122062438118, 30.715948697981137, 30.374030588210434, 29.522525116110963, 28.92517615652941, 28.649640959162944, 26.90074381186084, 25.876976442669953, 25.47841236346878, 25.42304743836963, 25.15439869266379, 24.225532563085302, 225.97611273168602, 53.844845273354125, 54.41761629077803, 84.40403371670854, 61.98104957771742, 63.295635807991985, 39.00018404651456, 41.72203436345185, 34.969679874753226, 43.358659041727364, 61.73227881702174, 33.58782204948856, 46.69288208422605, 77.61983085624416, 87.6094547940836, 70.37864393549562, 61.120529846030045, 41.47347822798445, 45.864948498526644, 39.767630206549136, 39.848151555866544, 110.99626908520561, 82.0384763181548, 51.25208093843788, 46.32310879880971, 42.53134040357687, 37.389425363038974, 35.17723659849845, 35.122724874417266, 33.76869840281028, 33.54194411005216, 33.42025116972482, 32.11244695446823, 32.06136092943736, 32.04560468827221, 31.959800963932167, 31.914500125193765, 31.523578830972422, 31.34940786686466, 31.07648397019111, 29.248503314413092, 28.897199686730442, 28.402240471783063, 28.22139252076551, 27.580238883954635, 27.535316484592588, 27.422648500697044, 26.77609634391302, 26.57880108852132, 26.341234947319563, 26.171116575316, 77.98944483487516, 65.76673490686315, 48.26293968035262, 99.49187658284345, 61.715623652402144, 64.78329930802423, 150.65284577334074, 58.91037431423122, 269.89919856797644, 35.06807493769428, 99.44478556131602, 128.94739281767764, 82.07403645642351, 103.46096192517359, 46.12682710279121, 51.72781214228919, 46.92997418273415, 40.21582452618242, 77.31097213938982, 84.64210631971201, 90.5035004302463, 57.070796959650785, 71.56325463595847, 133.17867412305594, 107.02888178390329, 66.81083927389771, 158.08859376039646, 73.0350810584821, 62.63902889381945, 95.80242174109132, 70.29547614361161, 72.98979996440681, 58.03399427879762, 55.28682715795438, 188.94371333711618, 47.55468186370094, 42.58968434400212, 38.58412534456969, 35.89581600044844, 32.59726157876175, 31.333187002344957, 30.481207441191632, 30.163771205650743, 29.926560378747748, 29.48593663197503, 28.31121059304108, 28.279304913908824, 27.592511478251023, 27.12757307679702, 24.520624793952088, 22.785235418722035, 22.01899684202492, 21.749308560947796, 20.623586170285044, 20.5455988976536, 20.466929285745667, 19.468332072556166, 19.188302876564244, 18.574783518165084, 18.248601651666007, 17.875180426182403, 17.3456646142669, 16.902373110461788, 16.545086365786894, 83.72090007428432, 562.8678355034085, 30.905448727372285, 82.83097802678867, 61.87077904421299, 74.50553538584285, 94.14416323102289, 383.4568567517339, 71.79796259307322, 36.99809403490525, 123.14072044773735, 100.35204174285154, 110.70209242240506, 30.58495775997784, 49.47693269287859, 38.79349925617433, 128.073957601298, 115.47559900570396, 56.296149288706324, 51.87476136185851, 139.93099248072124, 118.91201123306705, 49.35184347681136, 67.8108393900186, 63.50232806978008, 50.44251226663341, 67.4012652393044, 42.658796467571975, 58.238832388441146, 50.11883073132574, 49.147347027442386, 50.35512545457048, 55.53208724794209, 49.72688999654383, 34.016878795898386, 30.26889674566744, 27.774947116679336, 23.72378397165335, 23.44920787258131, 60.634979007357664, 21.458078012256077, 20.106995694702267, 20.09585550408919, 19.396908105208716, 17.801719993516738, 17.556262307648133, 47.33827137174978, 17.100111865052153, 17.058700493685247, 16.77341259007395, 16.752940471671952, 14.894510193966454, 14.80885665883531, 14.37404048852356, 14.360263247958597, 14.277183258311112, 13.462730918844127, 13.187840526471701, 13.173005236885226, 13.157948219833408, 12.75033994694362, 12.623347155689155, 11.979869295286443, 10.800822734859175, 15.245718964640341, 33.3107263307412, 24.997627634289838, 38.031469825305905, 18.465680735790638, 36.38801293602519, 30.111902936735845, 18.041281450962305, 31.710271653573876, 24.69220127982147, 29.871175795576853, 24.919077988825002, 22.145706546934903, 19.439701506019794, 19.658445337702318, 21.26082237046722, 52.60359591395729, 52.39394709583882, 51.53119199811423, 48.61962353451279, 47.8678273779885, 26.563199098278695, 25.516614383584336, 23.373233787126555, 20.699074296724785, 20.352241090085403, 20.078620321868076, 18.901493021146102, 17.779496980019772, 17.130807821489302, 16.10289001092213, 15.49891694888657, 15.279691253418948, 15.133533983180154, 15.467091107910202, 14.41432349843527, 14.35107376375316, 13.053267706013845, 12.890404905361494, 12.677198746425416, 12.396777116367057, 11.138107181248024, 10.398494110980046, 10.328545613362547, 10.239303646754813, 10.20379902099939, 30.455895056079896, 24.220422563279474, 39.13420960921057, 27.34881471125267, 40.37021681145321, 23.755997210749086, 16.86066486441571, 14.4092755135953, 16.80523053227911, 16.67165829556726, 19.746291608181693, 16.527051853968892, 15.194387080393, 95.15973764740147, 39.28082637024969, 18.034191688777593, 14.990259413088577, 14.595167205262818, 12.788622094684294, 12.26786123453056, 11.81186598425477, 11.169006714032491, 11.04941286513367, 10.931671532216086, 10.496426314288579, 10.277648304839026, 9.937658127618459, 61.49101535317361, 9.435247200663145, 9.29515352280232, 22.157326146260576, 8.34253656331704, 8.124145231828102, 8.032765395083732, 7.937736969565039, 7.392626349556052, 7.317747299771441, 7.3009120658610005, 7.288555219834262, 7.135093773173853, 7.080369996172835, 7.501343511854707, 6.995527460026196, 27.29321651654973, 19.98192985573241, 27.697797919469927, 9.52243002302892, 10.840514940917387, 30.915875121751753, 22.73834053098279, 29.02423305946209, 33.20067515962847, 33.52940702690212, 9.747806830878215, 24.248408107790915, 14.028144834152421, 11.596429917005114, 12.18794526203025, 11.518791048050637, 19.975601649011626, 19.480952514144324, 15.912065291439793, 13.398422010044726, 13.326709294465484, 13.160491230456017, 12.827183790261836, 12.65871371939942, 12.501074729115476, 11.772800735169968, 11.651084381977864, 11.300489214573243, 10.965132328989077, 10.702106269330695, 10.308234441132885, 9.874918236290457, 9.833367071488764, 9.606857928508418, 9.563174655366781, 9.241508541602926, 9.194409277907559, 9.101309199626645, 8.921357170543734, 8.86496763386869, 39.23417444411727, 7.843593160704774, 7.710816355865843, 7.630556589145298, 7.592663446057126, 7.213792336787545, 14.46786163740939, 40.81566412967133, 43.759674559315684, 11.296614481882802, 9.68984929613393, 15.53176210241551, 18.276638230318785, 21.2379244717934, 14.578971068112551, 15.162911083161283, 11.250391743341508, 12.859303186944281, 11.378626554200235], \"Total\": [6422.0, 3630.0, 1608.0, 1493.0, 1211.0, 1290.0, 1885.0, 1253.0, 4382.0, 1260.0, 4200.0, 2652.0, 1222.0, 966.0, 889.0, 641.0, 1124.0, 1645.0, 1044.0, 1290.0, 1606.0, 1647.0, 1583.0, 815.0, 801.0, 570.0, 3208.0, 917.0, 2115.0, 690.0, 204.33039956633368, 175.48918791420783, 138.15249780024476, 136.86669329002828, 131.3382079806211, 130.79723670329145, 100.62005427972326, 95.04521214823232, 93.29642378581974, 92.45134633400328, 86.31338919995378, 82.6129612436094, 73.56661392170756, 72.73054934387125, 68.7163833974652, 66.70282466318967, 63.974872494847226, 63.248864381230625, 62.34530593940236, 61.8243764574033, 61.482878139607124, 61.03565979640006, 60.73259997852762, 57.63244777555653, 56.20627653670222, 54.52227075052931, 54.549897468802705, 53.55336074682804, 51.71257199031691, 51.13426733075559, 184.22351044043626, 104.43854646142942, 360.0938219362601, 334.4067618466865, 158.81430206293993, 4382.656158578101, 240.35626149424138, 221.88952167775844, 502.22115052045785, 173.1998318286866, 232.91533692114922, 1915.17546012508, 204.20245207563244, 320.03526242178236, 3208.698468578381, 1237.1146610088254, 640.786412412682, 514.58000712823, 1545.0284817968459, 6422.481399267172, 3630.102298309253, 1044.8626410072827, 731.9731541349821, 2429.0911213668483, 1942.9268505744055, 648.1341403580993, 4200.043451720867, 2652.1365504371597, 1053.9514714434508, 1077.093132794753, 1688.9062439783047, 756.764596835459, 1423.1058046282155, 741.6256988389615, 908.8003514477994, 1868.5645792982154, 2654.313385098455, 1470.3657832699132, 1310.822991478036, 3168.6815499771756, 1025.3207695990104, 2202.86545489506, 1494.2420143637546, 2291.140892092793, 2160.4685646481184, 2612.800688937359, 1369.627975964265, 1413.101446648453, 1297.9489901257807, 3638.7626521660295, 566.0869686789836, 424.62581529460874, 357.6117131532813, 326.4349488759031, 250.55516114273297, 249.74418422029603, 228.6088964203847, 218.056197885627, 208.89061799889234, 203.35856727407162, 193.13277535211526, 191.3586158602882, 189.88518484532574, 159.1865992331278, 158.07709397948489, 113.73439482344573, 108.88647301254426, 107.89514793668968, 93.80741580647282, 93.05695110983942, 88.74888236348309, 87.45847486911967, 77.69049118907968, 75.7851413824496, 75.67367542462004, 73.94189099431638, 73.91708635221896, 72.73706443444713, 69.97625446283625, 69.85647802354707, 488.563463693478, 147.75338146442846, 245.83993144720685, 528.331053325547, 387.82445009771584, 165.77665907808202, 147.74308114447174, 352.71158708997314, 1290.458635467437, 231.28673929337387, 954.1848590684227, 466.3129955643401, 182.24344107989415, 261.6074349850133, 324.02246246631086, 283.55276987485024, 359.88712399686233, 637.0907692226318, 656.1404403962016, 395.4000557808947, 292.707687947888, 712.1726883095849, 786.1836315903555, 509.3365810943963, 967.3357250554355, 338.27967991004084, 1462.6936845136624, 1645.1064430153829, 2115.859156510879, 614.9588987774414, 330.5422371776404, 2046.452973576137, 6422.481399267172, 477.8533224854638, 4382.656158578101, 1561.3485401733394, 3638.7626521660295, 1124.2456506330366, 634.7063516891455, 337.28232476576926, 317.0443382247893, 175.77164662153157, 134.53002165386735, 113.89533128757922, 114.39050052534168, 99.64232320765586, 96.03907340391544, 94.22246196103313, 91.06752003073909, 87.17630024539334, 84.64567358522791, 76.17991596065569, 75.69284034405257, 65.90912309655171, 60.04119743396841, 53.303799832717836, 52.83476347581812, 52.781084730691774, 174.77163631457847, 48.53464010863402, 47.899233198640566, 117.47191102752619, 44.79354057307394, 45.464609373420025, 56.45978171599434, 43.13337122052244, 41.89438360270278, 252.55423841100085, 76.22368388682133, 273.99046919188515, 114.11863995330134, 807.7283542465466, 312.46287793533094, 722.8758038940548, 145.2484247583514, 299.8384636623086, 443.5388473693729, 637.0729459430506, 362.3868399915728, 381.0958733869535, 285.1922588106039, 228.6813472103434, 350.8217703048004, 536.9044645400063, 488.60861437551233, 280.5850569544508, 390.14049078215265, 855.0175493891552, 399.0469845471616, 352.67929075350844, 416.48804105225713, 272.2902886751765, 2115.859156510879, 371.43707569071864, 4200.043451720867, 571.8103636499926, 2046.452973576137, 1733.810889292724, 2612.800688937359, 1127.0744022165775, 1761.724021538134, 843.1165211954486, 3638.7626521660295, 1663.9582701440802, 6422.481399267172, 2202.86545489506, 2160.4685646481184, 1868.5645792982154, 1024.622657045523, 3630.102298309253, 3208.698468578381, 2654.313385098455, 272.8284986915335, 90.68424365109115, 89.43112957793299, 85.99938934530128, 79.71502257755243, 69.77610942036523, 69.5998969317514, 68.8621851802887, 67.89586339345014, 66.53205832608235, 62.75800348231722, 59.90529173705016, 58.64275593570943, 56.94937260588261, 54.8658305025369, 51.928150637215, 51.583839056244294, 50.04093513306168, 48.95844608651644, 48.744288045562506, 47.28340263342898, 45.14037104039589, 45.02942596425072, 45.021810395657454, 44.95069909046757, 44.94860431504646, 72.60257956229749, 462.44335024919644, 85.38260127697085, 41.04520604587725, 121.92784843800602, 304.25153043765874, 193.39114093927424, 194.49690127361274, 79.91692375271532, 172.34638309393196, 118.80412301798358, 212.16487164655186, 399.80041034864416, 148.05679233836236, 79.69172846060997, 70.15278461712927, 260.7218325583134, 482.04252219388405, 1583.3275965611306, 233.21154279528955, 679.0609469984098, 318.18250633563804, 279.38840788932555, 251.1871995149238, 546.6080254939329, 1060.119088616561, 116.73261260996813, 917.5702354396072, 430.57291713987115, 220.81700904356356, 1132.8470577453324, 349.47175447816835, 1253.6353059328246, 1645.1064430153829, 391.44938226727203, 707.1338934873576, 464.96551819251545, 571.562592212193, 1356.1878324796808, 801.1859897776718, 639.6569408203223, 653.6008644839097, 1023.6669204891526, 989.3344685948055, 843.1165211954486, 527.6827979437622, 866.6189104307741, 3638.7626521660295, 2115.859156510879, 651.2862128184266, 485.8511132247605, 715.8390745547717, 1290.1129013531304, 1181.1412166762798, 1647.5899128649291, 320.20847702225507, 271.0053842744986, 242.61846339636529, 425.44634401855313, 202.30330175185912, 182.34967693725505, 174.63872066592933, 173.81197272418297, 146.8891757819866, 122.08320232644905, 141.7847846962316, 93.24900206150109, 90.61674798217093, 88.01389884248907, 82.86203078134571, 77.69097378324228, 70.73389883095365, 1260.9299613349438, 69.98634732090368, 63.209950790464426, 63.166979803221, 62.719406226713296, 58.92785154287238, 58.91297184190898, 57.289948174831906, 56.79340542015789, 54.12788757598366, 244.85724463627523, 52.999973759503085, 52.614258929971676, 700.6979611099725, 397.0796530403588, 223.82242476973596, 841.1944409111395, 585.573183159497, 108.83578701509005, 1885.2747898102589, 853.6387341319142, 184.77613182317072, 99.68725090612263, 545.9855892846512, 923.0703993884209, 166.6703470052224, 406.1347792017592, 166.0398691323279, 1647.5899128649291, 463.8423888191782, 258.8070543850755, 153.16043331707934, 541.653979541108, 507.9870378500809, 604.1799557627255, 484.0450374535655, 1561.3485401733394, 665.3731474999544, 1055.1226134259011, 989.3344685948055, 715.8390745547717, 411.13789391293693, 734.2201672791025, 1663.9582701440802, 644.4849034567628, 855.6368179680645, 1207.7155117531572, 1761.724021538134, 3168.6815499771756, 4200.043451720867, 162.92477543212576, 152.7249436713764, 123.66432907024969, 120.46802938850335, 117.20620548498974, 110.96269731453445, 96.99279235058397, 360.7643699499966, 91.7743292516935, 80.78448745699313, 80.84287317304778, 77.05610308679323, 69.67973224318877, 68.25291238867885, 66.86169214149217, 64.69946244092178, 64.43026030833903, 64.02837502205068, 63.021382286843156, 58.72207413673865, 52.80064622671598, 52.729833197937545, 52.561685727353485, 51.081128307584535, 49.44609637732239, 49.3559729715597, 48.465917596526516, 48.37719636815222, 48.07843387344864, 47.35614513704925, 260.1187749639498, 60.45251720088156, 218.9134327213498, 269.9534591653106, 80.98652621415228, 315.83367672997025, 219.7840803886513, 248.47288589858783, 671.2977725268844, 195.81832798342572, 292.13836462788856, 308.17835882589117, 116.24144848379098, 169.71253977049975, 277.3481649532547, 169.34229338428446, 597.5513585563353, 166.21916480241487, 1290.1129013531304, 523.1656467517137, 1606.6876396777159, 568.4061760667037, 3168.6815499771756, 1470.3657832699132, 1761.724021538134, 1571.3959801689532, 1492.3232110031886, 2299.889439666104, 485.8511132247605, 343.44990444455937, 610.9515112789421, 1423.760484026541, 1220.6832852350244, 582.2329980797501, 3638.7626521660295, 6422.481399267172, 3208.698468578381, 2654.313385098455, 1257.8859140401576, 3630.102298309253, 1915.17546012508, 2202.86545489506, 4200.043451720867, 966.9819877773264, 556.6519955484968, 485.21131784160565, 400.72531510072, 213.07755223261057, 211.22972316610225, 197.74628552782423, 170.2245839504141, 161.8117362164681, 148.20225169028635, 142.37961376474132, 136.7987586919026, 115.69429178468559, 109.26225579215338, 108.50371518082406, 100.48917918188434, 100.0822298057519, 97.73055653450078, 96.62049621746668, 95.82522411863314, 93.50145172477619, 91.72926641597878, 91.44561810900943, 87.54142637158301, 85.06594434621584, 83.94467224595887, 81.14758770597355, 80.71789294053085, 80.57546457775165, 79.80699209253808, 612.729107915118, 199.73147306855094, 127.11457080578236, 164.99352046904238, 445.17557269467045, 400.2681386072868, 337.8384015502901, 146.23515827976607, 253.5610775274625, 567.3641368483272, 324.68351980339094, 187.98568257075027, 684.0541866488487, 655.2795725973671, 1181.745933334224, 838.6257226192138, 416.94278840833914, 3638.7626521660295, 350.8457647618474, 1413.101446648453, 6422.481399267172, 2291.140892092793, 458.08853234100275, 2429.0911213668483, 3168.6815499771756, 461.88871918918557, 396.93217005679156, 383.78748332046183, 613.4096493882233, 283.8271492997098, 209.4720608520309, 144.53677623850757, 141.19184826733772, 133.11903628966107, 118.4693944205276, 113.92020925438104, 113.50101300724515, 106.74037712573133, 104.3063248353032, 100.33716355067438, 889.9022181909053, 89.50224802519462, 87.48185502533772, 86.65875050459361, 84.63484662624039, 84.41593720539845, 71.85563204098305, 70.5328986595354, 64.90209416733234, 64.89349325276335, 64.84767652010396, 62.75625145474531, 62.627965387843304, 58.960224256264965, 55.308211350031534, 70.61197333731094, 815.3035362985454, 391.12096666012854, 97.79711176468619, 289.2553645011695, 75.50468706483218, 106.80955696727457, 126.00837815832138, 157.4705765378899, 205.7529166021435, 99.65238860980945, 630.0836363841165, 178.5075382078401, 1606.6876396777159, 144.24287456675825, 275.2818982884036, 1423.760484026541, 268.0425901962575, 366.11161417987967, 263.67675676687594, 418.45007319312805, 2612.800688937359, 2299.889439666104, 362.993771159789, 1024.622657045523, 1246.0509817770615, 283.7488115991353, 367.4282076974928, 6422.481399267172, 1019.5130469741133, 1571.3959801689532, 2654.313385098455, 3208.698468578381, 636.5214816149503, 3168.6815499771756, 1492.3232110031886, 913.0452609812834, 181.79968015193637, 167.61683092658217, 123.53275468176595, 64.8830792325241, 62.633137829273615, 58.75564386164372, 43.62808511135281, 42.792476130893476, 40.89935070863827, 163.1883055567175, 37.38432724553213, 37.25709819959428, 35.42991803610796, 39.848383664391754, 33.18914056209477, 33.02438672236018, 32.13597289880975, 31.578168794916447, 28.324811425277797, 28.258667632736095, 27.921033547093284, 27.710226181774857, 27.517469051441324, 27.238973965169738, 25.765368206911614, 25.511620152747447, 25.41241925659539, 25.00669032379827, 24.9667826401965, 24.779957694730406, 145.11766185837496, 51.12453915106946, 76.74929206369649, 74.33502486819746, 234.34342426995218, 61.48550982768953, 406.209206055447, 104.59961553743285, 170.37959060414977, 402.02614068617856, 241.73117201481696, 189.1959383455741, 223.31575876938058, 191.01124450320964, 179.60584068254124, 554.4593268261641, 440.8041147822398, 499.0827178908398, 222.0657450704611, 233.57556829959105, 254.6175900786803, 282.218473882679, 434.267441812966, 1025.0763886749576, 328.66955496983894, 639.3786937918385, 339.08140784931743, 429.4819474477717, 1413.101446648453, 378.02197890711057, 1128.689900148594, 860.4237918754103, 1423.8786500707192, 587.551798941123, 748.5821050768426, 816.590893590434, 3208.698468578381, 1180.3569335169962, 2291.140892092793, 984.5443235722287, 1023.6669204891526, 363.986894979881, 241.0602122678245, 150.74082390685237, 114.51186636552903, 108.51322106217414, 96.392417370551, 93.22032174362853, 89.31003469202666, 83.41992803042041, 83.21108332173716, 81.08531128037288, 77.65489188669305, 77.65442281285337, 77.57068800433402, 77.30000498726444, 75.54222328681335, 70.00386776686359, 65.38050676807201, 64.00331812909381, 61.45522143936169, 61.160244093355416, 60.75728287630426, 60.264571097242126, 55.59963622574305, 52.79403357470847, 50.667928724143366, 48.384972098447605, 43.70068220679796, 41.27810546309507, 593.5334003180374, 65.20077848341042, 101.87266711486255, 292.40222651718904, 462.9296026219043, 593.8613969915816, 130.19164551802325, 175.14080857711903, 79.65659164271463, 225.04566312602347, 370.90302444371724, 329.98960287614307, 216.5069944220246, 152.82934519046097, 267.4095690959521, 260.0609433418731, 219.88604853452185, 194.31508629785526, 396.6062698794261, 149.68840639251144, 216.05614695160327, 202.54713531711786, 195.32208366792256, 210.85149782135892, 385.95451870943316, 967.3357250554355, 1290.458635467437, 219.38286157068285, 365.0113141053807, 477.8533224854638, 587.551798941123, 570.6420484078475, 1181.745933334224, 438.16227829531846, 146.7850193130046, 107.8911934806339, 127.66604156491702, 76.98289034838864, 76.46894895971344, 75.78943836177878, 69.41005410474158, 60.19785571301918, 57.80740018550506, 55.87630950280357, 52.733068546823965, 51.93030718017181, 47.06478576776571, 45.52204517709745, 44.579700968839596, 41.56685847843533, 41.22983953282336, 38.658134124872426, 38.06182602680559, 37.82040918626996, 37.78556377759627, 37.17861996897121, 35.36290923671219, 34.773198667065394, 33.66447588501734, 33.31432809284005, 33.101337655977126, 87.80078202515197, 32.82876662952239, 31.56159207697316, 57.69791735531984, 221.62000426618945, 81.02340386179657, 142.64176615364218, 123.41680361534651, 355.04812333929834, 77.38121825480022, 74.26103957622232, 288.4249152061954, 290.15600978719715, 139.9825502761253, 142.83217507327484, 107.66585028237623, 114.645197189522, 388.02119745974903, 728.7686243874587, 96.15678562670321, 369.85172346166803, 290.1693587790912, 229.1539982325807, 1356.1878324796808, 146.61674579819655, 853.6387341319142, 901.1123344250702, 2046.452973576137, 1127.0744022165775, 1055.1226134259011, 3168.6815499771756, 1369.627975964265, 308.03988881743845, 438.9962800583368, 101.6407564977296, 56.46602654593743, 37.32606353887018, 34.83754011725384, 34.39144386726782, 32.86226214326087, 28.6866418859585, 26.684483639329958, 23.897955621448858, 23.26591531017922, 22.89491255033308, 22.679450147116786, 21.967551255308287, 21.083655850862293, 19.816075094648756, 44.61552805472041, 18.43898675809867, 18.312166143353927, 18.183131867148976, 17.67025840354889, 16.78691188994846, 16.755992204151525, 16.73796700547942, 16.613789402299624, 16.395832246281735, 16.349118154184545, 16.341998511340925, 16.08753641547827, 15.819919501630618, 15.728968968837563, 335.2172772322527, 56.387014348795496, 277.0446920767449, 168.40191509237414, 106.40231635574544, 1211.3139320899481, 74.19777254643017, 24.40626081690131, 98.8072344712869, 174.2269841100598, 200.7927919303955, 1493.8042912408366, 323.4446830595905, 175.82869378886545, 1608.4696106589447, 690.8160289723822, 80.0882872155299, 425.32690360088105, 76.01412319161187, 254.46311237104555, 1253.6353059328246, 801.1859897776718, 543.4476262381721, 1222.397148917774, 3630.102298309253, 828.9352348162363, 855.6368179680645, 6422.481399267172, 1044.8626410072827, 917.5702354396072, 653.6008644839097, 2652.1365504371597, 1645.1064430153829, 1409.9916741760437, 4200.043451720867, 1733.810889292724, 908.8003514477994, 157.5266697261416, 142.06561963941002, 134.39043848205486, 206.3757859201788, 102.9190261492853, 85.27219320179287, 84.6074953380364, 84.52403601106383, 82.40735317951287, 78.75778391652717, 77.00057066533999, 75.3054170980824, 60.07108933315428, 58.729487829559226, 106.66123168012842, 54.609422239194664, 51.01480994118287, 50.5742200622076, 173.48779408633243, 44.90887015129129, 43.556590247491066, 39.8131435658361, 39.42704828768178, 39.22693003064927, 39.221049113271434, 38.943702771872935, 38.76057265328019, 41.07266371552082, 62.59625694310001, 34.76711344955317, 78.14000996280703, 246.29447518185205, 122.29732791475628, 76.11150619422402, 156.47941737872307, 183.97715756834242, 87.40093906281326, 176.83537028175388, 96.2501431652515, 69.58291914188023, 1290.1129013531304, 380.3261271936099, 76.21256312892494, 86.2102501904084, 127.35203603703373, 536.9044645400063, 2115.859156510879, 1356.1878324796808, 1127.0744022165775, 173.93564860703702, 94.62642454728962, 83.96377770364737, 74.4518759744767, 65.10320344701896, 64.35766922101486, 61.60719323120118, 61.44360248754004, 53.10231313202937, 43.81563249405521, 42.93294061098781, 41.13343877137027, 41.07187150357866, 39.544060579129706, 35.85478494187378, 33.32115088338475, 33.02887156706363, 32.488223904245885, 31.63893175159944, 31.623659825199397, 31.281741739224476, 30.43023625468663, 29.83288729073046, 29.557352086381204, 27.808455293323576, 26.78468764617674, 26.386123509504497, 26.330758863649038, 26.06210981988205, 25.133243704291964, 237.41598791534284, 57.119800942984526, 59.49529845150341, 95.46616442896878, 74.62374349097215, 80.8238460294816, 45.58922096640798, 50.26376065217124, 39.29438829104826, 57.15201218873167, 104.29532038150553, 37.71029397754314, 83.72141029085482, 315.8868976173657, 478.20643459486024, 329.80105225666574, 369.9862225398579, 84.48536655746321, 250.35221641257777, 80.30013199737465, 745.429534214715, 111.90421473596142, 82.94928725865637, 52.16002658919369, 47.23105451572507, 43.43928605433268, 38.29737101379479, 36.08518226828568, 36.03067084050631, 34.67664405356609, 34.44988976080797, 34.328208585276855, 33.020392605224046, 32.96930658019318, 32.95355033902803, 32.86774661468798, 32.8224458487352, 32.43152448172823, 32.257366377483, 31.984429620946923, 30.156449008056423, 29.805146380952586, 29.310186122538877, 29.129338171521322, 28.48818453471045, 28.4432621353484, 28.330594151452857, 27.68404202291281, 27.486746739277134, 27.249180598075377, 27.079062226071812, 85.28401661976338, 71.38483367952023, 52.7405644612148, 119.20595926992395, 72.12536318378972, 76.51893660206476, 215.75051389280964, 71.48326099832789, 502.72903240812485, 38.51889944606632, 154.64191608638254, 227.51197110251314, 123.62421211378438, 176.19399986835555, 55.879654911299205, 66.78296389423198, 59.123644367621274, 47.22052289062586, 134.4519476058447, 163.91693158572855, 190.8918012920509, 86.49298353382285, 167.2824388275056, 630.0836363841165, 404.9224287552789, 147.1980160315245, 1127.0744022165775, 294.38408947711457, 185.33040101279204, 2299.889439666104, 467.62578864830755, 1019.5130469741133, 204.51193214460636, 397.5428637900531, 189.84940086454526, 48.4603692883018, 43.49537180303403, 39.48981277312736, 36.80150343399628, 33.502949007449686, 32.23887443066301, 31.386894930801592, 31.069458645625883, 30.832247803348604, 30.391624077215273, 29.216898032893845, 29.18499233850968, 28.498198908500978, 28.033260512755284, 25.426312234391446, 23.69092284849473, 22.924684266625775, 22.65499599515456, 21.5292735948859, 21.45128635633372, 21.372616710346524, 20.374019497157022, 20.0939903011651, 19.480470946722754, 19.154289076266863, 18.78086785078326, 18.251352038867758, 17.80806054533529, 17.450773818274396, 90.30895941064702, 641.8227575455076, 33.01684716466264, 94.33711267230541, 69.39422026820019, 84.80950255240205, 111.28369187372869, 570.6420484078475, 91.7733155952966, 42.73985545334388, 181.43277330012793, 165.1800851560474, 200.8956511671863, 35.71278495961616, 71.19452480029162, 51.68757149332709, 343.44990444455937, 347.3732161184724, 99.73250592018451, 89.15437503958952, 639.6569408203223, 468.6101216169578, 97.68446665643006, 238.14049337976132, 202.54713531711786, 136.18287359458225, 392.1943351929321, 88.0340515083426, 462.9296026219043, 216.5069944220246, 225.04566312602347, 278.44977661810697, 759.2857193044878, 394.638431058269, 34.93506116057355, 31.1870791103426, 28.693129481354497, 24.64196633632851, 24.367390240973666, 63.22183302440005, 22.376260386627056, 21.025178070079072, 21.01403786876435, 20.315090469883877, 18.7199023581919, 18.474444672323294, 49.850684994349436, 18.018294229727314, 17.97688285836041, 17.691595021982984, 17.671122836347113, 15.812692562839757, 15.727039031314742, 15.292222877090625, 15.278445612633755, 15.19536562298627, 14.38091329353019, 14.10602295116139, 14.09118760575853, 14.076130584508565, 13.668522311618778, 13.541529520364312, 12.898051671964021, 11.719005099534332, 16.7012384907649, 38.72670459963672, 31.442160259181467, 70.92792854281362, 23.767396543749836, 70.94772512891923, 56.193132741265174, 25.411683806790343, 169.8364378393884, 80.16430539266922, 148.86340820665706, 159.00495739203174, 115.27721218750692, 74.8345303437744, 112.93337894448469, 370.1963378798128, 53.52193604662076, 53.312365265129685, 52.44953213642679, 49.54219611760346, 48.786167520328924, 27.481539282675996, 26.434954540139707, 24.291573949874458, 21.625262374722023, 21.270581289580672, 20.996960465873254, 19.819833153809565, 18.697837136156352, 18.049148089731098, 17.021230143585594, 16.417257081550034, 16.19803139226798, 16.051874115843617, 16.408679397824915, 15.332663635558518, 15.269413909392732, 13.97160791211557, 13.808745243058668, 13.595538884260716, 13.315117255457817, 12.056447331391285, 11.316834265754741, 11.246885762122044, 11.157643801699255, 11.122139166078266, 33.45370070367622, 27.172363338203834, 49.5425182218291, 36.70035886891515, 77.05092695601772, 38.42341774108316, 24.329152647012087, 18.42890787772792, 42.07305961183907, 60.8180706258827, 341.25158609077045, 62.11643758570887, 29.332882081252066, 96.08275612968828, 40.20384485375152, 18.95721019293209, 15.913277923724944, 15.518185738455289, 13.711640573014286, 13.190879712860552, 12.734884472928433, 12.092025261402357, 11.972431351267934, 11.854690084563572, 11.419444796705648, 11.200666798028768, 10.860676641271487, 67.21152484873058, 10.358265696844255, 10.218172011404956, 24.46764355597689, 9.265555045603843, 9.047163753057823, 8.95578388318646, 8.860755471134715, 8.315644827886043, 8.240765795644405, 8.22393055383194, 8.211573705147043, 8.058112256351754, 8.003388500204771, 8.48263066872393, 7.9185459781016485, 37.27116790978514, 27.800925328942913, 41.52405062890195, 11.490482583641212, 14.184074810327635, 69.33276346726905, 50.40347484893529, 81.67383307843521, 160.98751472082662, 198.52195217175208, 15.44595408281641, 290.1693587790912, 56.20776596451642, 47.89327761466795, 124.6045222884576, 99.7022593963308, 20.89971768202455, 20.405068543200436, 16.836181347461856, 14.322538058262516, 14.250825327478408, 14.084607296749036, 13.751299828717165, 13.582829748455532, 13.425190763019499, 12.696916780535059, 12.57520042130662, 12.224605334779476, 11.88924931358677, 11.626222301878203, 11.23235048057271, 10.799034279942646, 10.757483117970342, 10.530973966011288, 10.487290684422893, 10.165624570659038, 10.11852530696367, 10.025425228682757, 9.845473199599846, 9.789083698911892, 43.59692618257939, 8.767709189760886, 8.634932384921955, 8.554672624967726, 8.516779518893609, 8.137908384231219, 18.250538933229354, 97.34898526388967, 141.22588814030632, 17.12132196626947, 13.86619821123854, 41.294382697361016, 66.2350867398387, 116.0892475350964, 58.98540386857222, 147.35057848330956, 30.346975129053426, 140.1816294874146, 52.68944046594416], \"Category\": [\"Default\", \"Default\", \"Default\", \"Default\", \"Default\", \"Default\", \"Default\", \"Default\", \"Default\", \"Default\", \"Default\", \"Default\", \"Default\", \"Default\", \"Default\", \"Default\", \"Default\", \"Default\", \"Default\", \"Default\", \"Default\", \"Default\", \"Default\", \"Default\", \"Default\", \"Default\", \"Default\", \"Default\", \"Default\", \"Default\", \"Topic1\", \"Topic1\", \"Topic1\", \"Topic1\", \"Topic1\", \"Topic1\", \"Topic1\", \"Topic1\", \"Topic1\", \"Topic1\", \"Topic1\", \"Topic1\", \"Topic1\", \"Topic1\", \"Topic1\", \"Topic1\", \"Topic1\", \"Topic1\", \"Topic1\", \"Topic1\", \"Topic1\", \"Topic1\", \"Topic1\", \"Topic1\", \"Topic1\", \"Topic1\", \"Topic1\", \"Topic1\", \"Topic1\", \"Topic1\", \"Topic1\", \"Topic1\", \"Topic1\", \"Topic1\", \"Topic1\", \"Topic1\", \"Topic1\", \"Topic1\", \"Topic1\", \"Topic1\", \"Topic1\", \"Topic1\", \"Topic1\", \"Topic1\", \"Topic1\", \"Topic1\", \"Topic1\", \"Topic1\", \"Topic1\", \"Topic1\", \"Topic1\", \"Topic1\", \"Topic1\", \"Topic1\", \"Topic1\", \"Topic1\", \"Topic1\", \"Topic1\", \"Topic1\", \"Topic1\", \"Topic1\", \"Topic1\", \"Topic1\", \"Topic1\", \"Topic1\", \"Topic1\", \"Topic1\", \"Topic1\", \"Topic1\", \"Topic1\", \"Topic1\", \"Topic1\", \"Topic1\", \"Topic1\", \"Topic1\", \"Topic1\", \"Topic1\", \"Topic1\", \"Topic1\", \"Topic1\", \"Topic2\", \"Topic2\", \"Topic2\", \"Topic2\", \"Topic2\", \"Topic2\", \"Topic2\", \"Topic2\", \"Topic2\", \"Topic2\", \"Topic2\", \"Topic2\", \"Topic2\", \"Topic2\", \"Topic2\", \"Topic2\", \"Topic2\", \"Topic2\", \"Topic2\", \"Topic2\", \"Topic2\", \"Topic2\", \"Topic2\", \"Topic2\", \"Topic2\", \"Topic2\", \"Topic2\", \"Topic2\", \"Topic2\", \"Topic2\", \"Topic2\", \"Topic2\", \"Topic2\", \"Topic2\", \"Topic2\", \"Topic2\", \"Topic2\", \"Topic2\", \"Topic2\", \"Topic2\", \"Topic2\", \"Topic2\", \"Topic2\", \"Topic2\", \"Topic2\", \"Topic2\", \"Topic2\", \"Topic2\", \"Topic2\", \"Topic2\", \"Topic2\", \"Topic2\", \"Topic2\", \"Topic2\", \"Topic2\", \"Topic2\", \"Topic2\", \"Topic2\", \"Topic2\", \"Topic2\", \"Topic2\", \"Topic2\", \"Topic2\", \"Topic2\", \"Topic2\", \"Topic2\", \"Topic2\", \"Topic3\", \"Topic3\", \"Topic3\", \"Topic3\", \"Topic3\", \"Topic3\", \"Topic3\", \"Topic3\", \"Topic3\", \"Topic3\", \"Topic3\", \"Topic3\", \"Topic3\", \"Topic3\", \"Topic3\", \"Topic3\", \"Topic3\", \"Topic3\", \"Topic3\", \"Topic3\", \"Topic3\", \"Topic3\", \"Topic3\", \"Topic3\", \"Topic3\", \"Topic3\", \"Topic3\", \"Topic3\", \"Topic3\", \"Topic3\", \"Topic3\", \"Topic3\", \"Topic3\", \"Topic3\", \"Topic3\", \"Topic3\", \"Topic3\", \"Topic3\", \"Topic3\", \"Topic3\", \"Topic3\", \"Topic3\", \"Topic3\", \"Topic3\", \"Topic3\", \"Topic3\", \"Topic3\", \"Topic3\", \"Topic3\", \"Topic3\", \"Topic3\", \"Topic3\", \"Topic3\", \"Topic3\", \"Topic3\", \"Topic3\", \"Topic3\", \"Topic3\", \"Topic3\", \"Topic3\", \"Topic3\", \"Topic3\", \"Topic3\", \"Topic3\", \"Topic3\", \"Topic3\", \"Topic3\", \"Topic3\", \"Topic3\", \"Topic3\", \"Topic3\", \"Topic3\", \"Topic3\", \"Topic3\", \"Topic3\", \"Topic4\", \"Topic4\", \"Topic4\", \"Topic4\", \"Topic4\", \"Topic4\", \"Topic4\", \"Topic4\", \"Topic4\", \"Topic4\", \"Topic4\", \"Topic4\", \"Topic4\", \"Topic4\", \"Topic4\", \"Topic4\", \"Topic4\", \"Topic4\", \"Topic4\", \"Topic4\", \"Topic4\", \"Topic4\", \"Topic4\", \"Topic4\", \"Topic4\", \"Topic4\", \"Topic4\", \"Topic4\", \"Topic4\", \"Topic4\", \"Topic4\", \"Topic4\", \"Topic4\", \"Topic4\", \"Topic4\", \"Topic4\", \"Topic4\", \"Topic4\", \"Topic4\", \"Topic4\", \"Topic4\", \"Topic4\", \"Topic4\", \"Topic4\", \"Topic4\", \"Topic4\", \"Topic4\", \"Topic4\", \"Topic4\", \"Topic4\", \"Topic4\", \"Topic4\", \"Topic4\", \"Topic4\", \"Topic4\", \"Topic4\", \"Topic4\", \"Topic4\", \"Topic4\", \"Topic4\", \"Topic4\", \"Topic4\", \"Topic4\", \"Topic4\", \"Topic4\", \"Topic4\", \"Topic4\", \"Topic4\", \"Topic4\", \"Topic4\", \"Topic4\", \"Topic4\", \"Topic4\", \"Topic4\", \"Topic4\", \"Topic4\", \"Topic4\", \"Topic4\", \"Topic4\", \"Topic4\", \"Topic4\", \"Topic5\", \"Topic5\", \"Topic5\", \"Topic5\", \"Topic5\", \"Topic5\", \"Topic5\", \"Topic5\", \"Topic5\", \"Topic5\", \"Topic5\", \"Topic5\", \"Topic5\", \"Topic5\", \"Topic5\", \"Topic5\", \"Topic5\", \"Topic5\", \"Topic5\", \"Topic5\", \"Topic5\", \"Topic5\", \"Topic5\", \"Topic5\", \"Topic5\", \"Topic5\", \"Topic5\", \"Topic5\", \"Topic5\", \"Topic5\", \"Topic5\", \"Topic5\", \"Topic5\", \"Topic5\", \"Topic5\", \"Topic5\", \"Topic5\", \"Topic5\", \"Topic5\", \"Topic5\", \"Topic5\", \"Topic5\", \"Topic5\", \"Topic5\", \"Topic5\", \"Topic5\", \"Topic5\", \"Topic5\", \"Topic5\", \"Topic5\", \"Topic5\", \"Topic5\", \"Topic5\", \"Topic5\", \"Topic5\", \"Topic5\", \"Topic5\", \"Topic5\", \"Topic5\", \"Topic5\", \"Topic5\", \"Topic5\", \"Topic5\", \"Topic5\", \"Topic5\", \"Topic5\", \"Topic5\", \"Topic6\", \"Topic6\", \"Topic6\", \"Topic6\", \"Topic6\", \"Topic6\", \"Topic6\", \"Topic6\", \"Topic6\", \"Topic6\", \"Topic6\", \"Topic6\", \"Topic6\", \"Topic6\", \"Topic6\", \"Topic6\", \"Topic6\", \"Topic6\", \"Topic6\", \"Topic6\", \"Topic6\", \"Topic6\", \"Topic6\", \"Topic6\", \"Topic6\", \"Topic6\", \"Topic6\", \"Topic6\", \"Topic6\", \"Topic6\", \"Topic6\", \"Topic6\", \"Topic6\", \"Topic6\", \"Topic6\", \"Topic6\", \"Topic6\", \"Topic6\", \"Topic6\", \"Topic6\", \"Topic6\", \"Topic6\", \"Topic6\", \"Topic6\", \"Topic6\", \"Topic6\", \"Topic6\", \"Topic6\", \"Topic6\", \"Topic6\", \"Topic6\", \"Topic6\", \"Topic6\", \"Topic6\", \"Topic6\", \"Topic6\", \"Topic6\", \"Topic6\", \"Topic6\", \"Topic6\", \"Topic6\", \"Topic6\", \"Topic6\", \"Topic6\", \"Topic6\", \"Topic6\", \"Topic6\", \"Topic6\", \"Topic6\", \"Topic6\", \"Topic6\", \"Topic6\", \"Topic6\", \"Topic7\", \"Topic7\", \"Topic7\", \"Topic7\", \"Topic7\", \"Topic7\", \"Topic7\", \"Topic7\", \"Topic7\", \"Topic7\", \"Topic7\", \"Topic7\", \"Topic7\", \"Topic7\", \"Topic7\", \"Topic7\", \"Topic7\", \"Topic7\", \"Topic7\", \"Topic7\", \"Topic7\", \"Topic7\", \"Topic7\", \"Topic7\", \"Topic7\", \"Topic7\", \"Topic7\", \"Topic7\", \"Topic7\", \"Topic7\", \"Topic7\", \"Topic7\", \"Topic7\", \"Topic7\", \"Topic7\", \"Topic7\", \"Topic7\", \"Topic7\", \"Topic7\", \"Topic7\", \"Topic7\", \"Topic7\", \"Topic7\", \"Topic7\", \"Topic7\", \"Topic7\", \"Topic7\", \"Topic7\", \"Topic7\", \"Topic7\", \"Topic7\", \"Topic7\", \"Topic7\", \"Topic7\", \"Topic7\", \"Topic8\", \"Topic8\", \"Topic8\", \"Topic8\", \"Topic8\", \"Topic8\", \"Topic8\", \"Topic8\", \"Topic8\", \"Topic8\", \"Topic8\", \"Topic8\", \"Topic8\", \"Topic8\", \"Topic8\", \"Topic8\", \"Topic8\", \"Topic8\", \"Topic8\", \"Topic8\", \"Topic8\", \"Topic8\", \"Topic8\", \"Topic8\", \"Topic8\", \"Topic8\", \"Topic8\", \"Topic8\", \"Topic8\", \"Topic8\", \"Topic8\", \"Topic8\", \"Topic8\", \"Topic8\", \"Topic8\", \"Topic8\", \"Topic8\", \"Topic8\", \"Topic8\", \"Topic8\", \"Topic8\", \"Topic8\", \"Topic8\", \"Topic8\", \"Topic8\", \"Topic8\", \"Topic8\", \"Topic8\", \"Topic8\", \"Topic8\", \"Topic8\", \"Topic8\", \"Topic8\", \"Topic8\", \"Topic8\", \"Topic8\", \"Topic8\", \"Topic8\", \"Topic8\", \"Topic8\", \"Topic8\", \"Topic8\", \"Topic8\", \"Topic8\", \"Topic8\", \"Topic8\", \"Topic8\", \"Topic9\", \"Topic9\", \"Topic9\", \"Topic9\", \"Topic9\", \"Topic9\", \"Topic9\", \"Topic9\", \"Topic9\", \"Topic9\", \"Topic9\", \"Topic9\", \"Topic9\", \"Topic9\", \"Topic9\", \"Topic9\", \"Topic9\", \"Topic9\", \"Topic9\", \"Topic9\", \"Topic9\", \"Topic9\", \"Topic9\", \"Topic9\", \"Topic9\", \"Topic9\", \"Topic9\", \"Topic9\", \"Topic9\", \"Topic9\", \"Topic9\", \"Topic9\", \"Topic9\", \"Topic9\", \"Topic9\", \"Topic9\", \"Topic9\", \"Topic9\", \"Topic9\", \"Topic9\", \"Topic9\", \"Topic9\", \"Topic9\", \"Topic9\", \"Topic9\", \"Topic9\", \"Topic9\", \"Topic9\", \"Topic9\", \"Topic9\", \"Topic9\", \"Topic9\", \"Topic9\", \"Topic9\", \"Topic9\", \"Topic9\", \"Topic9\", \"Topic9\", \"Topic9\", \"Topic9\", \"Topic9\", \"Topic9\", \"Topic9\", \"Topic9\", \"Topic9\", \"Topic9\", \"Topic9\", \"Topic9\", \"Topic9\", \"Topic9\", \"Topic9\", \"Topic10\", \"Topic10\", \"Topic10\", \"Topic10\", \"Topic10\", \"Topic10\", \"Topic10\", \"Topic10\", \"Topic10\", \"Topic10\", \"Topic10\", \"Topic10\", \"Topic10\", \"Topic10\", \"Topic10\", \"Topic10\", \"Topic10\", \"Topic10\", \"Topic10\", \"Topic10\", \"Topic10\", \"Topic10\", \"Topic10\", \"Topic10\", \"Topic10\", \"Topic10\", \"Topic10\", \"Topic10\", \"Topic10\", \"Topic10\", \"Topic10\", \"Topic10\", \"Topic10\", \"Topic10\", \"Topic10\", \"Topic10\", \"Topic10\", \"Topic10\", \"Topic10\", \"Topic10\", \"Topic10\", \"Topic10\", \"Topic10\", \"Topic10\", \"Topic10\", \"Topic10\", \"Topic10\", \"Topic10\", \"Topic10\", \"Topic10\", \"Topic10\", \"Topic10\", \"Topic10\", \"Topic10\", \"Topic10\", \"Topic10\", \"Topic10\", \"Topic10\", \"Topic10\", \"Topic10\", \"Topic10\", \"Topic10\", \"Topic10\", \"Topic11\", \"Topic11\", \"Topic11\", \"Topic11\", \"Topic11\", \"Topic11\", \"Topic11\", \"Topic11\", \"Topic11\", \"Topic11\", \"Topic11\", \"Topic11\", \"Topic11\", \"Topic11\", \"Topic11\", \"Topic11\", \"Topic11\", \"Topic11\", \"Topic11\", \"Topic11\", \"Topic11\", \"Topic11\", \"Topic11\", \"Topic11\", \"Topic11\", \"Topic11\", \"Topic11\", \"Topic11\", \"Topic11\", \"Topic11\", \"Topic11\", \"Topic11\", \"Topic11\", \"Topic11\", \"Topic11\", \"Topic11\", \"Topic11\", \"Topic11\", \"Topic11\", \"Topic11\", \"Topic11\", \"Topic11\", \"Topic11\", \"Topic11\", \"Topic11\", \"Topic11\", \"Topic11\", \"Topic11\", \"Topic11\", \"Topic11\", \"Topic11\", \"Topic11\", \"Topic11\", \"Topic11\", \"Topic11\", \"Topic11\", \"Topic11\", \"Topic11\", \"Topic11\", \"Topic11\", \"Topic11\", \"Topic12\", \"Topic12\", \"Topic12\", \"Topic12\", \"Topic12\", \"Topic12\", \"Topic12\", \"Topic12\", \"Topic12\", \"Topic12\", \"Topic12\", \"Topic12\", \"Topic12\", \"Topic12\", \"Topic12\", \"Topic12\", \"Topic12\", \"Topic12\", \"Topic12\", \"Topic12\", \"Topic12\", \"Topic12\", \"Topic12\", \"Topic12\", \"Topic12\", \"Topic12\", \"Topic12\", \"Topic12\", \"Topic12\", \"Topic12\", \"Topic12\", \"Topic12\", \"Topic12\", \"Topic12\", \"Topic12\", \"Topic12\", \"Topic12\", \"Topic12\", \"Topic12\", \"Topic12\", \"Topic12\", \"Topic12\", \"Topic12\", \"Topic12\", \"Topic12\", \"Topic12\", \"Topic12\", \"Topic12\", \"Topic12\", \"Topic12\", \"Topic12\", \"Topic12\", \"Topic12\", \"Topic12\", \"Topic12\", \"Topic12\", \"Topic12\", \"Topic12\", \"Topic12\", \"Topic12\", \"Topic12\", \"Topic12\", \"Topic12\", \"Topic12\", \"Topic12\", \"Topic12\", \"Topic12\", \"Topic13\", \"Topic13\", \"Topic13\", \"Topic13\", \"Topic13\", \"Topic13\", \"Topic13\", \"Topic13\", \"Topic13\", \"Topic13\", \"Topic13\", \"Topic13\", \"Topic13\", \"Topic13\", \"Topic13\", \"Topic13\", \"Topic13\", \"Topic13\", \"Topic13\", \"Topic13\", \"Topic13\", \"Topic13\", \"Topic13\", \"Topic13\", \"Topic13\", \"Topic13\", \"Topic13\", \"Topic13\", \"Topic13\", \"Topic13\", \"Topic13\", \"Topic13\", \"Topic13\", \"Topic13\", \"Topic13\", \"Topic13\", \"Topic13\", \"Topic13\", \"Topic13\", \"Topic13\", \"Topic13\", \"Topic13\", \"Topic13\", \"Topic13\", \"Topic13\", \"Topic13\", \"Topic13\", \"Topic13\", \"Topic13\", \"Topic14\", \"Topic14\", \"Topic14\", \"Topic14\", \"Topic14\", \"Topic14\", \"Topic14\", \"Topic14\", \"Topic14\", \"Topic14\", \"Topic14\", \"Topic14\", \"Topic14\", \"Topic14\", \"Topic14\", \"Topic14\", \"Topic14\", \"Topic14\", \"Topic14\", \"Topic14\", \"Topic14\", \"Topic14\", \"Topic14\", \"Topic14\", \"Topic14\", \"Topic14\", \"Topic14\", \"Topic14\", \"Topic14\", \"Topic14\", \"Topic14\", \"Topic14\", \"Topic14\", \"Topic14\", \"Topic14\", \"Topic14\", \"Topic14\", \"Topic14\", \"Topic14\", \"Topic14\", \"Topic14\", \"Topic14\", \"Topic14\", \"Topic14\", \"Topic14\", \"Topic14\", \"Topic14\", \"Topic14\", \"Topic14\", \"Topic14\", \"Topic14\", \"Topic15\", \"Topic15\", \"Topic15\", \"Topic15\", \"Topic15\", \"Topic15\", \"Topic15\", \"Topic15\", \"Topic15\", \"Topic15\", \"Topic15\", \"Topic15\", \"Topic15\", \"Topic15\", \"Topic15\", \"Topic15\", \"Topic15\", \"Topic15\", \"Topic15\", \"Topic15\", \"Topic15\", \"Topic15\", \"Topic15\", \"Topic15\", \"Topic15\", \"Topic15\", \"Topic15\", \"Topic15\", \"Topic15\", \"Topic15\", \"Topic15\", \"Topic15\", \"Topic15\", \"Topic15\", \"Topic15\", \"Topic15\", \"Topic15\", \"Topic15\", \"Topic15\", \"Topic15\", \"Topic15\", \"Topic15\", \"Topic15\", \"Topic15\", \"Topic15\", \"Topic15\", \"Topic15\", \"Topic15\", \"Topic15\", \"Topic15\", \"Topic15\", \"Topic15\", \"Topic15\", \"Topic15\", \"Topic15\", \"Topic15\", \"Topic15\", \"Topic15\", \"Topic15\", \"Topic15\", \"Topic15\", \"Topic15\", \"Topic15\", \"Topic15\", \"Topic16\", \"Topic16\", \"Topic16\", \"Topic16\", \"Topic16\", \"Topic16\", \"Topic16\", \"Topic16\", \"Topic16\", \"Topic16\", \"Topic16\", \"Topic16\", \"Topic16\", \"Topic16\", \"Topic16\", \"Topic16\", \"Topic16\", \"Topic16\", \"Topic16\", \"Topic16\", \"Topic16\", \"Topic16\", \"Topic16\", \"Topic16\", \"Topic16\", \"Topic16\", \"Topic16\", \"Topic16\", \"Topic16\", \"Topic16\", \"Topic16\", \"Topic16\", \"Topic16\", \"Topic16\", \"Topic16\", \"Topic16\", \"Topic16\", \"Topic16\", \"Topic16\", \"Topic16\", \"Topic16\", \"Topic16\", \"Topic16\", \"Topic16\", \"Topic16\", \"Topic16\", \"Topic16\", \"Topic16\", \"Topic16\", \"Topic16\", \"Topic16\", \"Topic16\", \"Topic16\", \"Topic16\", \"Topic16\", \"Topic16\", \"Topic16\", \"Topic16\", \"Topic16\", \"Topic16\", \"Topic16\", \"Topic16\", \"Topic16\", \"Topic16\", \"Topic17\", \"Topic17\", \"Topic17\", \"Topic17\", \"Topic17\", \"Topic17\", \"Topic17\", \"Topic17\", \"Topic17\", \"Topic17\", \"Topic17\", \"Topic17\", \"Topic17\", \"Topic17\", \"Topic17\", \"Topic17\", \"Topic17\", \"Topic17\", \"Topic17\", \"Topic17\", \"Topic17\", \"Topic17\", \"Topic17\", \"Topic17\", \"Topic17\", \"Topic17\", \"Topic17\", \"Topic17\", \"Topic17\", \"Topic17\", \"Topic17\", \"Topic17\", \"Topic17\", \"Topic17\", \"Topic17\", \"Topic17\", \"Topic17\", \"Topic17\", \"Topic17\", \"Topic17\", \"Topic17\", \"Topic17\", \"Topic17\", \"Topic17\", \"Topic17\", \"Topic17\", \"Topic18\", \"Topic18\", \"Topic18\", \"Topic18\", \"Topic18\", \"Topic18\", \"Topic18\", \"Topic18\", \"Topic18\", \"Topic18\", \"Topic18\", \"Topic18\", \"Topic18\", \"Topic18\", \"Topic18\", \"Topic18\", \"Topic18\", \"Topic18\", \"Topic18\", \"Topic18\", \"Topic18\", \"Topic18\", \"Topic18\", \"Topic18\", \"Topic18\", \"Topic18\", \"Topic18\", \"Topic18\", \"Topic18\", \"Topic18\", \"Topic18\", \"Topic18\", \"Topic18\", \"Topic18\", \"Topic18\", \"Topic18\", \"Topic18\", \"Topic18\", \"Topic18\", \"Topic18\", \"Topic18\", \"Topic18\", \"Topic18\", \"Topic19\", \"Topic19\", \"Topic19\", \"Topic19\", \"Topic19\", \"Topic19\", \"Topic19\", \"Topic19\", \"Topic19\", \"Topic19\", \"Topic19\", \"Topic19\", \"Topic19\", \"Topic19\", \"Topic19\", \"Topic19\", \"Topic19\", \"Topic19\", \"Topic19\", \"Topic19\", \"Topic19\", \"Topic19\", \"Topic19\", \"Topic19\", \"Topic19\", \"Topic19\", \"Topic19\", \"Topic19\", \"Topic19\", \"Topic19\", \"Topic19\", \"Topic19\", \"Topic19\", \"Topic19\", \"Topic19\", \"Topic19\", \"Topic19\", \"Topic19\", \"Topic19\", \"Topic19\", \"Topic19\", \"Topic19\", \"Topic19\", \"Topic19\", \"Topic19\", \"Topic19\", \"Topic20\", \"Topic20\", \"Topic20\", \"Topic20\", \"Topic20\", \"Topic20\", \"Topic20\", \"Topic20\", \"Topic20\", \"Topic20\", \"Topic20\", \"Topic20\", \"Topic20\", \"Topic20\", \"Topic20\", \"Topic20\", \"Topic20\", \"Topic20\", \"Topic20\", \"Topic20\", \"Topic20\", \"Topic20\", \"Topic20\", \"Topic20\", \"Topic20\", \"Topic20\", \"Topic20\", \"Topic20\", \"Topic20\", \"Topic20\", \"Topic20\", \"Topic20\", \"Topic20\", \"Topic20\", \"Topic20\", \"Topic20\", \"Topic20\", \"Topic20\", \"Topic20\", \"Topic20\", \"Topic20\", \"Topic20\", \"Topic20\"], \"logprob\": [30.0, 29.0, 28.0, 27.0, 26.0, 25.0, 24.0, 23.0, 22.0, 21.0, 20.0, 19.0, 18.0, 17.0, 16.0, 15.0, 14.0, 13.0, 12.0, 11.0, 10.0, 9.0, 8.0, 7.0, 6.0, 5.0, 4.0, 3.0, 2.0, 1.0, -6.8845, -7.0374, -7.278, -7.2875, -7.329, -7.3331, -7.5975, -7.655, -7.6738, -7.683, -7.7524, -7.7967, -7.914, -7.9256, -7.9831, -8.0132, -8.0556, -8.0671, -8.0818, -8.0902, -8.0959, -8.1033, -8.1083, -8.1615, -8.187, -8.2179, -8.2175, -8.2361, -8.2717, -8.2832, -7.0015, -7.5697, -6.3596, -6.4333, -7.177, -3.975, -6.8017, -6.8886, -6.128, -7.1247, -6.8638, -4.9338, -7.0072, -6.6055, -4.5542, -5.4029, -5.9931, -6.1915, -5.2395, -4.014, -4.5277, -5.6225, -5.9297, -4.925, -5.1258, -6.0411, -4.52, -4.9107, -5.6568, -5.6441, -5.2862, -5.9294, -5.4335, -5.9495, -5.795, -5.2401, -4.9844, -5.4577, -5.5556, -5.005, -5.745, -5.2914, -5.528, -5.2987, -5.3394, -5.3325, -5.6446, -5.6673, -5.7305, -5.6777, -5.2603, -5.5483, -5.7205, -5.812, -6.0774, -6.0806, -6.1694, -6.2168, -6.2599, -6.2869, -6.3387, -6.348, -6.3558, -6.533, -6.54, -6.8715, -6.9154, -6.9246, -7.0658, -7.0739, -7.1218, -7.1366, -7.2563, -7.2815, -7.2829, -7.3064, -7.3067, -7.323, -7.3622, -7.3639, -5.4333, -6.6181, -6.1303, -5.3951, -5.709, -6.5485, -6.6563, -5.8472, -4.6985, -6.2542, -4.9852, -5.624, -6.4871, -6.1946, -6.0328, -6.1554, -5.9831, -5.565, -5.5631, -5.9221, -6.145, -5.5982, -5.5681, -5.8166, -5.5148, -6.0739, -5.3936, -5.5169, -5.4471, -5.8941, -6.1055, -5.6397, -5.5444, -6.0513, -5.8871, -5.9784, -6.0062, -4.455, -5.0273, -5.6608, -5.7228, -6.315, -6.584, -6.7517, -6.7475, -6.8865, -6.9237, -6.943, -6.9774, -7.0215, -7.0512, -7.1578, -7.1643, -7.3045, -7.3991, -7.5201, -7.529, -7.5301, -6.3336, -7.6155, -7.6289, -6.7323, -7.6973, -7.6826, -7.4661, -7.7358, -7.7656, -5.975, -7.1674, -5.9046, -6.7743, -4.8716, -5.7929, -4.9827, -6.5426, -5.8471, -5.4927, -5.1726, -5.7127, -5.6843, -5.9546, -6.177, -5.7962, -5.4362, -5.5327, -6.0204, -5.7603, -5.1195, -5.7509, -5.8881, -5.825, -6.1462, -4.8439, -5.9671, -4.544, -5.7177, -5.0233, -5.1345, -4.9485, -5.3855, -5.1945, -5.5368, -5.0145, -5.3364, -4.9669, -5.3171, -5.4095, -5.5289, -5.6877, -5.6124, -5.6232, -5.6464, -5.8129, -6.921, -6.9351, -6.9746, -7.0513, -7.1861, -7.1887, -7.1995, -7.2138, -7.2343, -7.2936, -7.3408, -7.3624, -7.3922, -7.43, -7.486, -7.4928, -7.5237, -7.546, -7.5504, -7.5814, -7.6288, -7.6313, -7.6314, -7.633, -7.6331, -7.1543, -5.3033, -6.9934, -7.7259, -6.6432, -5.7481, -6.2089, -6.2156, -7.0752, -6.3379, -6.6958, -6.1396, -5.5437, -6.4881, -7.0802, -7.2023, -5.9875, -5.4245, -4.3452, -6.1097, -5.1573, -5.8414, -5.9582, -6.0533, -5.3675, -4.844, -6.7442, -4.974, -5.6241, -6.2043, -4.8342, -5.8275, -4.8053, -4.6113, -5.7949, -5.3502, -5.6747, -5.55, -4.9807, -5.356, -5.5132, -5.5015, -5.2774, -5.3103, -5.4352, -5.6905, -5.4614, -4.8018, -5.3678, -5.6711, -5.7422, -5.6654, -5.5844, -5.5994, -5.6618, -5.5167, -5.6841, -5.7951, -5.2338, -5.9776, -6.0819, -6.1253, -6.1301, -6.2994, -6.4856, -6.3364, -6.7573, -6.7863, -6.8158, -6.8767, -6.9418, -7.0368, -4.1562, -7.0476, -7.1508, -7.1515, -7.1587, -7.222, -7.2223, -7.2507, -7.2595, -7.3084, -5.7993, -7.3298, -7.3372, -4.7569, -5.3254, -5.9013, -4.6065, -4.9642, -6.6171, -3.8972, -4.6891, -6.1339, -6.7195, -5.1263, -4.7233, -6.2665, -5.4889, -6.2788, -4.3652, -5.4322, -5.9307, -6.3583, -5.4282, -5.497, -5.4015, -5.5506, -4.7864, -5.3414, -5.0959, -5.1542, -5.3469, -5.6786, -5.3834, -4.9971, -5.5667, -5.4806, -5.4375, -5.4451, -5.4369, -5.5571, -6.0953, -6.1603, -6.3728, -6.3992, -6.4268, -6.482, -6.6177, -5.3042, -6.6736, -6.8025, -6.8018, -6.8503, -6.9521, -6.9731, -6.994, -7.0273, -7.0315, -7.0379, -7.054, -7.1257, -7.2337, -7.2351, -7.2383, -7.2674, -7.3005, -7.3024, -7.3209, -7.3228, -7.3291, -7.3445, -5.6549, -7.1088, -5.9145, -5.7223, -6.8442, -5.6004, -5.9344, -5.849, -5.0294, -6.119, -5.8098, -5.8049, -6.5847, -6.3045, -5.9684, -6.3546, -5.5742, -6.4292, -5.251, -5.79, -5.1722, -5.7614, -4.8844, -5.3255, -5.254, -5.3287, -5.4351, -5.2785, -5.9195, -6.0688, -5.8875, -5.6192, -5.6671, -5.9264, -5.4881, -5.3583, -5.5663, -5.6472, -5.7771, -5.6555, -5.7488, -5.7405, -5.8642, -4.1523, -4.7052, -4.8428, -5.0345, -5.6681, -5.6768, -5.7431, -5.8937, -5.9447, -6.033, -6.0734, -6.1136, -6.2824, -6.34, -6.3471, -6.4245, -6.4286, -6.4526, -6.4641, -6.4724, -6.4972, -6.5165, -6.5197, -6.5638, -6.5927, -6.6062, -6.6404, -6.6458, -6.6476, -6.6573, -4.6705, -5.7963, -6.2397, -6.0098, -5.1439, -5.4278, -5.5613, -6.1872, -5.8223, -5.3962, -5.7551, -6.0817, -5.4264, -5.479, -5.3184, -5.5375, -5.8209, -5.2188, -5.9392, -5.5785, -5.4391, -5.6262, -5.9308, -5.8004, -5.8615, -4.695, -4.8469, -4.8806, -4.4123, -5.1832, -5.4881, -5.8611, -5.8847, -5.9439, -6.0614, -6.1008, -6.1045, -6.1665, -6.1897, -6.2289, -4.0472, -6.3442, -6.3673, -6.3769, -6.4007, -6.4034, -6.5666, -6.5852, -6.6695, -6.6696, -6.6703, -6.7036, -6.7057, -6.7669, -6.8319, -6.589, -4.17, -4.9068, -6.2808, -5.259, -6.5267, -6.2043, -6.0531, -5.8731, -5.663, -6.2982, -4.8198, -5.8422, -4.2554, -6.0482, -5.6903, -4.7909, -5.7381, -5.5734, -5.8073, -5.6146, -4.9765, -5.0866, -5.742, -5.451, -5.4355, -5.85, -5.7941, -5.3855, -5.6521, -5.5984, -5.5492, -5.5691, -5.7307, -5.61, -5.6808, -5.7245, -5.4627, -5.5443, -5.8514, -6.502, -6.5378, -6.6027, -6.9058, -6.9256, -6.9718, -5.5889, -7.0638, -7.0673, -7.1188, -7.0031, -7.1859, -7.1911, -7.2191, -7.2371, -7.3492, -7.3517, -7.3641, -7.3719, -7.3791, -7.3896, -7.4472, -7.4575, -7.4617, -7.4782, -7.4799, -7.4877, -5.7325, -6.7746, -6.3783, -6.4151, -5.3099, -6.6239, -4.8547, -6.1278, -5.6961, -4.9129, -5.3967, -5.6629, -5.548, -5.7107, -5.7731, -4.8603, -5.0572, -4.9653, -5.6231, -5.637, -5.6004, -5.5584, -5.2843, -4.7361, -5.5217, -5.1083, -5.5371, -5.4149, -4.7495, -5.5237, -4.9956, -5.1341, -5.0253, -5.3453, -5.306, -5.4173, -5.3374, -5.4912, -5.4424, -5.527, -5.5785, -4.5629, -4.9762, -5.448, -5.7248, -5.779, -5.8985, -5.9323, -5.9756, -6.0445, -6.047, -6.0732, -6.1169, -6.1169, -6.118, -6.1216, -6.1449, -6.222, -6.2912, -6.3128, -6.354, -6.3589, -6.3656, -6.3739, -6.4557, -6.5084, -6.5502, -6.5972, -6.701, -6.7593, -4.094, -6.3068, -5.8753, -4.8535, -4.4565, -4.2245, -5.6791, -5.4645, -6.1413, -5.2931, -4.9054, -5.0125, -5.3483, -5.6292, -5.215, -5.2423, -5.3993, -5.4964, -5.1189, -5.735, -5.552, -5.593, -5.616, -5.5868, -5.3747, -5.1034, -5.0199, -5.6309, -5.4811, -5.4169, -5.3712, -5.3876, -5.2688, -5.5802, -5.1441, -5.4541, -5.2862, -5.7951, -5.8018, -5.8109, -5.8999, -6.0443, -6.0855, -6.12, -6.1789, -6.1945, -6.2947, -6.3287, -6.35, -6.4215, -6.4298, -6.4958, -6.5116, -6.5182, -6.5191, -6.5357, -6.587, -6.6043, -6.6376, -6.6483, -6.6549, -5.6795, -6.6634, -6.7039, -6.1064, -4.7958, -5.8468, -5.3538, -5.5049, -4.5912, -5.9144, -5.9525, -4.8501, -4.9374, -5.5256, -5.6058, -5.8259, -5.8139, -5.1594, -4.8873, -5.9531, -5.3842, -5.5559, -5.6626, -5.1225, -5.8163, -5.3209, -5.3218, -5.1774, -5.422, -5.4537, -5.3435, -5.5411, -5.7814, -5.7851, -5.2786, -5.8666, -6.2889, -6.3597, -6.3729, -6.4197, -6.5597, -6.6345, -6.7489, -6.7768, -6.7935, -6.8033, -6.8366, -6.8795, -6.9443, -6.136, -7.02, -7.0272, -7.0347, -7.0648, -7.1189, -7.1209, -7.122, -7.1299, -7.1439, -7.1469, -7.1473, -7.164, -7.1818, -7.1879, -4.186, -5.9377, -4.4026, -4.8919, -5.339, -3.0355, -5.7096, -6.7655, -5.4513, -4.9894, -4.891, -3.1753, -4.5321, -5.0804, -3.272, -4.0464, -5.8118, -4.4939, -5.8785, -5.0107, -3.8561, -4.1925, -4.5382, -4.0367, -3.4756, -4.5295, -4.5395, -3.4424, -4.5729, -4.6907, -4.8556, -4.3388, -4.8242, -4.9226, -4.7952, -4.9578, -5.2085, -4.648, -4.752, -4.8079, -4.3809, -5.0772, -5.2667, -5.2746, -5.2756, -5.3012, -5.3471, -5.3699, -5.3924, -5.6215, -5.6445, -5.0488, -5.7184, -5.7876, -5.7965, -4.566, -5.9176, -5.9488, -6.0407, -6.0506, -6.0558, -6.056, -6.0633, -6.0681, -6.0104, -5.5896, -6.1796, -5.3818, -4.3238, -4.9882, -5.4435, -4.8406, -4.7412, -5.3782, -4.7948, -5.3028, -5.5736, -3.3551, -4.4915, -5.5326, -5.5263, -5.4372, -5.1289, -5.3783, -5.4826, -5.5081, -4.4218, -5.0349, -5.1557, -5.2773, -5.4133, -5.425, -5.4693, -5.472, -5.6202, -5.8162, -5.8369, -5.8807, -5.8822, -5.921, -6.0214, -6.0966, -6.1057, -6.1227, -6.1499, -6.1504, -6.1616, -6.1901, -6.2105, -6.2201, -6.2831, -6.3219, -6.3374, -6.3396, -6.3502, -6.3878, -4.1548, -5.5891, -5.5785, -5.1396, -5.4484, -5.4274, -5.9116, -5.8442, -6.0207, -5.8057, -5.4524, -6.061, -5.7316, -5.2234, -5.1023, -5.3213, -5.4624, -5.8502, -5.7495, -5.8922, -5.8901, -4.8468, -5.1491, -5.6196, -5.7207, -5.8061, -5.9349, -5.9959, -5.9975, -6.0368, -6.0435, -6.0472, -6.0871, -6.0887, -6.0892, -6.0918, -6.0933, -6.1056, -6.1111, -6.1199, -6.1805, -6.1926, -6.2099, -6.2162, -6.2392, -6.2409, -6.245, -6.2688, -6.2762, -6.2852, -6.2917, -5.1997, -5.3702, -5.6797, -4.9562, -5.4338, -5.3853, -4.5413, -5.4803, -3.9583, -5.999, -4.9567, -4.6969, -5.1487, -4.9171, -5.7249, -5.6103, -5.7077, -5.8621, -5.2085, -5.1179, -5.0509, -5.512, -5.2857, -4.6646, -4.8832, -5.3545, -4.4932, -5.2654, -5.4189, -4.994, -5.3036, -5.266, -5.4953, -5.5438, -4.274, -5.6536, -5.7638, -5.8626, -5.9348, -6.0312, -6.0708, -6.0983, -6.1088, -6.1167, -6.1315, -6.1722, -6.1733, -6.1979, -6.2149, -6.3159, -6.3893, -6.4235, -6.4359, -6.489, -6.4928, -6.4966, -6.5467, -6.5611, -6.5936, -6.6114, -6.632, -6.6621, -6.688, -6.7094, -5.088, -3.1824, -6.0845, -5.0986, -5.3904, -5.2046, -4.9706, -3.5662, -5.2416, -5.9046, -4.7021, -4.9068, -4.8086, -6.0949, -5.6139, -5.8572, -4.6628, -4.7664, -5.4848, -5.5666, -4.5743, -4.7371, -5.6165, -5.2987, -5.3644, -5.5946, -5.3048, -5.7622, -5.4509, -5.6011, -5.6206, -5.5963, -5.4985, -5.6089, -4.9119, -5.0287, -5.1146, -5.2723, -5.2839, -4.3339, -5.3727, -5.4377, -5.4383, -5.4737, -5.5595, -5.5734, -4.5815, -5.5997, -5.6021, -5.619, -5.6202, -5.7378, -5.7435, -5.7733, -5.7743, -5.7801, -5.8388, -5.8595, -5.8606, -5.8617, -5.8932, -5.9032, -5.9555, -6.0591, -5.7145, -4.9329, -5.22, -4.8004, -5.5229, -4.8445, -5.0339, -5.5461, -4.9821, -5.2323, -5.0419, -5.2231, -5.3411, -5.4715, -5.4603, -5.3819, -4.4745, -4.4785, -4.4951, -4.5532, -4.5688, -5.1577, -5.1979, -5.2857, -5.4072, -5.4241, -5.4376, -5.498, -5.5592, -5.5964, -5.6583, -5.6965, -5.7107, -5.7204, -5.6985, -5.769, -5.7734, -5.8682, -5.8808, -5.8975, -5.9198, -6.0269, -6.0956, -6.1024, -6.111, -6.1145, -5.021, -5.2501, -4.7703, -5.1286, -4.7392, -5.2694, -5.6123, -5.7694, -5.6156, -5.6236, -5.4543, -5.6323, -5.7163, -3.6382, -4.523, -5.3015, -5.4863, -5.5131, -5.6452, -5.6868, -5.7246, -5.7806, -5.7914, -5.8021, -5.8427, -5.8638, -5.8974, -4.0749, -5.9493, -5.9642, -5.0956, -6.0724, -6.0989, -6.1102, -6.1221, -6.1933, -6.2034, -6.2057, -6.2074, -6.2287, -6.2364, -6.1787, -6.2485, -4.8871, -5.1989, -4.8724, -5.9401, -5.8105, -4.7625, -5.0697, -4.8256, -4.6912, -4.6813, -5.9167, -5.0054, -5.5527, -5.743, -5.6933, -5.7498, -5.0759, -5.101, -5.3034, -5.4753, -5.4807, -5.4932, -5.5189, -5.5321, -5.5446, -5.6046, -5.615, -5.6456, -5.6757, -5.7, -5.7375, -5.7804, -5.7847, -5.808, -5.8125, -5.8467, -5.8518, -5.862, -5.882, -5.8883, -4.4009, -6.0107, -6.0278, -6.0383, -6.0433, -6.0944, -5.3985, -4.3614, -4.2917, -5.6459, -5.7994, -5.3276, -5.1648, -5.0147, -5.3909, -5.3516, -5.65, -5.5164, -5.6387], \"loglift\": [30.0, 29.0, 28.0, 27.0, 26.0, 25.0, 24.0, 23.0, 22.0, 21.0, 20.0, 19.0, 18.0, 17.0, 16.0, 15.0, 14.0, 13.0, 12.0, 11.0, 10.0, 9.0, 8.0, 7.0, 6.0, 5.0, 4.0, 3.0, 2.0, 1.0, 1.5652, 1.5645, 1.5631, 1.5629, 1.5627, 1.5627, 1.5606, 1.5601, 1.5599, 1.5598, 1.5591, 1.5587, 1.5573, 1.5572, 1.5564, 1.556, 1.5554, 1.5553, 1.555, 1.5549, 1.5549, 1.5547, 1.5547, 1.5539, 1.5535, 1.553, 1.5529, 1.5526, 1.552, 1.5518, 1.5518, 1.5512, 1.5235, 1.5238, 1.5247, 1.4091, 1.4856, 1.4786, 1.4225, 1.4904, 1.455, 1.2781, 1.4431, 1.3955, 1.1417, 1.246, 1.3137, 1.3347, 1.1872, 0.9879, 1.0448, 1.1954, 1.244, 1.0492, 1.0717, 1.2543, 0.9067, 0.9757, 1.1524, 1.1433, 1.0515, 1.211, 1.0754, 1.2112, 1.1623, 0.9964, 0.9011, 1.0185, 1.0355, 0.7034, 1.0917, 0.7806, 0.9321, 0.734, 0.752, 0.5688, 0.9026, 0.8486, 0.8705, -0.1076, 2.1705, 2.1699, 2.1695, 2.1693, 2.1684, 2.1684, 2.1681, 2.1679, 2.1677, 2.1676, 2.1674, 2.1673, 2.1673, 2.1664, 2.1663, 2.1641, 2.1638, 2.1637, 2.1624, 2.1623, 2.1619, 2.1617, 2.1604, 2.1601, 2.1601, 2.1598, 2.1598, 2.1596, 2.1591, 2.1591, 2.1447, 2.1558, 2.1345, 2.1047, 2.0999, 2.1104, 2.1177, 2.0566, 1.9082, 2.0717, 1.9234, 2.0006, 2.0771, 2.0081, 1.9559, 1.9666, 1.9006, 1.7476, 1.72, 1.8675, 1.9453, 1.6029, 1.5342, 1.7198, 1.3801, 1.8717, 1.0878, 0.847, 0.6652, 1.4538, 1.8633, 0.5059, -0.5425, 1.5489, -0.503, 0.4377, -0.4361, 2.2897, 2.289, 2.2878, 2.2876, 2.2853, 2.2837, 2.2825, 2.2824, 2.2814, 2.281, 2.2808, 2.2805, 2.2801, 2.2798, 2.2786, 2.2785, 2.2767, 2.2753, 2.2734, 2.2733, 2.2732, 2.2724, 2.2717, 2.2715, 2.2709, 2.2701, 2.27, 2.2699, 2.2693, 2.2687, 2.2628, 2.2684, 2.2518, 2.258, 2.2036, 2.2321, 2.2036, 2.2484, 2.2191, 2.1819, 2.14, 2.1641, 2.1422, 2.1617, 2.1601, 2.113, 2.0474, 2.0452, 2.1122, 2.0426, 1.8988, 2.0295, 2.0158, 1.9126, 2.0164, 1.2683, 1.885, 0.8826, 1.7029, 1.1223, 1.1768, 0.9528, 1.3566, 1.1009, 1.4955, 0.5556, 1.0161, 0.035, 0.7549, 0.6819, 0.7077, 1.1497, -0.0399, 0.0727, 0.2391, 2.3477, 2.3411, 2.3409, 2.3405, 2.3397, 2.3381, 2.338, 2.3379, 2.3377, 2.3374, 2.3366, 2.3359, 2.3356, 2.3351, 2.3345, 2.3336, 2.3335, 2.3329, 2.3325, 2.3324, 2.3319, 2.3309, 2.3309, 2.3309, 2.3309, 2.3309, 2.3302, 2.3296, 2.329, 2.3289, 2.3228, 2.3035, 2.2958, 2.2835, 2.3132, 2.282, 2.2962, 2.2725, 2.2348, 2.2838, 2.3111, 2.3165, 2.2185, 2.167, 2.057, 2.2079, 2.0915, 2.1655, 2.1787, 2.1899, 2.0983, 1.9594, 2.2654, 1.9737, 2.0803, 2.1679, 1.9028, 2.0856, 1.8304, 1.7527, 2.0047, 1.858, 1.9528, 1.8711, 1.5764, 1.7273, 1.7953, 1.7854, 1.561, 1.5621, 1.5972, 1.8105, 1.5435, 0.7683, 0.7444, 1.6194, 1.8414, 1.5306, 1.0226, 1.0959, 0.7006, 2.4838, 2.4833, 2.4829, 2.4825, 2.4821, 2.4816, 2.4814, 2.4814, 2.4804, 2.4792, 2.4788, 2.4769, 2.4766, 2.4762, 2.4756, 2.4749, 2.4737, 2.4736, 2.4736, 2.4722, 2.4722, 2.4721, 2.4711, 2.4711, 2.4707, 2.4706, 2.4698, 2.4695, 2.4694, 2.4693, 2.4605, 2.4599, 2.4573, 2.4281, 2.4327, 2.4625, 2.3305, 2.3309, 2.4164, 2.448, 2.3406, 2.2185, 2.387, 2.2739, 2.3784, 1.9972, 2.1977, 2.2827, 2.3797, 2.0466, 2.0421, 1.9641, 2.0367, 1.6297, 1.9277, 1.7121, 1.7183, 1.8491, 2.0719, 1.7872, 1.3554, 1.7343, 1.537, 1.2355, 0.8503, 0.2715, -0.1305, 2.5809, 2.5805, 2.5791, 2.5789, 2.5787, 2.5783, 2.5771, 2.577, 2.5766, 2.5752, 2.5752, 2.5747, 2.5734, 2.5731, 2.5729, 2.5724, 2.5724, 2.5723, 2.572, 2.571, 2.5692, 2.5692, 2.5691, 2.5686, 2.568, 2.568, 2.5677, 2.5676, 2.5675, 2.5672, 2.5534, 2.5588, 2.4663, 2.4489, 2.531, 2.4138, 2.4424, 2.4051, 2.2308, 2.3733, 2.2825, 2.2339, 2.4291, 2.3309, 2.1758, 2.283, 1.8024, 2.2269, 1.356, 1.7195, 1.2153, 1.6652, 0.824, 1.1507, 1.0414, 1.0811, 1.0262, 0.7503, 1.6641, 1.8617, 1.467, 0.8892, 0.9952, 1.4762, 0.082, -0.3564, 0.1296, 0.2384, 0.8552, -0.083, 0.4631, 0.3315, -0.4375, 2.743, 2.7423, 2.7421, 2.7417, 2.7397, 2.7397, 2.7394, 2.7386, 2.7384, 2.7379, 2.7376, 2.7373, 2.7361, 2.7357, 2.7356, 2.7349, 2.7349, 2.7347, 2.7346, 2.7345, 2.7343, 2.7341, 2.7341, 2.7336, 2.7333, 2.7332, 2.7328, 2.7327, 2.7327, 2.7326, 2.6811, 2.6762, 2.6847, 2.6538, 2.5271, 2.3496, 2.3856, 2.5971, 2.4116, 2.0323, 2.2315, 2.4514, 1.8151, 1.8054, 1.3763, 1.5002, 1.9156, 0.3513, 1.9699, 0.9374, -0.4372, 0.4064, 1.7116, 0.1738, -0.1531, 2.9392, 2.9388, 2.9388, 2.9381, 2.9379, 2.9368, 2.9348, 2.9347, 2.9343, 2.9335, 2.9332, 2.9331, 2.9326, 2.9324, 2.9321, 2.9312, 2.931, 2.9307, 2.9306, 2.9304, 2.9304, 2.9282, 2.9282, 2.9271, 2.9271, 2.9271, 2.9266, 2.9266, 2.9257, 2.9247, 2.9233, 2.8959, 2.8937, 2.9058, 2.8432, 2.9185, 2.8942, 2.88, 2.8371, 2.7798, 2.8696, 2.5038, 2.7426, 2.1321, 2.7498, 2.4614, 1.7176, 2.4403, 2.2931, 2.3874, 2.1183, 0.9248, 0.9422, 2.1331, 1.3864, 1.2062, 2.2714, 2.0689, -0.3835, 1.1903, 0.8114, 0.3363, 0.1267, 1.5828, 0.0984, 0.7806, 1.2282, 3.1039, 3.1035, 3.1015, 3.0949, 3.0944, 3.0934, 3.088, 3.0876, 3.0866, 3.0856, 3.0844, 3.0843, 3.0831, 3.0813, 3.0813, 3.0812, 3.0804, 3.0799, 3.0765, 3.0764, 3.076, 3.0758, 3.0755, 3.0752, 3.0732, 3.0729, 3.0726, 3.0721, 3.0721, 3.0718, 3.0595, 3.0607, 3.0506, 3.0457, 3.0028, 3.0267, 2.9079, 2.9915, 2.9353, 2.8601, 2.8849, 2.8638, 2.8129, 2.8064, 2.8056, 2.5912, 2.6237, 2.5914, 2.7434, 2.6789, 2.6293, 2.5684, 2.4115, 2.1008, 2.4527, 2.2007, 2.4061, 2.292, 1.7664, 2.3108, 1.7451, 1.878, 1.483, 2.0482, 1.8453, 1.6471, 0.3585, 1.2047, 0.5903, 1.3503, 1.2598, 3.3095, 3.3082, 3.306, 3.304, 3.3036, 3.3025, 3.3022, 3.3018, 3.3011, 3.301, 3.3008, 3.3003, 3.3003, 3.3002, 3.3002, 3.2999, 3.299, 3.298, 3.2977, 3.2971, 3.2971, 3.297, 3.2969, 3.2956, 3.2947, 3.294, 3.2931, 3.2911, 3.2898, 3.2893, 3.2852, 3.2704, 3.2378, 3.1754, 3.1583, 3.2214, 3.1394, 3.2505, 3.0601, 2.9481, 2.9579, 3.0435, 3.1109, 2.9656, 2.9663, 2.9771, 3.0036, 2.6676, 3.0259, 2.8419, 2.8655, 2.8789, 2.8315, 2.4391, 1.7915, 1.5868, 2.7477, 2.3884, 2.1833, 2.0223, 2.0351, 1.4259, 2.1067, 3.6364, 3.6342, 3.6339, 3.6308, 3.6307, 3.6306, 3.6295, 3.6275, 3.6269, 3.6263, 3.6253, 3.6251, 3.6233, 3.6226, 3.6222, 3.6207, 3.6205, 3.619, 3.6186, 3.6185, 3.6184, 3.618, 3.6168, 3.6163, 3.6154, 3.6152, 3.615, 3.6149, 3.6147, 3.6136, 3.6078, 3.5727, 3.5279, 3.4554, 3.449, 3.3061, 3.5063, 3.5094, 3.255, 3.1616, 3.3024, 3.202, 3.2645, 3.2137, 2.649, 2.2908, 3.2504, 2.4722, 2.5431, 2.6725, 1.4345, 2.9654, 1.6991, 1.644, 0.9682, 1.32, 1.3543, 0.3649, 1.0061, 2.2579, 1.8998, 3.8695, 3.8693, 3.8609, 3.8591, 3.8587, 3.8575, 3.8533, 3.8509, 3.8468, 3.8457, 3.8451, 3.8447, 3.8433, 3.8415, 3.8386, 3.8354, 3.835, 3.8347, 3.8343, 3.8328, 3.8299, 3.8298, 3.8298, 3.8293, 3.8286, 3.8284, 3.8284, 3.8275, 3.8264, 3.8261, 3.7687, 3.7995, 3.7427, 3.7512, 3.7633, 3.6345, 3.7532, 3.8091, 3.725, 3.6197, 3.5762, 3.2851, 3.4583, 3.5196, 3.1144, 3.1852, 3.5746, 3.2227, 3.5601, 3.2196, 2.7796, 2.8909, 2.9333, 2.6242, 2.0969, 2.5199, 2.4782, 1.5595, 2.245, 2.257, 2.4314, 1.5475, 1.5397, 1.5956, 0.6314, 1.3536, 1.7489, 4.0618, 4.0612, 4.0608, 4.0588, 4.0583, 4.0569, 4.0568, 4.0568, 4.0566, 4.056, 4.0558, 4.0555, 4.0524, 4.0521, 4.051, 4.0509, 4.0497, 4.0496, 4.0473, 4.0473, 4.0466, 4.0446, 4.0444, 4.0443, 4.0443, 4.0441, 4.044, 4.0438, 4.0432, 4.0412, 4.0291, 3.9391, 3.9748, 3.9938, 3.876, 3.8134, 3.9207, 3.7995, 3.8998, 3.9533, 3.2519, 3.3369, 3.9033, 3.7864, 3.4853, 2.3547, 0.7339, 1.0745, 1.234, 4.189, 4.1846, 4.1834, 4.182, 4.1802, 4.1801, 4.1794, 4.1794, 4.177, 4.1733, 4.1729, 4.1719, 4.1719, 4.171, 4.1686, 4.1666, 4.1664, 4.1659, 4.1652, 4.1651, 4.1648, 4.164, 4.1634, 4.1631, 4.1611, 4.1598, 4.1593, 4.1592, 4.1588, 4.1575, 4.1449, 4.1352, 4.1051, 4.0711, 4.0086, 3.9498, 4.0382, 4.008, 4.0777, 3.9181, 3.6698, 4.0785, 3.6104, 2.7907, 2.4971, 2.6497, 2.3936, 3.4827, 2.4971, 3.4915, 1.2654, 4.205, 4.2021, 4.1956, 4.1937, 4.192, 4.1892, 4.1877, 4.1876, 4.1866, 4.1864, 4.1863, 4.1853, 4.1852, 4.1852, 4.1851, 4.1851, 4.1848, 4.1846, 4.1843, 4.1826, 4.1822, 4.1817, 4.1815, 4.1808, 4.1807, 4.1806, 4.1798, 4.1796, 4.1793, 4.179, 4.1237, 4.1312, 4.1244, 4.0324, 4.0573, 4.0467, 3.854, 4.0197, 3.5911, 4.1193, 3.7716, 3.6453, 3.8035, 3.6808, 4.0213, 3.9577, 3.9822, 4.0526, 3.6598, 3.5522, 3.4668, 3.7974, 3.364, 2.659, 2.8826, 3.4232, 2.2489, 2.8192, 3.1284, 1.0348, 2.3182, 1.5764, 2.9536, 2.2404, 4.2492, 4.2352, 4.233, 4.2308, 4.2291, 4.2266, 4.2255, 4.2247, 4.2244, 4.2242, 4.2238, 4.2225, 4.2225, 4.2217, 4.2212, 4.2178, 4.215, 4.2137, 4.2132, 4.211, 4.2109, 4.2107, 4.2086, 4.2079, 4.2064, 4.2056, 4.2046, 4.2031, 4.2018, 4.2007, 4.1783, 4.1228, 4.1879, 4.124, 4.1393, 4.1245, 4.0868, 3.8565, 4.0086, 4.1098, 3.8665, 3.7557, 3.6581, 4.099, 3.8901, 3.9671, 3.2676, 3.1527, 3.6822, 3.7125, 2.7342, 2.8826, 3.5713, 2.9979, 3.0941, 3.2609, 2.4929, 3.5295, 2.181, 2.7908, 2.7325, 2.5439, 1.6386, 2.1826, 5.3041, 5.3008, 5.2982, 5.2927, 5.2923, 5.2889, 5.2888, 5.286, 5.286, 5.2844, 5.2804, 5.2797, 5.279, 5.2784, 5.2783, 5.2774, 5.2773, 5.2709, 5.2705, 5.2688, 5.2687, 5.2684, 5.2647, 5.2634, 5.2633, 5.2632, 5.2612, 5.2605, 5.2569, 5.2491, 5.2395, 5.18, 5.1013, 4.7074, 5.0783, 4.663, 4.7068, 4.9882, 3.6525, 4.1531, 3.7246, 3.4774, 3.681, 3.9827, 3.5824, 2.4735, 5.3149, 5.3148, 5.3145, 5.3134, 5.3132, 5.2982, 5.2968, 5.2937, 5.2884, 5.2881, 5.2875, 5.2848, 5.2818, 5.28, 5.2767, 5.2746, 5.2738, 5.2733, 5.2731, 5.2704, 5.2702, 5.2642, 5.2634, 5.2623, 5.2607, 5.253, 5.2476, 5.247, 5.2463, 5.246, 5.2383, 5.2172, 5.0964, 5.0381, 4.6858, 4.8514, 4.9655, 5.0862, 4.4145, 4.038, 2.4826, 4.0082, 4.6744, 5.5661, 5.5525, 5.5258, 5.516, 5.5144, 5.506, 5.5032, 5.5005, 5.4963, 5.4955, 5.4947, 5.4914, 5.4897, 5.4869, 5.4868, 5.4824, 5.4811, 5.4765, 5.4708, 5.4681, 5.467, 5.4657, 5.4581, 5.4569, 5.4567, 5.4565, 5.4541, 5.4532, 5.4528, 5.4518, 5.2641, 5.2455, 5.1708, 5.3879, 5.3069, 4.7681, 4.7797, 4.5411, 3.997, 3.7973, 5.1154, 3.0936, 4.1877, 4.1575, 3.251, 3.4175, 5.6538, 5.6527, 5.6426, 5.6323, 5.632, 5.6312, 5.6295, 5.6286, 5.6277, 5.6235, 5.6227, 5.6204, 5.6181, 5.6162, 5.6132, 5.6096, 5.6092, 5.6072, 5.6068, 5.6037, 5.6033, 5.6023, 5.6005, 5.5999, 5.5936, 5.5877, 5.5858, 5.5847, 5.5842, 5.5785, 5.4668, 4.8298, 4.5274, 5.2832, 5.3407, 4.7212, 4.4114, 4.0005, 4.3013, 3.4251, 4.7067, 3.3102, 4.1664]}, \"token.table\": {\"Topic\": [1, 9, 20, 13, 17, 18, 19, 1, 7, 10, 6, 15, 3, 3, 1, 2, 3, 4, 5, 6, 7, 12, 4, 5, 16, 11, 2, 6, 4, 1, 5, 9, 10, 12, 19, 6, 1, 2, 6, 9, 19, 6, 13, 17, 19, 1, 2, 3, 4, 5, 6, 7, 8, 9, 10, 11, 12, 13, 2, 1, 2, 6, 7, 8, 10, 4, 5, 15, 11, 12, 11, 4, 15, 20, 2, 6, 8, 10, 15, 16, 2, 4, 2, 4, 11, 13, 19, 1, 2, 10, 1, 3, 5, 6, 8, 12, 1, 2, 3, 5, 6, 7, 8, 9, 12, 1, 2, 3, 5, 6, 9, 12, 1, 6, 3, 5, 12, 2, 4, 5, 9, 11, 1, 5, 12, 5, 12, 10, 10, 2, 4, 9, 16, 8, 10, 16, 1, 5, 7, 9, 14, 1, 5, 7, 9, 5, 10, 16, 10, 16, 1, 10, 16, 16, 1, 4, 10, 16, 9, 16, 7, 9, 8, 20, 4, 4, 14, 9, 9, 9, 1, 2, 9, 17, 2, 3, 4, 5, 6, 12, 1, 2, 3, 6, 8, 1, 3, 5, 6, 7, 8, 10, 11, 16, 1, 10, 1, 1, 10, 18, 1, 2, 3, 4, 5, 6, 7, 8, 10, 11, 14, 3, 1, 4, 8, 2, 18, 6, 11, 16, 12, 13, 8, 1, 2, 3, 4, 5, 6, 7, 8, 9, 10, 11, 13, 18, 14, 9, 7, 9, 1, 7, 9, 1, 2, 3, 5, 6, 7, 8, 9, 13, 9, 1, 2, 3, 4, 5, 6, 7, 8, 9, 12, 15, 1, 2, 3, 5, 6, 7, 8, 9, 11, 13, 7, 7, 6, 18, 18, 6, 6, 4, 5, 16, 3, 5, 5, 2, 4, 5, 11, 1, 6, 7, 20, 1, 2, 3, 6, 11, 2, 3, 6, 8, 15, 17, 1, 2, 3, 4, 5, 13, 8, 14, 15, 1, 2, 4, 7, 10, 16, 2, 19, 1, 3, 4, 5, 7, 11, 12, 14, 16, 1, 4, 7, 11, 12, 3, 5, 1, 10, 17, 4, 12, 6, 8, 15, 16, 16, 12, 1, 6, 7, 14, 17, 3, 8, 20, 16, 15, 1, 7, 10, 8, 7, 15, 17, 1, 2, 3, 5, 6, 7, 11, 4, 5, 4, 5, 11, 2, 5, 3, 15, 7, 8, 15, 16, 13, 1, 2, 3, 5, 7, 9, 10, 16, 6, 15, 12, 12, 3, 5, 12, 3, 5, 8, 10, 12, 13, 19, 20, 4, 18, 1, 3, 6, 13, 15, 15, 19, 13, 7, 1, 2, 17, 12, 13, 20, 9, 19, 20, 4, 12, 19, 1, 2, 3, 4, 5, 6, 8, 9, 11, 20, 4, 11, 13, 14, 15, 14, 2, 8, 15, 2, 3, 11, 13, 2, 3, 7, 1, 7, 9, 10, 15, 7, 9, 7, 9, 7, 2, 11, 11, 10, 1, 5, 7, 9, 10, 2, 11, 4, 5, 2, 3, 5, 6, 17, 13, 8, 20, 2, 4, 5, 9, 11, 11, 16, 3, 4, 5, 13, 17, 2, 4, 5, 6, 8, 17, 19, 4, 17, 1, 5, 17, 16, 1, 2, 3, 5, 6, 7, 8, 9, 15, 4, 5, 1, 2, 3, 4, 11, 12, 13, 16, 18, 3, 4, 4, 14, 4, 2, 3, 4, 5, 1, 7, 9, 1, 2, 3, 6, 7, 12, 10, 5, 2, 6, 16, 2, 3, 5, 7, 11, 15, 3, 3, 1, 2, 10, 19, 3, 4, 6, 7, 8, 11, 4, 6, 8, 5, 7, 9, 14, 4, 5, 1, 2, 3, 4, 5, 6, 8, 10, 11, 13, 3, 3, 4, 5, 17, 2, 14, 11, 14, 1, 2, 4, 5, 15, 4, 19, 1, 16, 1, 2, 3, 5, 6, 7, 8, 9, 10, 11, 12, 14, 16, 1, 2, 10, 1, 2, 6, 7, 10, 1, 2, 15, 1, 2, 3, 4, 6, 9, 10, 15, 18, 9, 6, 1, 2, 4, 5, 6, 7, 8, 11, 14, 19, 18, 2, 2, 2, 2, 11, 17, 8, 7, 14, 1, 2, 3, 4, 5, 7, 8, 10, 11, 12, 5, 2, 11, 13, 11, 11, 10, 2, 3, 4, 5, 11, 13, 4, 5, 1, 2, 4, 5, 7, 8, 12, 14, 15, 14, 1, 14, 1, 2, 3, 4, 6, 7, 8, 10, 12, 1, 3, 6, 7, 16, 14, 3, 3, 5, 9, 17, 5, 1, 8, 8, 1, 2, 5, 9, 5, 19, 11, 13, 13, 8, 15, 5, 12, 1, 2, 3, 4, 5, 6, 7, 9, 11, 13, 4, 15, 2, 7, 3, 4, 5, 3, 4, 4, 5, 17, 2, 5, 19, 2, 4, 11, 7, 2, 4, 8, 15, 16, 20, 2, 6, 7, 14, 7, 14, 16, 18, 5, 19, 2, 4, 8, 15, 20, 9, 3, 1, 2, 3, 5, 12, 3, 1, 2, 17, 19, 4, 6, 7, 9, 11, 13, 9, 10, 20, 7, 8, 10, 16, 5, 13, 3, 11, 1, 3, 5, 6, 7, 11, 4, 4, 5, 12, 2, 2, 2, 3, 6, 13, 13, 5, 15, 4, 5, 8, 17, 4, 10, 18, 1, 5, 7, 9, 10, 2, 3, 8, 1, 7, 9, 14, 14, 10, 2, 4, 8, 10, 1, 2, 3, 5, 6, 7, 8, 9, 1, 5, 6, 7, 9, 14, 1, 2, 3, 5, 6, 7, 8, 9, 12, 1, 2, 7, 9, 1, 2, 4, 5, 6, 7, 9, 11, 1, 2, 4, 5, 7, 9, 7, 9, 10, 1, 2, 4, 5, 7, 9, 5, 2, 4, 5, 16, 14, 16, 18, 12, 1, 6, 7, 9, 9, 8, 16, 1, 7, 2, 1, 2, 3, 4, 5, 6, 7, 8, 9, 1, 3, 6, 7, 8, 1, 7, 20, 20, 12, 2, 4, 5, 16, 7, 2, 4, 5, 9, 14, 15, 5, 1, 2, 3, 4, 5, 6, 7, 9, 11, 12, 1, 3, 6, 9, 10, 14, 2, 2, 20, 1, 2, 3, 4, 5, 6, 7, 8, 9, 10, 11, 13, 14, 15, 16, 15, 15, 4, 6, 15, 3, 3, 4, 7, 11, 16, 17, 14, 8, 15, 5, 5, 1, 6, 10, 1, 2, 10, 11, 13, 17, 14, 4, 5, 3, 9, 17, 4, 11, 2, 4, 6, 8, 16, 20, 6, 12, 15, 5, 8, 8, 15, 10, 16, 15, 2, 7, 8, 10, 16, 20, 15, 17, 2, 6, 8, 9, 15, 1, 2, 3, 5, 6, 8, 1, 2, 3, 4, 5, 6, 7, 8, 9, 12, 14, 5, 7, 7, 19, 1, 2, 10, 19, 12, 19, 4, 13, 4, 4, 5, 1, 2, 3, 4, 5, 6, 7, 8, 11, 14, 2, 5, 6, 12, 10, 7, 10, 3, 4, 8, 10, 15, 17, 1, 6, 10, 11, 15, 4, 7, 17, 12, 16, 2, 18, 1, 2, 3, 5, 6, 8, 17, 1, 6, 1, 3, 6, 7, 8, 9, 15, 9, 14, 16, 17, 2, 6, 3, 11, 1, 7, 3, 6, 13, 17, 1, 6, 7, 14, 5, 12, 6, 1, 2, 3, 4, 5, 6, 10, 12, 14, 14, 19, 2, 1, 2, 3, 4, 6, 7, 8, 11, 13, 19, 1, 2, 7, 8, 10, 16, 1, 16, 8, 8, 16, 10, 1, 7, 1, 2, 3, 5, 6, 8, 10, 2, 18, 18, 18, 12, 1, 2, 3, 4, 5, 6, 7, 8, 9, 10, 18, 15, 1, 2, 4, 7, 9, 10, 1, 4, 18, 4, 4, 5, 7, 4, 1, 10, 18, 1, 2, 3, 4, 5, 6, 7, 8, 9, 2, 3, 4, 7, 9, 9, 17, 3, 4, 5, 12, 1, 2, 4, 5, 10, 12, 16, 13, 2, 8, 9, 14, 14, 14, 5, 11, 14, 7, 4, 1, 2, 3, 4, 7, 8, 12, 2, 3, 4, 12, 13, 12, 16, 6, 10, 4, 12, 1, 1, 2, 4, 10, 7, 10, 10, 10, 10, 15, 8, 14, 15, 7, 7, 10, 7, 10, 2, 6, 2, 3, 4, 7, 8, 11, 15, 16, 8, 15, 20, 5, 7, 1, 7, 18, 17, 3, 3, 2, 4, 6, 7, 8, 16, 20, 15, 13, 1, 1, 1, 10, 1, 16, 14, 2, 3, 5, 6, 1, 2, 14, 1, 10, 16, 9, 1, 7, 8, 14, 1, 2, 3, 5, 6, 7, 8, 9, 12, 14, 1, 18, 6, 7, 10, 13, 19, 3, 12, 1, 2, 3, 4, 5, 6, 7, 8, 10, 11, 14, 6, 13, 6, 13, 6, 2, 8, 16, 10, 10, 1, 3, 5, 6, 8, 10, 11, 14, 15, 16, 1, 2, 18, 2, 8, 15, 17, 14, 17, 14, 1, 4, 5, 16, 1, 2, 6, 7, 9, 1, 2, 3, 4, 5, 6, 7, 8, 9, 12, 1, 2, 3, 4, 5, 6, 7, 8, 9, 11, 14, 5, 1, 2, 3, 4, 5, 6, 7, 8, 9, 12, 15, 16, 4, 4, 20, 9, 9, 10, 16, 1, 2, 3, 4, 5, 6, 7, 8, 10, 11, 1, 3, 5, 6, 7, 8, 12, 14, 7, 1, 2, 3, 5, 6, 7, 8, 6, 8, 15, 1, 3, 5, 6, 7, 8, 14, 13, 1, 1, 20, 1, 2, 3, 4, 5, 6, 7, 8, 9, 10, 14, 2, 3, 4, 8, 12, 4, 4, 8, 1, 2, 3, 4, 5, 6, 8, 10, 11, 14, 8, 1, 2, 3, 4, 5, 6, 7, 8, 9, 1, 3, 7, 18, 1, 11, 1, 2, 3, 4, 5, 6, 7, 8, 9, 10, 11, 1, 1, 3, 4, 6, 7, 8, 15, 1, 1, 13, 5, 14, 10, 16, 1, 16, 7, 1, 3, 5, 6, 8, 1, 2, 3, 5, 6, 7, 8, 9, 11, 1, 3, 5, 7, 8, 9, 19, 11, 1, 2, 4, 6, 7, 12, 2, 7, 20, 1, 3, 5, 11, 13, 16, 4, 5, 17, 9, 1, 11, 17, 8, 20, 1, 2, 3, 4, 5, 6, 7, 8, 9, 6, 15, 3, 6, 10, 13, 16, 1, 2, 6, 10, 8, 15, 18, 2, 3, 6, 8, 10, 16, 1, 10, 16, 4, 6, 7, 13, 4, 13, 17, 3, 4, 9, 12, 13, 17, 3, 4, 5, 1, 2, 3, 6, 7, 8, 5, 2, 4, 8, 15, 6, 7, 13, 9, 18, 1, 6, 2, 8, 3, 6, 6, 11, 13, 19, 18, 5, 1, 2, 3, 4, 5, 6, 7, 8, 9, 11, 12, 13, 15, 3, 8, 15, 17, 1, 10, 16, 1, 10, 1, 2, 3, 4, 5, 6, 7, 8, 9, 10, 11, 14, 17, 7, 19, 1, 3, 4, 5, 6, 7, 8, 10, 18, 12, 4, 6, 2, 4, 6, 8, 10, 16, 10, 16, 10, 16, 3, 15, 8, 17, 1, 2, 3, 4, 5, 6, 7, 8, 9, 11, 12, 13, 15, 18, 20, 8, 10, 11, 1, 3, 5, 6, 7, 8, 9, 10, 13, 4, 8, 18, 14, 18, 2, 15, 14, 15, 14, 1, 2, 3, 5, 6, 7, 11, 17, 20, 15, 19, 20, 13, 5, 9, 1, 2, 3, 4, 5, 7, 8, 10, 11, 2, 3, 9, 10, 10, 12, 14, 3, 4, 7, 12, 11, 2, 4, 5, 6, 13, 6, 13, 13, 12, 6, 18, 11, 10, 16, 5, 5, 5, 11, 14, 2, 18, 18, 6, 4, 9, 14, 19, 3, 4, 5, 6, 4, 6, 14, 10, 10, 17, 19, 7, 12, 20, 7, 7, 4, 2, 4, 20, 3, 4, 7, 8, 15, 16, 6, 1, 7, 10, 8, 1, 2, 3, 4, 6, 7, 9, 10, 1, 2, 16, 1, 2, 3, 5, 6, 7, 8, 10, 11, 15, 19, 6, 11, 4, 8, 15, 12, 8, 1, 3, 4, 5, 8, 11, 11, 14, 14, 8, 8, 15, 20, 4, 17, 2, 5, 10, 11, 10, 19, 4, 13, 11, 12, 15, 3, 2, 3, 8, 9, 15, 1, 7, 8, 10, 15, 3, 8, 15, 8, 3, 5, 8, 10, 14, 8, 8, 1, 2, 3, 4, 5, 7, 9, 12, 14, 1, 2, 3, 4, 5, 6, 7, 8, 9, 11, 12, 1, 2, 4, 5, 7, 8, 9, 11, 19, 17, 19, 5, 7, 1, 2, 10, 16, 17, 3, 5, 3, 5, 1, 2, 3, 4, 5, 6, 8, 9, 12, 5, 6, 1, 2, 3, 6, 7, 8, 10, 11, 13, 15, 16, 13, 4, 20, 9, 4, 2, 6, 10, 3, 4, 10, 12, 15, 5, 1, 2, 2, 6, 2, 13, 13, 1, 2, 3, 5, 6, 7, 9, 10, 11, 4, 4, 5, 6, 2, 16, 5, 2, 4, 5, 6, 13, 19, 20, 18, 11, 1, 2, 6, 3, 1, 2, 3, 10, 1, 16, 14, 1, 2, 4, 5, 10, 14, 2, 4, 6, 7, 10, 16, 8, 19, 9, 13, 17, 1, 2, 3, 5, 6, 7, 9, 12, 9, 1, 4, 14, 13, 11, 18, 12, 9, 1, 2, 3, 4, 5, 6, 7, 9, 11, 1, 3, 5, 6, 7, 8, 9, 11, 14, 1, 2, 3, 5, 6, 7, 8, 9, 2, 9, 19, 8, 15, 3, 10, 1, 7, 9, 5, 6, 19, 5, 7, 12, 3, 4, 7, 9, 12, 8, 12, 6, 2, 4, 5, 7, 2, 4, 14, 7, 9, 18, 7, 19, 6, 6, 1, 6, 18, 1, 2, 3, 5, 6, 7, 8, 9, 10, 11, 14, 17, 18, 1, 2, 8, 10, 2, 1, 4, 6, 8, 16, 11, 6, 13, 18, 6, 15, 11, 1, 3, 4, 5, 6, 8, 3, 4, 5, 8, 11, 6, 8, 10, 16, 7, 1, 2, 3, 6, 7, 8, 10, 3, 12, 11, 15, 7, 4, 13, 6, 13, 13, 1, 2, 3, 5, 6, 7, 12, 2, 4, 6, 9, 8, 8, 15, 5, 19, 3, 4, 16, 7, 12, 3, 16, 16, 8, 1, 2, 3, 5, 6, 7, 8, 9, 10, 11, 15, 2, 6, 7, 10, 2, 4, 5, 6, 8, 9, 16, 2, 2, 10, 17, 4, 20, 2, 20, 2, 3, 8, 12, 15, 2, 6, 1, 2, 3, 4, 5, 8, 12, 6, 1, 2, 3, 7, 9, 10, 20, 11, 18, 4, 5, 11, 10, 16, 2, 3, 4, 8, 11, 12, 13, 15, 16, 4, 5, 1, 7, 18, 7, 15, 4, 4, 5, 10, 17, 3, 4, 10, 16, 3, 8, 14, 6, 1, 4, 6, 13, 1, 6, 1, 3, 5, 6, 7, 8, 10, 11, 14, 4, 3, 5, 6, 11, 13, 13, 12, 2, 4, 5, 10, 2, 3, 5, 6, 8, 11, 13, 7, 1, 16, 3, 1, 2, 3, 4, 5, 6, 8, 10, 11, 16, 18, 10, 6, 3, 4, 5, 6, 13, 1, 10, 1, 3, 5, 7, 12, 1, 3, 5, 6, 7, 8, 9, 5, 12, 1, 3, 5, 9, 11, 9, 2, 4, 5, 7, 9, 10, 11, 14, 16, 1, 6, 10, 16, 4, 6, 13, 13, 19, 4, 9, 19, 4, 12, 13, 3, 6, 13, 12, 18, 7, 8, 14, 16, 18, 1, 6, 11, 19, 8, 14, 1, 2, 3, 4, 5, 7, 9, 10, 11, 13, 14, 1, 2, 5, 7, 9, 10, 2, 3, 6, 7, 10, 3, 6, 11, 5, 8, 20, 3, 15, 14, 12, 1, 2, 3, 5, 6, 7, 8, 10, 11, 12, 13, 14, 6, 2, 5, 11, 1, 2, 3, 4, 6, 14, 5, 16, 1, 2, 4, 5, 7, 8, 9, 10, 11, 12, 9, 12, 12, 13, 20, 1, 3, 5, 6, 8, 10, 1, 7, 8, 20, 5, 18, 6, 8, 14, 7, 18, 8, 11, 7, 20, 5, 17, 10, 1, 2, 3, 4, 5, 9, 11, 13, 2, 3, 4, 5, 9, 13, 1, 2, 3, 5, 6, 7, 8, 9, 11, 16, 3, 4, 5, 16, 16, 6, 8, 15, 8, 14, 16, 2, 3, 4, 6, 12, 13, 1, 19, 1, 3, 5, 6, 7, 9, 12, 5, 11, 2, 10, 19, 2, 3, 4, 5, 6, 7, 11, 13, 7, 1, 3, 5, 6, 8, 12, 3, 4, 5, 12, 12, 9, 9, 1, 2, 4, 6, 7, 9, 11, 1, 2, 5, 7, 9, 10, 17, 1, 3, 5, 6, 7, 8, 9, 1, 3, 4, 5, 6, 7, 8, 9, 1, 2, 3, 5, 6, 7, 8, 9, 1, 2, 3, 5, 6, 7, 8, 9, 10, 13, 15, 2, 6, 8, 11, 14, 20, 15, 1, 2, 3, 4, 5, 6, 7, 8, 9, 10, 11, 6, 10, 15, 15, 1, 3, 6, 12, 17, 4, 8, 15, 8, 1, 19, 2, 16, 12, 1, 10, 1, 2, 3, 5, 6, 7, 8, 9, 10, 1, 7, 9, 12, 17, 19, 10, 16, 10, 16, 10, 16, 14, 4, 6, 15, 20, 20, 2, 3, 4, 11, 13, 19, 2, 4, 10, 9, 2, 4, 6, 8, 10, 14, 16, 4, 5, 3, 13, 1, 2, 3, 4, 5, 6, 7, 9, 10, 11, 12, 13, 1, 2, 4, 6, 9, 2, 3, 4, 5, 1, 2, 3, 4, 5, 6, 9, 10, 11, 13, 1, 2, 3, 4, 5, 6, 7, 8, 11, 16, 5, 2, 6, 8, 15, 18, 19, 13, 18, 14, 15, 2, 3, 4, 5, 7, 9, 12, 3, 1, 3, 4, 5, 8, 4, 6, 11, 13, 13, 14, 20, 1, 2, 3, 4, 5, 6, 7, 12, 3, 20, 2, 4, 6, 10, 15, 1, 6, 7, 11, 3, 4, 6, 10, 19, 2, 9, 10, 18, 6, 8, 16, 20, 14, 1, 2, 3, 4, 5, 6, 7, 8, 9, 11, 14, 2, 3, 7, 8, 10, 16, 4, 5, 17, 5, 17, 1, 4, 5, 1, 4, 5, 8, 8, 15, 8, 3, 11, 2, 11, 4, 1, 15, 1, 7, 15, 1, 2, 10, 16, 1, 3, 5, 12, 1, 3, 4, 5, 7, 9, 13, 1, 2, 4, 5, 6, 7, 9, 1, 2, 3, 4, 5, 6, 7, 9, 10, 1, 2, 3, 4, 5, 6, 10, 1, 2, 3, 4, 5, 6, 7, 8, 9, 10, 13, 16, 1, 3, 8, 7, 1, 2, 3, 5, 6, 7, 8, 9, 10, 12, 14, 11, 1, 4, 7, 9, 13, 19, 5, 5, 17, 17, 17, 18, 9, 1, 2, 3, 5, 6, 8, 10, 1, 2, 3, 6, 7, 8, 10, 13, 13, 10, 10], \"Freq\": [0.04134575986936445, 0.9509524769953824, 0.9683288848162431, 0.9821696369244443, 0.9619368294753539, 0.9260384571893193, 0.8417867940350094, 0.09043241893489352, 0.7447375676991231, 0.1595866216498121, 0.20963430167868266, 0.7786416919493928, 0.9870257905005847, 0.9878442657479793, 0.03824964341156475, 0.04130961488448993, 0.00305997147292518, 0.5676247082276208, 0.07037934387727914, 0.01682984310108849, 0.026009757519864028, 0.23408781767877623, 0.9427282248701618, 0.04208608146741794, 0.9596642529130947, 0.9614593576679692, 0.7613498281266347, 0.23618516565972245, 0.9821262527968823, 0.008949419387836246, 0.05667965612296289, 0.029831397959454154, 0.014915698979727077, 0.8889756591917338, 0.920752944802643, 0.9861590080287588, 0.9936676099261659, 0.9941347326985283, 0.9862943615821881, 0.9702946916665331, 0.9480995312541333, 0.9839387611867938, 0.2754638399101088, 0.7083355883402799, 0.970056474495643, 0.18687671194910707, 0.07365141000347161, 0.1764336015754805, 0.20528956444997498, 0.0788729651902849, 0.08162115213071294, 0.09151462511625391, 0.032978243285136544, 0.02253513291150997, 0.030230056344708496, 0.0030230056344708496, 0.014015753396183031, 0.002748186940428045, 0.9933193506805118, 0.07642787199833607, 0.48783748084044304, 0.15610799386894175, 0.022765749105887342, 0.10407199591262785, 0.15285574399667215, 0.9320747655036385, 0.060787484706759036, 0.9613085377881759, 0.9783077654652188, 0.9595409872107135, 0.9940922952729183, 0.49565983207310965, 0.18410222334144072, 0.31155760873166893, 0.23182473971656797, 0.09150976567759261, 0.06710716149690125, 0.024402604180691366, 0.5185553388396915, 0.06710716149690125, 0.01377361529065146, 0.9779266856362537, 0.019461843261775042, 0.9795794441760105, 0.20879757030739043, 0.521993925768476, 0.25055708436886853, 0.3534137025756879, 0.24656769947141016, 0.39724796025949416, 0.34796764264618557, 0.00940453088232934, 0.08464077794096406, 0.007053398161747005, 0.03526699080873502, 0.5148980658075314, 0.32080183335798884, 0.010569052649391106, 0.09512147384451995, 0.08766096609200859, 0.0018651269381278423, 0.003108544896879737, 0.008082216731887316, 0.009947343670015159, 0.4625514806557049, 0.6202936864808964, 0.00877774084642778, 0.10923410831110125, 0.05656766323253458, 0.06534540407896236, 0.06339479500197841, 0.0760737540023741, 0.982502176661765, 0.010856377642671436, 0.8973283904229278, 0.10145672756038128, 0.9531234872079336, 0.06467714189807486, 0.15306923582544382, 0.7480989412877325, 0.008623618919743314, 0.025870856759229944, 0.20917085516973752, 0.04980258456422322, 0.7320979930940813, 0.1299429335034058, 0.8662862233560387, 0.995601877813637, 0.9955300146458611, 0.006573508429433523, 0.9531587222678609, 0.006573508429433523, 0.029580787932450857, 0.9763468874132957, 0.11660310230407629, 0.8798234082943939, 0.11078035487422597, 0.02707964230258857, 0.03938857062194701, 0.8173128404054005, 0.0049235713277433766, 0.14476143927833499, 0.10578720562647556, 0.01113549532910269, 0.7405104393853289, 0.9815254772848663, 0.7776199619630156, 0.21773358934964437, 0.12152887862420415, 0.8771892136593198, 0.047315125261681815, 0.278633515429904, 0.6711738138971901, 0.9753357632863807, 0.08640839255891682, 0.11369525336699582, 0.7140061911447337, 0.08186058242423698, 0.9871392123040453, 0.987596477705747, 0.039120157036333154, 0.9584438473901623, 0.2163534628813039, 0.7211782096043463, 0.9788958004480482, 0.9910302656333465, 0.9724448330792326, 0.9878656779372219, 0.9956013115574898, 0.9956873407126848, 0.9972124327428822, 0.9915617825989521, 0.9381194023294064, 0.03908830843039193, 0.09473718535935886, 0.08210556064477768, 0.7452658581602898, 0.0555791487441572, 0.018315855836142713, 0.0031579061786452954, 0.05286365752675354, 0.19030916709631274, 0.17621219175584513, 0.07048487670233805, 0.5110153560919508, 0.7297872007462277, 0.03857226219588942, 0.01851468585402692, 0.007714452439177883, 0.04474382414723172, 0.08948764829446344, 0.024686247805369228, 0.03857226219588942, 0.006171561951342307, 0.15416167265272845, 0.8393246622204105, 0.9916577852836859, 0.9847834824686217, 0.9926429941642114, 0.9468303720236649, 0.39519001438022733, 0.001909130504252306, 0.19154942725998136, 0.001909130504252306, 0.037546233250295345, 0.22209551532801824, 0.007000145182258455, 0.11900246809839372, 0.0012727536695015373, 0.021000435546775362, 0.0012727536695015373, 0.9921389992244848, 0.9861042499464295, 0.09525589052752825, 0.9017557636606007, 0.05978411828680647, 0.8967617743020971, 0.9909781274962893, 0.2949665028161545, 0.6882551732376939, 0.9221981443873131, 0.07093831879902408, 0.9977464257041689, 0.06642785718572077, 0.08010418072395739, 0.07228913870210789, 0.45424931752000225, 0.07326601895483907, 0.0009768802527311876, 0.02539888657101088, 0.009768802527311876, 0.1572777206897212, 0.04200585086744107, 0.004884401263655938, 0.01269944328550544, 0.8891350202629973, 0.9933800251854961, 0.9799456032316181, 0.2507660019543516, 0.743342077221828, 0.03141176330014006, 0.2251176369843371, 0.7381764375532913, 0.4861646710711419, 0.0021229898300049867, 0.036798490386753105, 0.011322612426693262, 0.020522235023381536, 0.1641778801870523, 0.008491959320019947, 0.26112774909061337, 0.009199622596688276, 0.9662588268989781, 0.12882791444473726, 0.01366356668353274, 0.31914187896537183, 0.01951938097647534, 0.11711628585885205, 0.04977442149001212, 0.07417364771060629, 0.21080931454593368, 0.050750390538835885, 0.014639535732356506, 0.000975969048823767, 0.4141082568420308, 0.009630424577721647, 0.2078566638024922, 0.08025353814768038, 0.05296733517746906, 0.005617747670337627, 0.17655778392489685, 0.03531155678497937, 0.01043295995919845, 0.007222818433291235, 0.9988287196422349, 0.9939989106292495, 0.9895655717039952, 0.008315677073142817, 0.9136727241030557, 0.9913241356074322, 0.994323911574081, 0.9759870408974314, 0.02460471531674197, 0.9455563437242394, 0.9841413837335156, 0.011443504462017622, 0.9859065752298652, 0.058589170744620944, 0.037910639893578256, 0.2826065882975834, 0.6169095037227735, 0.45549923832484823, 0.037958269860404015, 0.28468702395303014, 0.2087704842322221, 0.1352802056219697, 0.3665657184595308, 0.0654581640106305, 0.0523665312085044, 0.3796573512616569, 0.017664053946050445, 0.21785666533462217, 0.20019261138857172, 0.3356170249749585, 0.029440089910084077, 0.1884165754245381, 0.030758150675266827, 0.012815896114694511, 0.7817696629963652, 0.16660664949102866, 0.002563179222938902, 0.005126358445877804, 0.22489101692039226, 0.4852911417755833, 0.27223649416679063, 0.16379267398033956, 0.04094816849508489, 0.020474084247542445, 0.16379267398033956, 0.09213337911394101, 0.50161506406479, 0.251790180261103, 0.7194005150317229, 0.10671669207614061, 0.051165537296779744, 0.27775577389680434, 0.005847489976774828, 0.3947055734323009, 0.007309362470968535, 0.06724613473291052, 0.03362306736645526, 0.054089282285167156, 0.06840612716613836, 0.3591321676222264, 0.46174135837143393, 0.028502552985890984, 0.07980714836049475, 0.9789574290066076, 0.008512673295709632, 0.012474379901399943, 0.6736165146755969, 0.3118594975349986, 0.26221062692333236, 0.7366869994512671, 0.06810140567593535, 0.40860843405561215, 0.4767098397315475, 0.041908557339037145, 0.9558129297638627, 0.948602089764334, 0.41617456627330757, 0.035419112023260216, 0.20365989413374624, 0.159386004104671, 0.1770955601163011, 0.9960601979591511, 0.9866732972773438, 0.9141256918322413, 0.9314378443743291, 0.9610207986985355, 0.8930283542058718, 0.025760433294400146, 0.07728129988320044, 0.9771713880645907, 0.07035315921799096, 0.9145910698338825, 0.9039759669400519, 0.05315096250146513, 0.04724530000130234, 0.057088070834906995, 0.6417486583510235, 0.1279560208368605, 0.003937108333441862, 0.06889939583523258, 0.9747372249249928, 0.9791625421479759, 0.014287495091744373, 0.2643186591972709, 0.7143747545872187, 0.0963623982818763, 0.897374833999973, 0.9635371652840651, 0.036497619897123676, 0.9898882031338513, 0.1593880047303454, 0.8304953930686418, 0.9655784589675673, 0.9850807965173092, 0.12199343011794875, 0.06568877006351087, 0.048484568380210404, 0.1955022918556871, 0.11886539344825775, 0.4035167303901382, 0.045356531710519406, 0.9615720321338299, 0.1860507774453783, 0.79494423090298, 0.9283445697749878, 0.974349001892579, 0.9173876292744593, 0.07552043911706074, 0.006190199927627931, 0.880108040263074, 0.0035064065349126455, 0.035064065349126455, 0.035064065349126455, 0.0385704718840391, 0.0035064065349126455, 0.9279027896582049, 0.9264693275386089, 0.1627877256701479, 0.7596760531273569, 0.08557588809618952, 0.10611410123927499, 0.7393756731510773, 0.06503767495310403, 0.9735988406853483, 0.9828636137162184, 0.8686898093883336, 0.9779356589189883, 0.9903103138977403, 0.08897884414136378, 0.35591537656545513, 0.5338730648481826, 0.10059940120831859, 0.8910232678451074, 0.9535351217882535, 0.9787097094944439, 0.9495068006742378, 0.945111337454502, 0.9969632985721545, 0.9609121656016083, 0.9097194623267245, 0.09464923021907892, 0.013964640524126399, 0.12878501816694346, 0.12723339144204052, 0.4716945243704917, 0.0744780827953408, 0.031032534498058664, 0.006206506899611733, 0.05275530864669973, 0.9351614434258005, 0.18217500009108012, 0.11505789479436639, 0.10546973689483585, 0.594465789770893, 0.9692215983647803, 0.9761598084255834, 0.07032596976090838, 0.36042059502465545, 0.5670031311973238, 0.5658739890132012, 0.34963430090393816, 0.08284507531458776, 0.001404153818891318, 0.2350432705896007, 0.7602180783132398, 0.9981899943093495, 0.01468838330632528, 0.9384244890152262, 0.02284859625428377, 0.017952468485508674, 0.004896127768775093, 0.7177757792115712, 0.2800114303517668, 0.8041770976628564, 0.19318220781845152, 0.9975035251712717, 0.9913928360617188, 0.9946519112326401, 0.9938674590655024, 0.9855547001669407, 0.5075882730240029, 0.006985159720513802, 0.03958257174957821, 0.44239344896587407, 0.0023283865735046006, 0.9910976251537946, 0.9860329268759, 0.06494345282367911, 0.9308561571394006, 0.9985261958362693, 0.9839461460739908, 0.01311928194765321, 0.9893137801883477, 0.9213335399328582, 0.9801075424498712, 0.9924989924180525, 0.8853366497496503, 0.11849306771619675, 0.30099963178482164, 0.4971260886943887, 0.04222166780692068, 0.040859678522826466, 0.974754865485044, 0.9730072290331613, 0.07692510722678284, 0.021978602064795093, 0.8644916812152736, 0.020147051892728834, 0.014652401376530063, 0.27952478226672345, 0.1863498548444823, 0.062116618281494104, 0.07453994193779293, 0.1739265311881835, 0.01863498548444823, 0.20498484032893055, 0.03163464114095068, 0.9648565547989957, 0.018867336271808213, 0.8238736838689587, 0.15722780226506844, 0.9741688349772577, 0.652682649805698, 0.00464212410957111, 0.11883837720502041, 0.016711646794455994, 0.03713699287656888, 0.11698152756119197, 0.040850692164225766, 0.012069522684884886, 0.986940748898425, 0.8904443086727994, 0.10755366649699544, 0.07032934344696694, 0.14944985482480475, 0.4219760606818016, 0.24322231275409398, 0.008791167930870867, 0.008791167930870867, 0.017582335861741735, 0.02344311448232231, 0.058607786205805784, 0.9882777083379589, 0.9771388166247558, 0.10474915442361214, 0.8798928971583421, 0.9920029781210937, 0.06879238935771563, 0.4518948335394768, 0.47087204439677766, 0.008302529750069128, 0.11628156604406646, 0.09513946312696346, 0.7822578079328107, 0.1417718627401504, 0.08506311764409025, 0.7598971842872062, 0.0028354372548030082, 0.0056708745096060165, 0.0028354372548030082, 0.9868175245966766, 0.988529766622585, 0.7960159899916328, 0.1913171478091478, 0.006832755278898136, 0.034102516549385196, 0.24553811915557341, 0.10230754964815558, 0.013641006619754079, 0.5047172449309009, 0.0886665430284015, 0.9865066509810332, 0.9822844864924353, 0.038410161476984256, 0.9108695435970552, 0.04389732740226772, 0.8688713210689254, 0.08964376246712073, 0.7775224295617615, 0.09879108516784735, 0.007317858160581284, 0.018294645401453213, 0.007317858160581284, 0.9238098582432576, 0.03299320922297348, 0.04241984042953734, 0.0556565059207126, 0.2568761811725197, 0.6507529923037165, 0.034250157489669295, 0.8411229434153575, 0.1539076024121718, 0.0648703406567154, 0.5278664975007233, 0.22641020856657532, 0.020351479421714634, 0.08394985261457287, 0.015263609566285976, 0.007631804783142988, 0.03307115406028628, 0.010175739710857317, 0.007631804783142988, 0.9967060183738438, 0.9897808563666743, 0.013362815205844229, 0.7082292059097441, 0.25389348891104035, 0.13161005765860856, 0.8554653747809556, 0.9885320359604559, 0.9792417115749992, 0.026978844122043884, 0.04856191941967899, 0.410078430655067, 0.17806037120548962, 0.33993343593775294, 0.040870302761776285, 0.8991466607590783, 0.030287567889591912, 0.9389146045773492, 0.552007776431679, 0.07277151697494129, 0.1002964948981056, 0.044492430067580684, 0.0482629749885621, 0.019983888081201495, 0.03167257733624387, 0.01621334316022008, 0.0030164359367851313, 0.013196907223434948, 0.0965259499771242, 0.0011311634762944242, 0.9849879183071959, 0.07868325081168837, 0.29621929717341505, 0.6248375799751724, 0.4153712197865952, 0.1917097937476593, 0.07759682127881448, 0.01369355669626138, 0.2989759878683734, 0.2571836417225416, 0.7419895870385971, 0.9552992902514743, 0.05095384070057258, 0.11209844954125966, 0.17663998109531828, 0.05095384070057258, 0.22419689908251933, 0.0645415315540586, 0.07473229969417311, 0.24797535807611987, 0.8991076132637585, 0.9780106360356394, 0.98918905328525, 0.26320388202989126, 0.7351556704972825, 0.05037226307017402, 0.07052116829824363, 0.2468240890438527, 0.2720102205789397, 0.12089343136841764, 0.03526058414912182, 0.04029781045613921, 0.17126569443859166, 0.8962465712050288, 0.9918587406863465, 0.9931862741630064, 0.9911122818441295, 0.9929001584058272, 0.9869963019885486, 0.9303730753446988, 0.9874760726411763, 0.1591603950082558, 0.8355920737933429, 0.04802621686604311, 0.1578004268455702, 0.08095847985990123, 0.1824996240909638, 0.20857099896110148, 0.02058266437116133, 0.012349598622696798, 0.013721776247440887, 0.25934157107663275, 0.016466131496929066, 0.9911061253374156, 0.053864045303248925, 0.875290736177795, 0.053864045303248925, 0.9701711297749709, 0.9820854674141611, 0.9915666370684205, 0.15263372450519416, 0.12830081190291684, 0.46085061746737366, 0.09806901139705712, 0.10986678720422188, 0.05014054718045025, 0.9166247341478843, 0.07709927670402765, 0.016729176818328792, 0.11919538483059265, 0.3241278008551204, 0.016729176818328792, 0.2070235631268188, 0.10455735511455495, 0.02300261812520209, 0.18402094500161673, 0.006273441306873297, 0.9811433688392538, 0.07634677953959743, 0.89071242796197, 0.38129065293821085, 0.08415874772059609, 0.02576288195528452, 0.022327831027913247, 0.32976488902764184, 0.0996164768937668, 0.029197932882655788, 0.0017175254636856345, 0.022327831027913247, 0.5940932315745467, 0.048445370815091794, 0.020398050869512335, 0.16318440695609868, 0.1708336760321658, 0.9474677093433144, 0.9852014270893228, 0.026116405610573244, 0.9010159935647769, 0.03264550701321656, 0.03264550701321656, 0.9845030421422483, 0.978538401562421, 0.9837140331744424, 0.9923983383010041, 0.023476990323878476, 0.09977720887648352, 0.03521548548581771, 0.8393024040786554, 0.8725980787873874, 0.12035835569481206, 0.9705722938860412, 0.01733164810510788, 0.9797619011961458, 0.40864047614445015, 0.5845829033733106, 0.26310900080482663, 0.7235497522132732, 0.33416474212789843, 0.03250234573888374, 0.12493089143383437, 0.010156983043401168, 0.1686059185204594, 0.08024016604286924, 0.06195759656474713, 0.17266871173781986, 0.008125586434720935, 0.007109888130380818, 0.98042327395721, 0.9729863302578132, 0.9036402200944844, 0.09079638575112044, 0.9171699985370789, 0.019367088958550688, 0.062251357366770066, 0.8789523170646628, 0.11806822169525322, 0.042693211914368964, 0.947789304498991, 0.008538642382873792, 0.018376308518104442, 0.9739443514595354, 0.8842550238240249, 0.06903909742953382, 0.8744952341074284, 0.0536970757785263, 0.9946369632179378, 0.20706047275321754, 0.11261183605876743, 0.6175487783867891, 0.047224318347225056, 0.014530559491453862, 0.9124390221955089, 0.02284007855454166, 0.8861950479162164, 0.02740809426544999, 0.05938420424180831, 0.9884474672154441, 0.9802786954879134, 0.07360419758512642, 0.8832503710215169, 0.24147351705705866, 0.724420551171176, 0.010272320736464183, 0.20544641472928366, 0.3184419428303896, 0.04108928294585673, 0.4211651501950315, 0.9856036516443539, 0.9988920120506268, 0.00807673815119626, 0.01615347630239252, 0.6676770204988908, 0.26922460503987533, 0.03769144470558254, 0.9961980671039913, 0.03254149947449838, 0.9640419219320145, 0.9600097227163343, 0.9096904581494638, 0.01577593431267377, 0.0736210267924776, 0.37336377873327925, 0.044698480552575685, 0.007887967156336885, 0.48116599653655, 0.9416826068749712, 0.013452608669642445, 0.04035782600892734, 0.0795146864203636, 0.09087392733755842, 0.34077722751584405, 0.48844735943937645, 0.99112734343622, 0.9826650306394008, 0.17015511166089473, 0.8264676852100601, 0.6984655477971508, 0.09169045801198118, 0.13753568701797178, 0.03775489447552166, 0.014832279972526367, 0.01887744723776083, 0.9890394657370112, 0.5354561930358356, 0.09361122255871251, 0.36945229169838534, 0.9925458597718391, 0.9980798556774411, 0.9973365147642155, 0.09631289808395622, 0.8705204249896044, 0.025930395637988213, 0.9875788491179032, 0.9842469654430482, 0.012252036914228817, 0.0014271484369897472, 0.9747423824639974, 0.022834374991835955, 0.9537713977903212, 0.16441180907676406, 0.12330885680757304, 0.6987501885762473, 0.009848947208761168, 0.8076136711184159, 0.09110276168104081, 0.08864052487885052, 0.969036721798248, 0.9957364384890801, 0.9737240287867136, 0.9944919432127021, 0.9899193675090372, 0.8616259009269598, 0.05470640640806094, 0.07522130881108378, 0.9549105671506125, 0.9853316069516249, 0.12287397077333904, 0.16895170981334118, 0.05631723660444706, 0.6502080953422524, 0.594461025894929, 0.0703967004349258, 0.10785927201140678, 0.045284427180361624, 0.027170656308216974, 0.0765718495958842, 0.04487275056963106, 0.03334580546917538, 0.027960607260868322, 0.4154147364471865, 0.0878761942484433, 0.0878761942484433, 0.19572425082607828, 0.18374113342856327, 0.8621699813942062, 0.0019911546914415847, 0.015929237531532678, 0.03584078444594853, 0.023893856297299017, 0.007964618765766339, 0.013938082840091093, 0.007964618765766339, 0.025885010988740603, 0.3011943201604008, 0.08296370495436191, 0.018035588033556937, 0.595174405107379, 0.15689942709016588, 0.19873927431421012, 0.041839847224044234, 0.19757705633576444, 0.031379885418033174, 0.08019304051275145, 0.291716712589864, 0.9801013557903173, 0.05223540927999652, 0.05223540927999652, 0.014924402651427578, 0.09452121679237466, 0.0024874004419045965, 0.7785563383161387, 0.07032605624796284, 0.7984075797562841, 0.1282416319815793, 0.0315221962657001, 0.06754756342650022, 0.027019025370600087, 0.09006341790200029, 0.09006341790200029, 0.6934883178454022, 0.9931938852816449, 0.09728969384312286, 0.7668717044104979, 0.13448869443019926, 0.9782209051476991, 0.9927803307491614, 0.9710882316953554, 0.9414323873151903, 0.9559105950419287, 0.9570926423223561, 0.0377799727232509, 0.6745478192180163, 0.32478228332719306, 0.9863896836745468, 0.996286230726346, 0.9886109307151737, 0.3973099715012168, 0.5975049183816749, 0.9986675787093237, 0.7909362866066, 0.005829997198574447, 0.0621866367847941, 0.023319988794297787, 0.03303665079192187, 0.0369233155909715, 0.0019433323995248157, 0.025263321193822602, 0.019433323995248157, 0.9879372860903924, 0.0541453809535039, 0.6978737989562726, 0.12633922222484242, 0.12032306878556423, 0.169514581469875, 0.4358946380653928, 0.3874619005025714, 0.9295854699781059, 0.9559554342646869, 0.05463394543686987, 0.08486826475630271, 0.8555781940744768, 0.0047738398925420275, 0.9949834527738942, 0.04766700354507321, 0.1863346502216498, 0.7648387387004928, 0.9629703849840558, 0.07584295012507088, 0.9101154015008506, 0.9774838655658168, 0.404257706225883, 0.04964568322072247, 0.07446852483108371, 0.08723455765926949, 0.11702196759170297, 0.02056749733429931, 0.06737628437098049, 0.06737628437098049, 0.009929136644144495, 0.1014190385794759, 0.5318359237662926, 0.08547363060529703, 0.050651040358694534, 0.034822590246602496, 0.04748535033627613, 0.24692382174863586, 0.9886418897542447, 0.9951563042194242, 0.9503342634410435, 0.2634909268021069, 0.09304795104892884, 0.05130681412978319, 0.014348515815956316, 0.09348275455850326, 0.1595728880138172, 0.054350438696804226, 0.13565869498722335, 0.023479389517019424, 0.02304458600744499, 0.01478331932553075, 0.010870087739360846, 0.005652445624467639, 0.04174113691914565, 0.01608772985425405, 0.9749425788521213, 0.9690981080260501, 0.18855412831175128, 0.7718934627762317, 0.03535389905845336, 0.9741447509780081, 0.9740481947472422, 0.023757273042615663, 0.02468422584925517, 0.8886321305731861, 0.061710564623137926, 0.012342112924627585, 0.9494599122440706, 0.9332440626600835, 0.06020929436516668, 0.9925984133346205, 0.9953284419280399, 0.13614760922649774, 0.8422154431220558, 0.01899734082230201, 0.032716229947650666, 0.14395141176966292, 0.8179057486912665, 0.23199097503866384, 0.7539706688756574, 0.9620214944708152, 0.9858615539134906, 0.33808608269379037, 0.6615785215302948, 0.9755402084502508, 0.974369527801185, 0.9510903741913266, 0.02277884039150206, 0.9681007166388377, 0.043070311042272776, 0.10336874650145465, 0.3531765505466367, 0.27564999067054574, 0.03445624883381822, 0.18089530637754564, 0.9915626814381843, 0.9644735229717096, 0.9601514182041028, 0.008989751723805468, 0.9899964085840771, 0.9977019445494064, 0.0016302319355382456, 0.9843239669688666, 0.9955259228595023, 0.9699272055710408, 0.02204673349386089, 0.16535050120395667, 0.02204673349386089, 0.11023366746930444, 0.6779370549362224, 0.9569507255689688, 0.9616516849265816, 0.9758433641124817, 0.13430701432052736, 0.08953800954701824, 0.6043815644423731, 0.08580725914922581, 0.07834575835364095, 0.5760471371391518, 0.005440823019023866, 0.11493738627687916, 0.01700257193444958, 0.2380360070822941, 0.04760720141645882, 0.367421825960417, 0.0022963864122526063, 0.26255351313421466, 0.02985302335928388, 0.02334659519123483, 0.06008877778727653, 0.05855785351244146, 0.13319041191065117, 0.021050208778982223, 0.04018676221442061, 0.0011481932061263031, 0.04720151247780529, 0.9440302495561057, 0.9911061486570301, 0.8840006763057457, 0.053469362057472256, 0.7679440260718117, 0.17823120685824084, 0.8928039892910593, 0.91748067746154, 0.880783763471069, 0.14545432910124043, 0.841557189800034, 0.9745352467055715, 0.7716538586355005, 0.22678376761425015, 0.2989994162026501, 0.0010952359567862639, 0.1916662924375962, 0.028476134876442863, 0.03285707870358792, 0.10623788780826761, 0.14457114629578685, 0.18071393286973356, 0.0043809438271450556, 0.009857123611076376, 0.022749415432746077, 0.12512178488010342, 0.15355855417103603, 0.6938571706987553, 0.995270428274541, 0.2969790537212256, 0.7030524537073912, 0.3816886196764608, 0.052048448137699196, 0.0693979308502656, 0.0780726722065488, 0.21686853390708, 0.1908443098382304, 0.10702774497891279, 0.1605416174683692, 0.016899117628249388, 0.7153959795958909, 0.9739354852787544, 0.8332691435182868, 0.16303091938401262, 0.9235492610666104, 0.945589275414178, 0.9397373052233462, 0.9947577994035939, 0.9838854421183765, 0.8405323774774489, 0.0031246556783548285, 0.0031246556783548285, 0.049994490853677256, 0.09061501467229004, 0.009373967035064486, 0.0031246556783548285, 0.9553065869063734, 0.04165581047556861, 0.22221766107109792, 0.6760095163110241, 0.014034799646595658, 0.011695666372163047, 0.03625656575370545, 0.03859569902813806, 0.9885558117492166, 0.9670129135606741, 0.9076347443490378, 0.06723220328511391, 0.9384946205108713, 0.9722380720184437, 0.024561803924676474, 0.34017997226284513, 0.6541922543516252, 0.07879097290029144, 0.9151874544572314, 0.05637953849445621, 0.2818976924722811, 0.14094884623614054, 0.5074158464501058, 0.47299058542956307, 0.02702803345311789, 0.33244481147335003, 0.16487100406401914, 0.11876349499368416, 0.8729116882035786, 0.9897642667406101, 0.2748697510440622, 0.04253936623300963, 0.04253936623300963, 0.08098840878976833, 0.21269683116504814, 0.04008517202725907, 0.021269683116504814, 0.28305039839656404, 0.0016361294705003703, 0.9707038716843597, 0.9887310046744827, 0.9898667283292495, 0.014426614200430727, 0.20419207791378874, 0.2796543675775802, 0.04771880081680933, 0.21085051523706447, 0.0332921866163786, 0.06547463367887792, 0.13538822557327299, 0.008877916431034293, 0.902857552729137, 0.3072916980604736, 0.0810908647659583, 0.21766495279283543, 0.0064019103762598655, 0.13017217765061728, 0.2539424449249747, 0.10612018381358958, 0.8843348651132464, 0.9861006924521336, 0.9979481266203664, 0.9825182317626268, 0.9788850402617838, 0.06008066638491878, 0.9362570511649844, 0.5262980271302939, 0.02199454441738542, 0.10840168319997098, 0.056557399930419645, 0.029849738852165925, 0.2576503774608006, 0.9892151052336308, 0.9872617405147404, 0.9914292441111293, 0.9753834732598504, 0.9890558723655206, 0.9737613272177704, 0.19909231972721428, 0.13809382176823798, 0.16859307074772614, 0.02795764489786413, 0.12538580136011793, 0.015249624489744072, 0.11437218367308054, 0.02541604081624012, 0.14910743945527538, 0.03642965850327751, 0.9824777179428391, 0.9661237578598418, 0.18381358068281975, 0.044251417571789936, 0.030635596780469957, 0.11913843192404983, 0.3455014525797445, 0.27572037102422964, 0.9784216964030948, 0.9883791111435853, 0.9835462346084516, 0.984219130657343, 0.4400430364826335, 0.5280516437791601, 0.030733164452755354, 0.9874795553171685, 0.5704362891936332, 0.023768178716401384, 0.4040590381788235, 0.9830318898844582, 0.08444827929335202, 0.05373981409576947, 0.480587480342167, 0.29019499611715516, 0.01996050237842866, 0.0015354232598791277, 0.023031348898186917, 0.04452727453649471, 0.040863245244205815, 0.2451794714652349, 0.6710175008522218, 0.017205576944928764, 0.025808365417393148, 0.9837709565377821, 0.9512404571955563, 0.005843600807026771, 0.3623032500356598, 0.38684637342517225, 0.24426251373371902, 0.013980858258534542, 0.2656363069121563, 0.549508515900662, 0.06200206705958797, 0.011549404648354621, 0.09604241760210686, 0.00060786340254498, 0.9795760019680068, 0.987739461710933, 0.3941644065162708, 0.035833127865115534, 0.5613856698868099, 0.9739025404896567, 0.9782698180532027, 0.6262544458675028, 0.3711137456992609, 0.9592469747375634, 0.9887464895545608, 0.9951792001289965, 0.12512705312691572, 0.027601555836819645, 0.19505099458019215, 0.2484140025313768, 0.011040622334727858, 0.005520311167363929, 0.38642178171547503, 0.058086161927304036, 0.06430967927665804, 0.8318768190303185, 0.01659604626494401, 0.029043080963652018, 0.9349324486126336, 0.9542102760392269, 0.9902891324598578, 0.9790163428658336, 0.9833295335410852, 0.9630554241758557, 0.9934889787855489, 0.06680544098905095, 0.140291426077007, 0.04008326459343057, 0.7482209390773706, 0.02021790179553493, 0.9771985867841883, 0.9972886524391611, 0.9928222487607403, 0.9810294397847005, 0.9777602377711591, 0.31216404957798366, 0.011561631465851246, 0.659012993553521, 0.9989844818313695, 0.3019657231643725, 0.6955996122893581, 0.1414471464647007, 0.8571023517920553, 0.030755180978799895, 0.9687882008321967, 0.007050146000097492, 0.0652138505009018, 0.15334067550212044, 0.48998514700677565, 0.1692035040023398, 0.015862828500219354, 0.02467551100034122, 0.07578906950104804, 0.8249974243609838, 0.16638603516524042, 0.9229934300689107, 0.9962901686356155, 0.9918877636704277, 0.9237884258355247, 0.034642065968832174, 0.034642065968832174, 0.9215921486168908, 0.9845114562575118, 0.9826586164422606, 0.07133602339026736, 0.5564209824440854, 0.12840484210248124, 0.014267204678053471, 0.04280161403416041, 0.09273683040734756, 0.09273683040734756, 0.9541571316767005, 0.98037767243318, 0.9894633448172768, 0.9890261857691777, 0.029448527116870977, 0.9619852191511186, 0.9939047894023942, 0.9754160960167451, 0.9885215061779492, 0.8427815731885931, 0.05575654173766774, 0.10079067160270706, 0.9715321169570947, 0.9539280792002945, 0.03887481200502768, 0.002990370154232898, 0.4560122798627007, 0.4171475969198569, 0.1243669854171002, 0.9612772436829734, 0.9194684533121467, 0.012481472216906968, 0.029123435172782926, 0.033283925911751916, 0.5917188617523111, 0.0002754743304247259, 0.09724243863992824, 0.04986085380687538, 0.06941953126703092, 0.014324665182085746, 0.0049585379476450656, 0.0049585379476450656, 0.16721291856780862, 0.9946207197056488, 0.7244459236399151, 0.2736795711528568, 0.08075030310258331, 0.09997656574605554, 0.7075264652797777, 0.0961313132173611, 0.007690505057388887, 0.981226563796723, 0.9588175210907869, 0.22264980911922166, 0.051975034305433446, 0.0849862047426682, 0.05127266897698164, 0.030201709123427543, 0.18331735072592067, 0.03371353576568656, 0.2942910726213056, 0.04424901569246361, 0.00210709598535541, 0.0014047306569036067, 0.11774523151032028, 0.8810591461289482, 0.12585677131105566, 0.8581143498481067, 0.9775692803079385, 0.023010783791145385, 0.9536691504552476, 0.020454030036573676, 0.9856598242513284, 0.985445648904071, 0.47221096541448443, 0.06305089595022945, 0.013415084244729671, 0.15829799408781012, 0.14354140141860747, 0.020122626367094505, 0.052318828554445716, 0.053660336978918685, 0.02280564321604044, 0.0026830168489459343, 0.18208614165486853, 0.8054997113884862, 0.00925861737228145, 0.9896399034411326, 0.13864748208640584, 0.8596143889357162, 0.961543476861306, 0.1682977768573432, 0.7573399958580445, 0.9901441179291761, 0.05342845587515543, 0.8297124912377078, 0.09428551036792135, 0.018857102073584268, 0.5282451850110356, 0.0071545623252059, 0.05246679038484327, 0.28856734711663795, 0.12281998658270128, 0.5152327648213623, 0.015237937591759327, 0.2447593725676342, 0.021904535288154035, 0.07309448188547052, 0.048570926073732854, 0.004285669947682311, 0.034999637906072203, 0.0030952060733261135, 0.0385710295291408, 0.096671229203224, 0.017059628682921883, 0.055917671794021725, 0.09477571490512157, 0.46060997443889085, 0.04170131455825349, 0.012320842937665805, 0.10141001494848008, 0.008529814341460941, 0.10141001494848008, 0.009477571490512158, 0.989624510410382, 0.1575294717293813, 0.0009432902498765347, 0.008489612248888813, 0.6763391091614754, 0.05376754424296248, 0.005659741499259208, 0.0037731609995061387, 0.03678831974518485, 0.006603031749135743, 0.031128578245925645, 0.007546321999012277, 0.011319482998518416, 0.9879218037500062, 0.986805331743722, 0.9570906976492285, 0.9597431602997768, 0.954514660987084, 0.10087295415880249, 0.8934461654065363, 0.3743804847069823, 0.11305143739510626, 0.09093267790475938, 0.016384266289145834, 0.09257110453367397, 0.20398411529986565, 0.03440695920720625, 0.040141452408407295, 0.0098305597734875, 0.02293797280480417, 0.11001481843589121, 0.11725263543825248, 0.04632202881511209, 0.19831618586469865, 0.01592319740519478, 0.014475634004722529, 0.4965142463619827, 0.0014475634004722528, 0.9941782664500524, 0.27548682083577747, 0.038568154917008844, 0.07162657341730215, 0.044077891333724396, 0.05785223237551327, 0.06336196879222881, 0.44628864975395954, 0.06693841301863569, 0.3570048694327237, 0.572695311381661, 0.4700884760430116, 0.03837456947289891, 0.016788874144393274, 0.007195231776168545, 0.43651072775422506, 0.007195231776168545, 0.023984105920561816, 0.9966566313687886, 0.995118012317823, 0.9921461363843334, 0.9393221912405756, 0.4173669441243457, 0.0413392020846971, 0.09619314331246825, 0.02225957035329844, 0.01669467776497383, 0.17728157817091256, 0.10175803590079287, 0.07393357295916982, 0.04372415605112193, 0.0015899693109498886, 0.007154861899274498, 0.0087744816598117, 0.04626544875173442, 0.5942717124145197, 0.019144323621407347, 0.3310372626201687, 0.9886817447687888, 0.9357475559159041, 0.061697641049400266, 0.04548196525560609, 0.08186753746009097, 0.2516668744143537, 0.03032131017040406, 0.2031527781417072, 0.09399606152825259, 0.009096393051121218, 0.039417703221525276, 0.027289179153363655, 0.21224917119282843, 0.9879493845279994, 0.441570877544974, 0.09627541145634652, 0.1999566237939505, 0.006480075771100247, 0.09118392335048205, 0.05970926960513799, 0.02592030308440099, 0.0425833550672302, 0.03656614185120854, 0.27952218518364524, 0.11509737036973629, 0.32884962962781794, 0.27952218518364524, 0.9890030005235592, 0.966728303628592, 0.4334085273529232, 0.09645849400301713, 0.06197785587524178, 0.11784521891771324, 0.038408812091699135, 0.03360771058023674, 0.09645849400301713, 0.0157126958556951, 0.08074579814732204, 0.02269611623600403, 0.00261878264261585, 0.9896671144609572, 0.03521632828854792, 0.025154520206105657, 0.3219778586381524, 0.0955871767832015, 0.18614344952518186, 0.19368980558701357, 0.1383498611335811, 0.992580325963599, 0.9922979475131128, 0.9950568345688096, 0.2103339649761163, 0.7794729290291369, 0.40379398076666445, 0.5832579722185153, 0.11698682522354695, 0.8657025066542474, 0.9962260452790188, 0.699028472278043, 0.20746213638497685, 0.010571319051463787, 0.018499808340061628, 0.06342791430878272, 0.5180072461255711, 0.003673810256209724, 0.042861119655780114, 0.022042861537258346, 0.0918452564052431, 0.07102699828672134, 0.009796827349892599, 0.23145004614121262, 0.007347620512419448, 0.011782375283156827, 0.03141966742175154, 0.051056959560346254, 0.25135733937401233, 0.027492208994032596, 0.6205384315795929, 0.007854916855437885, 0.982206471853399, 0.03118695388137054, 0.8902457744318499, 0.005670355251158279, 0.042527664383687096, 0.005670355251158279, 0.01984624337905398, 0.9813650189448196, 0.013536069226825098, 0.8894576755968688, 0.015739483878100775, 0.5561284303595607, 0.3847429392424634, 0.006995326168044789, 0.02623247313016796, 0.008744157710055985, 0.030094119084747926, 0.9630118107119336, 0.9434855366027218, 0.9554590595319505, 0.980254754082174, 0.9682984476036262, 0.9517447396308524, 0.9899730833669204, 0.945365177250502, 0.4969378649753368, 0.07242195241501033, 0.15640059936433082, 0.014638479743459535, 0.055472133764688764, 0.057783472671550797, 0.02003160385947094, 0.0508494559509647, 0.07473329132187236, 0.9507754388228639, 0.049390931886902016, 0.07279872123452565, 0.864484814659992, 0.04094928069442068, 0.009099840154315706, 0.009099840154315706, 0.032778100063703436, 0.3227382160118492, 0.11598404637925831, 0.524449601019255, 0.10737360510769303, 0.8231976391589798, 0.053686802553846516, 0.23317859938969726, 0.10939242934331476, 0.2849960659207411, 0.025908733265521917, 0.011514992562454186, 0.33105603617055784, 0.0502155555178821, 0.9415416659602894, 0.9789622706611963, 0.03958484091076812, 0.10178959091340374, 0.09047963636746999, 0.763421931850528, 0.0255950824801783, 0.9598155930066863, 0.9163235812695103, 0.4862284727906694, 0.17828377335657877, 0.16207615759688979, 0.0729342709186004, 0.04322030869250394, 0.056726655158911427, 0.9305010324299894, 0.060032324672902544, 0.006670258296989171, 0.3263317825452086, 0.033469926414893186, 0.15396166150850868, 0.45686449556329206, 0.0016734963207446596, 0.026775941131914553, 0.9860299727708125, 0.025096707508214734, 0.9662232390662673, 0.5434855859936787, 0.4551691782697059, 0.13420295366498103, 0.03195308420594786, 0.8243895725134549, 0.9743345238960042, 0.018383670262188758, 0.2539235718416847, 0.7381499181444322, 0.03067575254388318, 0.9611735797083396, 0.9956099482688863, 0.989708689228539, 0.9902449073596259, 0.27404071393994867, 0.27404071393994867, 0.44711905958623205, 0.9344703236362045, 0.9962259680521479, 0.4544081427105069, 0.028145159688363064, 0.21517428535942085, 0.004085587696697864, 0.05220473168002826, 0.1048634175485785, 0.033138655762104896, 0.05265868586855025, 0.016342350786791457, 0.003631633508175879, 0.03086888481949497, 0.004085587696697864, 0.9612302152259183, 0.027978578090425716, 0.13989289045212858, 0.8253680536675587, 0.9352653402241337, 0.04443410165198907, 0.6418259127509532, 0.3159758339697, 0.26246032138659997, 0.7359181560447803, 0.254235148467196, 0.11377374047427005, 0.1123691263943408, 0.02949689567851446, 0.15380524175225396, 0.01123691263943408, 0.09762067855508356, 0.00912999151954019, 0.19664597119009639, 0.0077253774396109295, 0.0140461407992926, 0.00070230703996463, 0.9732343058947089, 0.9928060687710607, 0.863412926762083, 0.28277736420025446, 0.018626053929358077, 0.28531728064516687, 0.22520592478223855, 0.016086137484445612, 0.12953573869053572, 0.03471219141380369, 0.0033865552598832866, 0.0033865552598832866, 0.9548822776389083, 0.6010071646474078, 0.39724103690736196, 0.6370587366137596, 0.14478607650312716, 0.07010694230677737, 0.0746791341963498, 0.05029411078529681, 0.022860959447862185, 0.38745590874068453, 0.6053998574073196, 0.43115330957804987, 0.5615019845667626, 0.07004288925638363, 0.924566138184264, 0.19082658286012433, 0.7951107619171847, 0.21686332824532106, 0.08593786145891712, 0.3281788132223077, 0.017879689296821683, 0.17187572291783423, 0.03172202939758686, 0.016149396784226035, 0.011535283417304311, 0.029414972714125995, 0.009228226733843449, 0.07959345557939976, 0.0005767641708652155, 0.9705997280277802, 0.9710864837666479, 0.9495797855236366, 0.07711626332607022, 0.09113740211262844, 0.827247188406935, 0.7234575971075774, 0.15034984699665854, 0.020208312768368084, 0.01939998025763336, 0.042033290558205615, 0.02586664034351115, 0.01454998519322502, 0.00242499753220417, 0.0016166650214694469, 0.31230954208348144, 0.05205159034724691, 0.6246190841669629, 0.9590258832161738, 0.958635718704222, 0.3316502430952877, 0.6633004861905754, 0.9016105793353758, 0.07955387464723904, 0.9688493273233827, 0.19802630183440947, 0.02921699535261779, 0.201272634651367, 0.12660697986134375, 0.16556297366483413, 0.016231664084787663, 0.24996762690573, 0.006492665633915064, 0.8601718856363464, 0.0743920036221948, 0.9075824441907764, 0.9193914646986211, 0.992819840185444, 0.9695185825247191, 0.026806965415430022, 0.14767275082056486, 0.3384167206304612, 0.09434647969091645, 0.1784379072415159, 0.1962133309513987, 0.0027346805707512013, 0.025979465422136413, 0.012306062568380407, 0.004102020856126802, 0.0853448312548381, 0.012801724688225715, 0.900387969738542, 0.9875359324766709, 0.9949660945491673, 0.9761924684985274, 0.9939306301075393, 0.7693329655112755, 0.10525076401131457, 0.07267314657924101, 0.050119411433959316, 0.9843169760028693, 0.025025988314922424, 0.9635005501245134, 0.986605732673929, 0.01729228281332066, 0.9798960260881707, 0.0159753961152821, 0.9744991630322081, 0.9738837558004432, 0.9620685567668736, 0.21798151970595367, 0.7356876290075937, 0.9605476631803201, 0.207031857536743, 0.7845417759287103, 0.9842544481331152, 0.9808582228694449, 0.8563341502343745, 0.1429176009967082, 0.9798055207231471, 0.44318863601571806, 0.5113715030950593, 0.9525188196885148, 0.9848364312952126, 0.2380788236518476, 0.039679803941974595, 0.2579187256228349, 0.45631774533270786, 0.036741382809397954, 0.6193547387869941, 0.07698194493397667, 0.2659376279537376, 0.9791983277232175, 0.046332178791271425, 0.9519156733479401, 0.9866151925270393, 0.9831823427763215, 0.9438844198147077, 0.8511745027732938, 0.022413721042895917, 0.9413762838016286, 0.946137078268576, 0.9925247889666639, 0.993578006305514, 0.9848879504497887, 0.9953383153822833, 0.5931398409051732, 0.36247434721982813, 0.020719965426896535, 0.12431979256137922, 0.6985588343925118, 0.08879985182955659, 0.029599950609852196, 0.03551994073182264, 0.9837930833983566, 0.1271457865735541, 0.1645416061540112, 0.706780990070639, 0.9943884311704301, 0.8517665691599968, 0.06890798389668337, 0.011408606605411155, 0.020763664021848302, 0.0038789262458397925, 0.010039573812761816, 0.011864950869627602, 0.021220008286064747, 0.014686134513169547, 0.6094745822965362, 0.36715336282923866, 0.0019891431278792377, 0.14719659146306358, 0.01790228815091314, 0.0059674293836377125, 0.061663436964256364, 0.05569600758061865, 0.0855331544988072, 0.05370686445273941, 0.029837146918188562, 0.5370686445273941, 0.0019891431278792377, 0.1163072926865131, 0.8787662114092102, 0.04526586437334248, 0.3103944985600627, 0.6401886532801293, 0.9323988218337819, 0.9862313891890031, 0.1327382831507765, 0.23892890967139768, 0.011377567127209413, 0.04171774613310118, 0.5764634011119436, 0.977764522773175, 0.986098503898497, 0.9862416612972507, 0.983054544344861, 0.9919223352870935, 0.2966389226391221, 0.6998824581016787, 0.004634983166236283, 0.45116219601259205, 0.535755107764953, 0.9875930397493079, 0.11145595347575381, 0.19504791858256917, 0.6873117131004818, 0.31307157666722474, 0.6743080112832534, 0.14433315910648295, 0.8528777583564902, 0.9773761688193007, 0.9838572974634812, 0.00983857297463481, 0.9862064149265055, 0.04602563584482742, 0.06030945386563593, 0.6459459927187848, 0.0349159996064208, 0.21108308852972577, 0.029161190514747207, 0.04860198419124535, 0.8505347233467935, 0.05832238102949441, 0.009720396838249068, 0.07951451493272828, 0.9057740396684699, 0.010371458469486297, 0.997651563347314, 0.08963206910271129, 0.022408017275677823, 0.8178926305622405, 0.0504180388702751, 0.005602004318919456, 0.9955858278796756, 0.992444679438063, 0.12384487116871833, 0.008033180832565512, 0.0769846496454195, 0.14058066456989649, 0.07029033228494824, 0.008033180832565512, 0.022091247289555162, 0.5489340235586434, 0.002008295208141378, 0.5132780669911944, 0.037236388928237434, 0.02993513619721048, 0.04526776693236707, 0.043077391113058985, 0.027014635104799706, 0.07812340422198834, 0.04818826802477785, 0.10075728768817187, 0.07155227676406409, 0.005110876911718863, 0.09286785418201718, 0.021851259807533455, 0.06282237194665868, 0.04370251961506691, 0.06555377942260036, 0.5244302353808029, 0.07374800185042542, 0.11745052146549233, 0.943103656451362, 0.08702854668816797, 0.8702854668816796, 0.9811325612340744, 0.9951320213194405, 0.11851329313601641, 0.2873049530570095, 0.4094095581062385, 0.17956559566063093, 0.9743188669138151, 0.8375356925659412, 0.1603791751722015, 0.9639091391644106, 0.026288431068120288, 0.46807034337973863, 0.018095502965711545, 0.0072382011862846185, 0.13752582253940773, 0.008444568050665388, 0.014476402372569237, 0.07238201186284618, 0.018095502965711545, 0.25574977524872317, 0.016541908365486843, 0.9759725935637238, 0.040813632098762445, 0.04613714932903581, 0.39305302216851656, 0.03992637922705022, 0.10292133311861834, 0.021294068921093447, 0.03637736774020131, 0.09759781588834497, 0.05855868953300698, 0.14018595373053186, 0.021294068921093447, 0.9757675129814691, 0.9773041024632805, 0.9542591448218959, 0.9641707937609905, 0.9788501823174274, 0.2845235122426252, 0.700136391382376, 0.013406867069024223, 0.8601840707406008, 0.050229726758575226, 0.0392419740301369, 0.04081165299134237, 0.00784839480602738, 0.9974508807462238, 0.9895747802482338, 0.9982894487770341, 0.930833525088588, 0.06704064169613098, 0.06569308965244787, 0.9328418730647597, 0.9891686467481462, 0.2548140825450426, 0.0300488304888022, 0.2794541235458604, 0.3227244394497356, 0.048078128782083514, 0.028846877269250108, 0.029447853879026153, 0.004807812878208351, 0.0012019532195520878, 0.9924546577934333, 0.9462687851738922, 0.005170867678545859, 0.041366941428366874, 0.14377668219486167, 0.8446880078948124, 0.9895967939330329, 0.0782961821948078, 0.19179529901983927, 0.6130166202849293, 0.11653385256901626, 0.3237093657789964, 0.6474187315579928, 0.8977175326440007, 0.9304584040557684, 0.9721025989121546, 0.9899553990659798, 0.9475909052086161, 0.047379545260430804, 0.9786514676720275, 0.06880538391820235, 0.8485997349911623, 0.030580170630312153, 0.04969277727425725, 0.9862205269842247, 0.9593972023440939, 0.972081572842289, 0.032488463535530754, 0.779723124852738, 0.17187445225248527, 0.009432134574831509, 0.004192059811036226, 0.0010480149527590564, 0.3107409367880691, 0.2729481201516823, 0.0209960092424371, 0.0839840369697484, 0.0209960092424371, 0.2855457256971446, 0.991558660914467, 0.8524553576876959, 0.9646510500121868, 0.9938001539467989, 0.9154980353427551, 0.43413164230094614, 0.06379077192993494, 0.04252718128662329, 0.054044959551750434, 0.019491624756369008, 0.04429914717356593, 0.2560490706632111, 0.0859403455167179, 0.9685246559199627, 0.44831806753663855, 0.04981311861518206, 0.4981311861518206, 0.9896537395237346, 0.20184682488735234, 0.7872026170606741, 0.9481717020401964, 0.9811948893092616, 0.41648881305650337, 0.028152325335827264, 0.04554052627854411, 0.06541275592736336, 0.28649131077047746, 0.00414004784350401, 0.11260930134330906, 0.03974445929763849, 0.002484028706102406, 0.6821880712349154, 0.1857570934007787, 0.018769880517848718, 0.04530660814653139, 0.018122643258612556, 0.0433648963688229, 0.0032361862961808132, 0.0019417117777084881, 0.0006472372592361626, 0.47823745394401457, 0.02671717619798964, 0.0667929404949741, 0.058777787635577214, 0.02538131738809016, 0.040075764296984465, 0.021373740958391712, 0.2832020676986902, 0.1051629104321464, 0.8891046063808741, 0.9422935893536658, 0.1270633960131583, 0.8470893067543886, 0.9889843602952995, 0.9839663325281233, 0.13816370794345967, 0.36383109758444376, 0.4973893485964548, 0.9059799941213815, 0.08999801266106439, 0.8932774734570311, 0.018796583274683618, 0.08458462473607628, 0.88343941391013, 0.018550312663184444, 0.07729296942993517, 0.1298521886422911, 0.11748531353350147, 0.6523526619886529, 0.04097309323628555, 0.9423811444345676, 0.9933220771376685, 0.051094713866672026, 0.7617757340122011, 0.15792911558789535, 0.025547356933336013, 0.05222041703709462, 0.9341652381080259, 0.01160453711935436, 0.9951269605015057, 0.9814809470601923, 0.8836393434036989, 0.9938151981978812, 0.9426090634435946, 0.9952532726223408, 0.9725266692170965, 0.9847616344225502, 0.9946279652730553, 0.9418727086444595, 0.6078458381749421, 0.08852623553436921, 0.06999748856205938, 0.03139593236974722, 0.08286467395949676, 0.006176248990769945, 0.06279186473949444, 0.006176248990769945, 0.00566156157487245, 0.022131558883592303, 0.014925935061027367, 0.0005146874158974954, 0.0005146874158974954, 0.11928346485805574, 0.5357292456782854, 0.01883423129337722, 0.3243673167192744, 0.9977842757650611, 0.0032448741819829123, 0.08436672873155572, 0.704137697490292, 0.08112185454957281, 0.1265500930973336, 0.9872323532678426, 0.43187373921533617, 0.5575097360779795, 0.9168655773610359, 0.9816430926559747, 0.9822915842353362, 0.9863627298481213, 0.09103248043137611, 0.19034064090196826, 0.024827040117648032, 0.5925386908078664, 0.05296435225098247, 0.046343808219609664, 0.1242681106570158, 0.2222487363673552, 0.16489422375642482, 0.43971793001713283, 0.04779542717577531, 0.4833310414468209, 0.01455816389900063, 0.12520020953140543, 0.3726889958144161, 0.9858580182305399, 0.7471900250364222, 0.004177162963166581, 0.012531488889499743, 0.11957128982064338, 0.02715155926058278, 0.0276737046309786, 0.06109100833631125, 0.8802747914560536, 0.11589824840487226, 0.9802618081063585, 0.9530333128793693, 0.9913882370093755, 0.004845529699820385, 0.9933335884631789, 0.009375477708704404, 0.9844251594139624, 0.9903782981332954, 0.7227041005693057, 0.032788087738494016, 0.05328064257505278, 0.009563192257060756, 0.012295532901935257, 0.12978618063153882, 0.038252769028243025, 0.0300551380808999, 0.2564705116236791, 0.1162132005794796, 0.595091734001818, 0.9960378423235506, 0.9930637576363514, 0.9919197437013886, 0.9966004079271391, 0.0023504726602055167, 0.9842004880706964, 0.9693129128247944, 0.028509203318376305, 0.9941610676913994, 0.962425420999488, 0.9988871204971154, 0.9905000870801673, 0.958349512959117, 0.9980759019385759, 0.20892327041049463, 0.17557401597877248, 0.12947357602903894, 0.07160281098575638, 0.06669850886344429, 0.05100474207204564, 0.17361229512984766, 0.029425812733872486, 0.01275118551801141, 0.008827743820161745, 0.07160281098575638, 0.8146631757536874, 0.007053360829036254, 0.010580041243554382, 0.165753979482352, 0.1570101831842263, 0.055779933499659345, 0.638370350051657, 0.035120698870155884, 0.008263693851801384, 0.051648086573758654, 0.053714010036708996, 0.9970202140137141, 0.935019807922604, 0.06435359001896464, 0.9486050487853279, 0.2920335246221317, 0.6424737541686898, 0.16437870744396493, 0.7671006347385031, 0.09971244154988769, 0.8632998228924487, 0.00787203485920166, 0.02361610457760498, 0.005248023239467773, 0.993542895932354, 0.9871123192684286, 0.04468322796058977, 0.005449174141535338, 0.03269504484921203, 0.6855061070051456, 0.019617026909527217, 0.015257687596298947, 0.1961702690952722, 0.9961149079064456, 0.3068604643977701, 0.071424418437412, 0.06348837194436623, 0.0978779067475646, 0.4497093012725941, 0.0052906976620305185, 0.9076603565036744, 0.9829755330987642, 0.9400025653274865, 0.1455955490686882, 0.16639491322135794, 0.6759793349617667, 0.06643859080157474, 0.9301402712220465, 0.029937821238418382, 0.14968910619209191, 0.14696748607950844, 0.41912949733785737, 0.0762053631523377, 0.016329720675500935, 0.08709184360267166, 0.0762053631523377, 0.0027216201125834895, 0.42682816561968256, 0.5711081089277443, 0.3114823007087209, 0.14276272115816374, 0.5191371678478681, 0.992858066897072, 0.9844159177931447, 0.9913807784465593, 0.006717567547639157, 0.685191889859194, 0.10076351321458736, 0.20152702642917472, 0.9441121516555155, 0.054406462976758524, 0.966246131800859, 0.015337240187315224, 0.02680112128443351, 0.13400560642216755, 0.8308347598174387, 0.9877035314682985, 0.9778178628546934, 0.10870914772433395, 0.10870914772433395, 0.7772704062289878, 0.9862259049922655, 0.009575008786332674, 0.22937285875911143, 0.14335803672444464, 0.038228809793185235, 0.42051690772503764, 0.02102584538625188, 0.07645761958637047, 0.05160889322080007, 0.013380083427614833, 0.0038228809793185237, 0.984730763841154, 0.12602202543485566, 0.13302324907012544, 0.09101590725850688, 0.6441125744448178, 0.9888403463320792, 0.9924991025829137, 0.9148666426128943, 0.0517542296148241, 0.8519542413517198, 0.055735324200579806, 0.0358298512718013, 0.06277070100879711, 0.13292619037157036, 0.6443227838844174, 0.13292619037157036, 0.009230985442470164, 0.01292337961945823, 0.0036923941769880656, 0.9920497956162467, 0.23216412869289496, 0.7545334182519087, 0.9923720426823965, 0.19641493274776695, 0.09002351084272651, 0.1325800796047427, 0.008183955531156957, 0.1489479906670566, 0.32572143014004684, 0.0065471644249255655, 0.029462239912165043, 0.042556568762016175, 0.018004702168545304, 0.9626781894036861, 0.9869092734201818, 0.9903866960612356, 0.21273833775907422, 0.639097744969169, 0.1482989242469895, 0.08176793533028132, 0.9076240821661227, 0.379413951651313, 0.6165476714333836, 0.6881287279128477, 0.09187810553495603, 0.021055399185094092, 0.004785317996612293, 0.19428391066245912, 0.5956517737955161, 0.11782773656591225, 0.10065686038294011, 0.08881487680847656, 0.0023683967148927084, 0.0035525950723390627, 0.0905911743446461, 0.141690029833477, 0.8501401790008621, 0.15366587678797208, 0.6842933575714382, 0.05522367447067746, 0.09604117299248255, 0.009604117299248255, 0.9689809009635117, 0.0526810909029612, 0.39905926358993105, 0.2857949181485645, 0.057949199993257317, 0.08165569089958985, 0.00790216363544418, 0.028974599996628658, 0.0131702727257403, 0.07375352726414568, 0.04977708547646934, 0.20906375900117125, 0.18417521626293656, 0.5525256487888097, 0.26509307800991255, 0.29222248657817845, 0.4425969226422809, 0.9910703959834186, 0.9187774544086278, 0.24907590187516268, 0.48036066790209947, 0.24907590187516268, 0.09434245476331063, 0.8760370799450273, 0.013477493537615804, 0.7841246028019014, 0.033525517459463715, 0.18066528853155447, 0.9760640548765452, 0.9012312674213397, 0.9949429105913783, 0.9549707244947362, 0.03744983233312691, 0.9631416219927345, 0.9561960074307787, 0.09463061707746932, 0.8516755536972238, 0.05161670022407417, 0.9666078401696673, 0.9880923454894247, 0.9709277165956904, 0.1964157790090008, 0.452790058978644, 0.029979250480321178, 0.06616110450829502, 0.006202603547652658, 0.008270138063536877, 0.010337672579421095, 0.21812489142578512, 0.007236370805594767, 0.0010337672579421096, 0.0010337672579421096, 0.3096601511300212, 0.13860978193439044, 0.02064401007533475, 0.008847432889429178, 0.49545624180803394, 0.026542298668287532, 0.6545378149314843, 0.018835620573567895, 0.07220321219867694, 0.05650686172070368, 0.1977740160224629, 0.136835855860252, 0.8330888871491812, 0.024147503975338585, 0.055551861727836487, 0.9443816493732202, 0.8902856100596074, 0.989180722313455, 0.9898873555660368, 0.9813848974069729, 0.9700411543177045, 0.5286961498913417, 0.004684649429416952, 0.16730890819346256, 0.04885420119249107, 0.10841617250936375, 0.04149260923197872, 0.07830056903454048, 0.005353885062190802, 0.0033461781638692515, 0.0060231206949646525, 0.004015413796643102, 0.002676942531095401, 0.9713628477756254, 0.10432482245954187, 0.8152791681097532, 0.07727764626632731, 0.04687249328724086, 0.04326691688053002, 0.018027882033554175, 0.1766732439288309, 0.6634260588347937, 0.05047806969395169, 0.9963426171269821, 0.9832334225088757, 0.10154405695608171, 0.05654157716872731, 0.44540915892099475, 0.09692841800353254, 0.06577285507382566, 0.0034617292144118765, 0.1038518764323563, 0.04269466031107981, 0.045002479787354395, 0.03692511162039335, 0.9270476923707719, 0.06505597841198399, 0.9178803920212321, 0.9688675050546197, 0.9252055962380605, 0.989810977314244, 0.07660161413118396, 0.025533871377061323, 0.8068703355151378, 0.02042709710164906, 0.06638806558035944, 0.16287686310453464, 0.2646749025448688, 0.46827098142553714, 0.10179803944033415, 0.9884802416911043, 0.9130833580365064, 0.06998878686529705, 0.15747477044691838, 0.7523794588019433, 0.9953576227322299, 0.9402657937607439, 0.9800716071634046, 0.013244210907613576, 0.06881219073648248, 0.8945584795742723, 0.12910987525767692, 0.8521251767006677, 0.9925926320221488, 0.0009452425005916109, 0.22165936638873276, 0.35966477147510795, 0.20039141012542153, 0.11295647882069751, 0.06711221754200437, 0.0009452425005916109, 0.03544659377218541, 0.09616283510983445, 0.214952219657277, 0.6109168348154188, 0.0014141593398505066, 0.0664654889729738, 0.008484956039103039, 0.6099335672562757, 0.014053768830789761, 0.13070005012634478, 0.035134422076974405, 0.10891670843862065, 0.012648391947710785, 0.04848550246622468, 0.03583711051851389, 0.0028107537661579522, 0.9708359673064137, 0.8380323710942095, 0.145372962332669, 0.014252251209085196, 0.9584221636088721, 0.9325602148683154, 0.03679611171098207, 0.9554723674285011, 0.006132685285163678, 0.9970857287551574, 0.9453814458124841, 0.0350141276226846, 0.6361215982245588, 0.04712011838700436, 0.2552339745962736, 0.013743367862876272, 0.01178002959675109, 0.033376750524128085, 0.1410032044207614, 0.7755176243141877, 0.6657127707270155, 0.10123235521799244, 0.06382039785482133, 0.03741195736317112, 0.0022007033743041836, 0.011003516871520918, 0.11773763052527382, 0.9883252383961306, 0.9895837945386213, 0.9860487751119241, 0.9915726266560435, 0.8756993162123663, 0.07570601466428467, 0.013518931190050834, 0.15141202932856934, 0.1973763953747422, 0.12707795318647785, 0.064890869712244, 0.3109354173711692, 0.0567795109982135, 0.9874691998730128, 0.2908083584708217, 0.02750889877426692, 0.047158112184457576, 0.1139654377791058, 0.003929842682038131, 0.5148093913469952, 0.010732147675021262, 0.013208797138487707, 0.19730640725616014, 0.7776679315284638, 0.9917467798879331, 0.9532278818952524, 0.9816908700858701, 0.07086708295472605, 0.01417341659094521, 0.19842783227323293, 0.049606958068308234, 0.01417341659094521, 0.5811100802287535, 0.06378037465925344, 0.10648993638370871, 0.06693653144118833, 0.018255417665778637, 0.258618416931864, 0.5202794034746911, 0.03042569610963106, 0.9225624101894291, 0.6584743404262482, 0.20778945324689962, 0.033208360107951994, 0.05503099675032045, 0.007590482310389028, 0.007590482310389028, 0.029413118952757483, 0.5858914628389538, 0.1121432878090185, 0.008391674597953765, 0.03966973446305416, 0.06713339678363012, 0.08925690254187187, 0.0038143975445244387, 0.0930713000863963, 0.6519777475154479, 0.00031165284298061564, 0.10876684220023486, 0.009349585289418469, 0.0857045318196693, 0.0199457819507594, 0.0598373458522782, 0.06388883281102621, 0.2352308248823482, 0.08767694381978433, 0.10050771608609423, 0.023523082488234818, 0.05987693724277954, 0.05987693724277954, 0.2330923628379632, 0.0021384620443849834, 0.04490770293208465, 0.004276924088769967, 0.14969234310694884, 0.15097738211287426, 0.2868570260144611, 0.19627059674673655, 0.015097738211287426, 0.07548869105643713, 0.2717592878031737, 0.9710638055924826, 0.4206796987881606, 0.030296512440857775, 0.0978324880902699, 0.010414426151544861, 0.10919368025559156, 0.17168023716486072, 0.05522801747031365, 0.058383904182903006, 0.007258539438955509, 0.0012623546850357406, 0.03787064055107222, 0.9895739334839873, 0.9950854460812145, 0.9713946252883082, 0.9752911073337246, 0.7740488724354597, 0.05462038414363123, 0.14981591079395995, 0.020287571253348742, 0.9739482504128703, 0.12224225617468125, 0.5916525198854573, 0.2836020343252605, 0.9869281897888637, 0.9904209648031903, 0.8494356196483338, 0.11200470656441888, 0.8680364758742464, 0.9759586895505566, 0.07680984413562572, 0.914037145213946, 0.2819302085121378, 0.012681981697777825, 0.06438544554256434, 0.09755370536752173, 0.0009755370536752173, 0.13364857635350477, 0.022437352234529997, 0.36485085807453127, 0.02146181518085478, 0.20644090413029517, 0.1746807650333267, 0.6147855496627471, 0.9536543704624374, 0.8981369859663033, 0.05987579906442022, 0.9302254748187094, 0.06839893197196392, 0.8727028855183522, 0.12528902811897136, 0.7667188787278889, 0.230939421303581, 0.9849722808582935, 0.9838069904606694, 0.011711987981674636, 0.9866942893180568, 0.8998245504666375, 0.9260087282594598, 0.07581779169436292, 0.4135515910601614, 0.03446263258834679, 0.3342875361069638, 0.05514021214135486, 0.08271031821203229, 0.7384925614724941, 0.03034900937558195, 0.23014665443149646, 0.996319994100996, 0.11568701170521085, 0.5737450445380052, 0.05940684384862179, 0.0031266759920327257, 0.009380027976098177, 0.018760055952196354, 0.21886731944229082, 0.7076266116339691, 0.29122539251361906, 0.9569811185990701, 0.03442378124457087, 0.12802639659105386, 0.18910769267457192, 0.31078163447293994, 0.027364420645416093, 0.1436632083884345, 0.026387119908079803, 0.04006933023078785, 0.046910435392141875, 0.0004886503686681445, 0.06889970198220838, 0.017102762903385058, 0.0004886503686681445, 0.09004700088294328, 0.004287952422997299, 0.8661663894454543, 0.012863857268991896, 0.021439762114986494, 0.06632772593002004, 0.007580311534859432, 0.5817889103004614, 0.34111401906867445, 0.03778784716028227, 0.17677026807182894, 0.19982725955945882, 0.06981144644865708, 0.42463292656385, 0.010247551772279938, 0.02882123935953733, 0.006404719857674962, 0.03522595921721229, 0.010247551772279938, 0.30751969010320607, 0.029613007195123546, 0.11389618151970594, 0.002277923630394119, 0.1685663486491648, 0.10022863973734124, 0.06605978528142945, 0.034168854455911786, 0.17540011954034715, 0.9357768527387647, 0.9939466214766817, 0.46029936280041367, 0.005977913802602775, 0.08369079323643885, 0.4304097937873998, 0.017933741407808325, 0.8746295397032021, 0.9886459927310536, 0.9123749059442561, 0.07788384515504038, 0.9086448601421377, 0.014150927158016444, 0.010107805112868889, 0.4538404495678131, 0.463948254680682, 0.024258732270885333, 0.017183268691877113, 0.016172488180590222, 0.9935537110438779, 0.9938376670121891, 0.7818118403176986, 0.04093255708469626, 0.1719167397557243, 0.004093255708469626, 0.9888771468227102, 0.9788350738637852, 0.9917398867147218, 0.9687222520423946, 0.9870056720788645, 0.9789043133872297, 0.9311411995394328, 0.5635341757336958, 0.006422041888703087, 0.20550534043849877, 0.011773743462622326, 0.13058151840362942, 0.040672931961786216, 0.0032110209443515433, 0.03799708117482659, 0.9908466858833234, 0.9122278675981966, 0.397607019435574, 0.10372357028754105, 0.1580549642476816, 0.07655787330747077, 0.2642481433515927, 0.12828295354979524, 0.16642112892946412, 0.024269747968880182, 0.6795529431286451, 0.1959011766306407, 0.18365735309122563, 0.1714135295518106, 0.0857067647759053, 0.35507088264303627, 0.9410251169709172, 0.018096636864825332, 0.036193273729650664, 0.9902481844796099, 0.20344015998835388, 0.3729736266453154, 0.15258011999126542, 0.25430019998544234, 0.9603509828334431, 0.5123735605732005, 0.04483268655015504, 0.12847013540842747, 0.021097734847131785, 0.0516141013224474, 0.09569329734234773, 0.018083772726112956, 0.07384207196496125, 0.05048386552706534, 0.002637216855891473, 0.0003767452651273533, 0.022791206041357304, 0.27349447249628767, 0.07749010054061484, 0.05469889449925753, 0.5697801510339326, 0.9546238882511573, 0.020147091241632793, 0.9746155388139863, 0.002518386405204099, 0.040119809792517384, 0.9428155301241585, 0.05468414645034401, 0.0011887857923987828, 0.9427071333722347, 0.007137589141328452, 0.004758392760885635, 0.9873664978837693, 0.9915937170156033, 0.1437552648856751, 0.8494629288698984, 0.9950727644664253, 0.06317119271951865, 0.9340312066385972, 0.9917035385389625, 0.9947829386988681, 0.9728572276538825, 0.9866658346652103, 0.9804870375425933, 0.914869699411985, 0.06760120931615653, 0.018026989150975073, 0.7449857308919576, 0.025339650710610805, 0.1038925679135043, 0.12669825355305403, 0.08035494657449935, 0.09757386369760634, 0.051656751369321005, 0.7691116314987794, 0.21212320025334863, 0.06256871374379348, 0.129715626054206, 0.05341231661055541, 0.390672944351491, 0.14650235413180912, 0.004578198566619035, 0.31653270004161876, 0.05239161931723345, 0.05020863517901539, 0.026195809658616724, 0.026195809658616724, 0.35582641452954383, 0.17027276278100872, 0.17539637095384378, 0.024975535022553806, 0.3042474266383827, 0.03405754775802792, 0.19469564801672626, 0.21342729928364162, 0.0391661799217321, 0.00908201273547411, 0.0051086321637041875, 0.10028040228984235, 0.11963276062647858, 0.18472705684970958, 0.022870968943297376, 0.17065261442306504, 0.39760299855270825, 0.0017593053033305673, 0.25386167325625425, 0.022001345015542035, 0.02115513943802119, 0.10239087488002255, 0.007615850197687628, 0.03723304541091729, 0.2547078788337751, 0.06685024062414696, 0.07023506293423035, 0.1514707983762317, 0.00338482231008339, 0.007615850197687628, 0.8814781515617239, 0.07345651263014366, 0.03917680673607662, 0.9891865937854065, 0.5589739816778032, 0.06617380005934996, 0.1047881586822177, 0.028493659790261278, 0.052783336988516796, 0.04157271674316809, 0.03596740662049375, 0.010276401891569642, 0.003269764238226704, 0.0976258179699116, 0.0001557030589631764, 0.9792099495399869, 0.4092949361977069, 0.13643164539923563, 0.12840625449339824, 0.20063477264593474, 0.02407617271751217, 0.09630469087004868, 0.9944649582963857, 0.9935576842267373, 0.94565894064854, 0.9609082719153569, 0.938646233752138, 0.9141503491126991, 0.989891328277382, 0.049791881149995734, 0.10891974001561566, 0.03547671531937196, 0.09771656675686663, 0.25393859386497825, 0.44501493777808687, 0.008713579201249254, 0.31159469783185356, 0.16216326209743778, 0.08510220779493635, 0.21041018305204737, 0.03618519071595719, 0.11525653339156734, 0.0717002853075448, 0.00804115349243493, 0.9872214458402624, 0.9713759864193031, 0.9849597857760795], \"Term\": [\"absolute\", \"absolute\", \"absolutes\", \"accelerator\", \"accelerators\", \"acids\", \"activate\", \"acts\", \"acts\", \"acts\", \"adams\", \"adams\", \"adaptec\", \"adapter\", \"address\", \"address\", \"address\", \"address\", \"address\", \"address\", \"address\", \"address\", \"addresses\", \"addresses\", \"adirondack\", \"adjust\", \"administration\", \"administration\", \"adobe\", \"advance\", \"advance\", \"advance\", \"advance\", \"advance\", \"advisor\", \"aerospace\", \"afraid\", \"agencies\", \"aircraft\", \"alarm\", \"algorythm\", \"allah\", \"allergic\", \"allergic\", \"allocation\", \"also\", \"also\", \"also\", \"also\", \"also\", \"also\", \"also\", \"also\", \"also\", \"also\", \"also\", \"also\", \"also\", \"amendment\", \"american\", \"american\", \"american\", \"american\", \"american\", \"american\", \"amiga\", \"amiga\", \"amour\", \"amplifier\", \"amps\", \"analog\", \"andrew\", \"andrew\", \"andrew\", \"angeles\", \"angeles\", \"angeles\", \"angeles\", \"angeles\", \"angeles\", \"anon\", \"anon\", \"anonymous\", \"anonymous\", \"antenna\", \"antenna\", \"antenna\", \"anti\", \"anti\", \"anti\", \"anybody\", \"anybody\", \"anybody\", \"anybody\", \"anybody\", \"anybody\", \"anyone\", \"anyone\", \"anyone\", \"anyone\", \"anyone\", \"anyone\", \"anyone\", \"anyone\", \"anyone\", \"anything\", \"anything\", \"anything\", \"anything\", \"anything\", \"anything\", \"anything\", \"apartment\", \"apartment\", \"apple\", \"apple\", \"applelink\", \"application\", \"application\", \"application\", \"application\", \"application\", \"appreciate\", \"appreciate\", \"appreciate\", \"appreciated\", \"appreciated\", \"arab\", \"arabs\", \"archive\", \"archive\", \"archive\", \"archive\", \"arena\", \"argic\", \"argic\", \"argument\", \"argument\", \"argument\", \"argument\", \"argument\", \"arguments\", \"arguments\", \"arguments\", \"arguments\", \"argv\", \"armenia\", \"armenia\", \"armenian\", \"armenian\", \"armenians\", \"armenians\", \"armenians\", \"armies\", \"army\", \"army\", \"army\", \"army\", \"arrogant\", \"asala\", \"assertion\", \"assertion\", \"assess\", \"assess\", \"astronomical\", \"astronomy\", \"astros\", \"asynchronous\", \"atheism\", \"atheist\", \"atheists\", \"attorney\", \"autos\", \"autos\", \"available\", \"available\", \"available\", \"available\", \"available\", \"available\", \"average\", \"average\", \"average\", \"average\", \"average\", \"away\", \"away\", \"away\", \"away\", \"away\", \"away\", \"away\", \"away\", \"away\", \"azerbaijan\", \"azerbaijan\", \"azerbaijani\", \"azerbaijanis\", \"azeris\", \"babies\", \"back\", \"back\", \"back\", \"back\", \"back\", \"back\", \"back\", \"back\", \"back\", \"back\", \"back\", \"backup\", \"baku\", \"ball\", \"ball\", \"balloon\", \"balloon\", \"balls\", \"baltimore\", \"baltimore\", \"bandwidth\", \"bandwidth\", \"baseball\", \"based\", \"based\", \"based\", \"based\", \"based\", \"based\", \"based\", \"based\", \"based\", \"based\", \"based\", \"based\", \"bastard\", \"batf\", \"beef\", \"belief\", \"belief\", \"beliefs\", \"beliefs\", \"beliefs\", \"believe\", \"believe\", \"believe\", \"believe\", \"believe\", \"believe\", \"believe\", \"believe\", \"believe\", \"believer\", \"best\", \"best\", \"best\", \"best\", \"best\", \"best\", \"best\", \"best\", \"best\", \"best\", \"best\", \"better\", \"better\", \"better\", \"better\", \"better\", \"better\", \"better\", \"better\", \"better\", \"better\", \"bible\", \"biblical\", \"bike\", \"bike\", \"biker\", \"bikes\", \"billion\", \"binaries\", \"binaries\", \"binghamton\", \"bios\", \"bios\", \"bitmap\", \"bits\", \"bits\", \"bits\", \"bits\", \"blind\", \"blind\", \"blind\", \"blind\", \"block\", \"block\", \"block\", \"block\", \"block\", \"blue\", \"blue\", \"blue\", \"blue\", \"blue\", \"blue\", \"board\", \"board\", \"board\", \"board\", \"board\", \"board\", \"bobby\", \"bobby\", \"bobby\", \"bodies\", \"bodies\", \"bodies\", \"bodies\", \"bodies\", \"bodies\", \"bolt\", \"bolt\", \"book\", \"book\", \"book\", \"book\", \"book\", \"book\", \"book\", \"book\", \"book\", \"books\", \"books\", \"books\", \"books\", \"books\", \"boot\", \"boot\", \"border\", \"border\", \"border\", \"borland\", \"borland\", \"boston\", \"boston\", \"boston\", \"boston\", \"bounced\", \"bout\", \"brain\", \"brain\", \"brain\", \"brain\", \"brain\", \"brand\", \"braves\", \"breeding\", \"breton\", \"brind\", \"brought\", \"brought\", \"brought\", \"bruins\", \"buffalo\", \"buffalo\", \"buffering\", \"build\", \"build\", \"build\", \"build\", \"build\", \"build\", \"build\", \"builder\", \"buttons\", \"byte\", \"byte\", \"byte\", \"bytes\", \"bytes\", \"cable\", \"cable\", \"cadre\", \"calgary\", \"calgary\", \"canadiens\", \"candida\", \"cannot\", \"cannot\", \"cannot\", \"cannot\", \"cannot\", \"cannot\", \"cannot\", \"cape\", \"captain\", \"captain\", \"carb\", \"carbs\", \"card\", \"card\", \"card\", \"cards\", \"cards\", \"cards\", \"cards\", \"cards\", \"cards\", \"careers\", \"carnegie\", \"carrier\", \"carrier\", \"cars\", \"cars\", \"cars\", \"cars\", \"carson\", \"cassels\", \"caste\", \"catbyte\", \"catholic\", \"cells\", \"cells\", \"cells\", \"centris\", \"centris\", \"cereals\", \"certainty\", \"challenges\", \"championship\", \"char\", \"cheapest\", \"cheat\", \"check\", \"check\", \"check\", \"check\", \"check\", \"check\", \"check\", \"check\", \"check\", \"cheek\", \"cheers\", \"cheers\", \"cheers\", \"cheers\", \"chelios\", \"chest\", \"chicago\", \"chicago\", \"chicago\", \"chip\", \"chip\", \"chip\", \"chip\", \"chips\", \"chips\", \"christ\", \"christian\", \"christian\", \"christian\", \"christian\", \"christian\", \"christianity\", \"christianity\", \"christians\", \"christians\", \"church\", \"cipher\", \"circuit\", \"circuits\", \"civilians\", \"claim\", \"claim\", \"claim\", \"claim\", \"claim\", \"classified\", \"clemens\", \"client\", \"client\", \"clipper\", \"clone\", \"clone\", \"cluster\", \"cmap\", \"cmos\", \"coach\", \"coated\", \"code\", \"code\", \"code\", \"code\", \"code\", \"coding\", \"collaboration\", \"color\", \"color\", \"color\", \"color\", \"color\", \"colorado\", \"colorado\", \"colorado\", \"colorado\", \"colorado\", \"colorado\", \"colorado\", \"colormap\", \"colormap\", \"colors\", \"colors\", \"colors\", \"columns\", \"come\", \"come\", \"come\", \"come\", \"come\", \"come\", \"come\", \"come\", \"comics\", \"comp\", \"comp\", \"company\", \"company\", \"company\", \"company\", \"company\", \"company\", \"company\", \"company\", \"company\", \"compass\", \"compilers\", \"compound\", \"compound\", \"compuserve\", \"computer\", \"computer\", \"computer\", \"computer\", \"conclusion\", \"conclusion\", \"conclusion\", \"condition\", \"condition\", \"condition\", \"condition\", \"condition\", \"condition\", \"conductor\", \"config\", \"congress\", \"congress\", \"congress\", \"connected\", \"connected\", \"connected\", \"connected\", \"connected\", \"connected\", \"connector\", \"connectors\", \"constitution\", \"constitution\", \"constitution\", \"consume\", \"contact\", \"contact\", \"contact\", \"contact\", \"contact\", \"contact\", \"contest\", \"contest\", \"contest\", \"context\", \"context\", \"context\", \"context\", \"contrib\", \"contrib\", \"control\", \"control\", \"control\", \"control\", \"control\", \"control\", \"control\", \"control\", \"control\", \"control\", \"controller\", \"controllers\", \"converter\", \"converter\", \"converter\", \"convincing\", \"convincing\", \"cooling\", \"cooper\", \"copies\", \"copies\", \"copies\", \"copies\", \"copies\", \"coprocessor\", \"coprocessor\", \"corpses\", \"corpses\", \"could\", \"could\", \"could\", \"could\", \"could\", \"could\", \"could\", \"could\", \"could\", \"could\", \"could\", \"could\", \"countersteering\", \"countries\", \"countries\", \"countries\", \"country\", \"country\", \"country\", \"country\", \"country\", \"court\", \"court\", \"courtnall\", \"cover\", \"cover\", \"cover\", \"cover\", \"cover\", \"cover\", \"cover\", \"cover\", \"creature\", \"creed\", \"crew\", \"crime\", \"crime\", \"cross\", \"cross\", \"cross\", \"cross\", \"cross\", \"cross\", \"cross\", \"cross\", \"crossposting\", \"crypt\", \"crypto\", \"cryptographic\", \"cryptography\", \"ctrl\", \"cubic\", \"cubs\", \"cult\", \"cult\", \"current\", \"current\", \"current\", \"current\", \"current\", \"current\", \"current\", \"current\", \"current\", \"current\", \"cursor\", \"cycle\", \"cycle\", \"cycle\", \"cycles\", \"cylinder\", \"cyprus\", \"data\", \"data\", \"data\", \"data\", \"data\", \"data\", \"database\", \"database\", \"david\", \"david\", \"david\", \"david\", \"david\", \"david\", \"david\", \"david\", \"david\", \"davidian\", \"davidians\", \"davidians\", \"days\", \"days\", \"days\", \"days\", \"days\", \"days\", \"days\", \"days\", \"days\", \"dead\", \"dead\", \"dead\", \"dead\", \"dead\", \"dealt\", \"deck\", \"default\", \"default\", \"default\", \"default\", \"defaults\", \"defending\", \"defenseman\", \"defensive\", \"definition\", \"definition\", \"definition\", \"definition\", \"desktop\", \"desktop\", \"detect\", \"detect\", \"detectors\", \"detroit\", \"detroit\", \"diamond\", \"diamond\", \"different\", \"different\", \"different\", \"different\", \"different\", \"different\", \"different\", \"different\", \"different\", \"different\", \"digit\", \"dineen\", \"disease\", \"disease\", \"disk\", \"disk\", \"disk\", \"disks\", \"disks\", \"display\", \"display\", \"display\", \"displays\", \"displays\", \"distributing\", \"distribution\", \"distribution\", \"distribution\", \"divine\", \"division\", \"division\", \"division\", \"division\", \"division\", \"dock\", \"doctor\", \"doctor\", \"doctor\", \"doctor\", \"doctrine\", \"documentary\", \"dodge\", \"dodge\", \"dont\", \"dont\", \"doug\", \"doug\", \"doug\", \"doug\", \"doug\", \"dram\", \"drive\", \"drivers\", \"drivers\", \"drivers\", \"drivers\", \"drivers\", \"drives\", \"drug\", \"drug\", \"dyer\", \"earl\", \"earth\", \"earth\", \"earth\", \"earth\", \"earth\", \"earth\", \"easter\", \"easter\", \"easter\", \"eastern\", \"eastern\", \"eastern\", \"eastern\", \"echo\", \"eisa\", \"electrical\", \"electrical\", \"else\", \"else\", \"else\", \"else\", \"else\", \"else\", \"emacs\", \"email\", \"email\", \"email\", \"encrypted\", \"encryption\", \"enforcement\", \"engine\", \"engine\", \"engine\", \"engines\", \"entries\", \"entries\", \"entry\", \"entry\", \"entry\", \"envelope\", \"equation\", \"equation\", \"equation\", \"error\", \"error\", \"error\", \"error\", \"erzurum\", \"escrow\", \"esdi\", \"espn\", \"essence\", \"eternal\", \"eternal\", \"eternal\", \"eternity\", \"ethnic\", \"europe\", \"europe\", \"europe\", \"europe\", \"even\", \"even\", \"even\", \"even\", \"even\", \"even\", \"even\", \"even\", \"event\", \"event\", \"event\", \"event\", \"event\", \"event\", \"everyone\", \"everyone\", \"everyone\", \"everyone\", \"everyone\", \"everyone\", \"everyone\", \"everyone\", \"everyone\", \"evidence\", \"evidence\", \"evidence\", \"evidence\", \"example\", \"example\", \"example\", \"example\", \"example\", \"example\", \"example\", \"exhaust\", \"exist\", \"exist\", \"exist\", \"exist\", \"exist\", \"exist\", \"existence\", \"existence\", \"existence\", \"exists\", \"exists\", \"exists\", \"exists\", \"exists\", \"exists\", \"exit\", \"export\", \"export\", \"export\", \"expos\", \"expose\", \"exterminated\", \"extracting\", \"extraordinary\", \"eyes\", \"eyes\", \"faith\", \"faith\", \"fallacy\", \"fans\", \"fascist\", \"father\", \"father\", \"federal\", \"feel\", \"feel\", \"feel\", \"feel\", \"feel\", \"feel\", \"feel\", \"feel\", \"feel\", \"feelings\", \"feet\", \"feet\", \"feet\", \"feet\", \"female\", \"female\", \"female\", \"females\", \"feustel\", \"file\", \"file\", \"file\", \"file\", \"filename\", \"files\", \"files\", \"files\", \"filters\", \"finals\", \"finals\", \"financial\", \"find\", \"find\", \"find\", \"find\", \"find\", \"find\", \"find\", \"find\", \"find\", \"find\", \"fire\", \"fire\", \"fire\", \"fire\", \"fire\", \"fire\", \"firearm\", \"firearms\", \"firms\", \"first\", \"first\", \"first\", \"first\", \"first\", \"first\", \"first\", \"first\", \"first\", \"first\", \"first\", \"first\", \"first\", \"first\", \"first\", \"fleet\", \"fleury\", \"flight\", \"flight\", \"flight\", \"floppies\", \"floppy\", \"floppy\", \"flow\", \"flow\", \"flow\", \"flow\", \"fluke\", \"flyers\", \"flyers\", \"font\", \"fonts\", \"food\", \"food\", \"food\", \"forces\", \"forces\", \"forces\", \"ford\", \"ford\", \"foreground\", \"forged\", \"format\", \"format\", \"forsale\", \"forty\", \"fran\", \"frequency\", \"frequency\", \"friday\", \"friday\", \"friday\", \"friday\", \"friday\", \"friday\", \"funding\", \"fuse\", \"galley\", \"game\", \"game\", \"games\", \"games\", \"gaza\", \"genocide\", \"gerard\", \"german\", \"german\", \"german\", \"german\", \"german\", \"ghetto\", \"gifs\", \"glutamate\", \"goal\", \"goal\", \"goal\", \"goal\", \"goal\", \"going\", \"going\", \"going\", \"going\", \"going\", \"going\", \"good\", \"good\", \"good\", \"good\", \"good\", \"good\", \"good\", \"good\", \"good\", \"good\", \"good\", \"gordon\", \"gordon\", \"gospel\", \"govern\", \"government\", \"government\", \"government\", \"graeme\", \"grammar\", \"grams\", \"graphic\", \"graphic\", \"graphical\", \"graphics\", \"graphics\", \"great\", \"great\", \"great\", \"great\", \"great\", \"great\", \"great\", \"great\", \"great\", \"great\", \"greatly\", \"greatly\", \"greatly\", \"greatly\", \"greece\", \"greek\", \"greek\", \"green\", \"green\", \"green\", \"green\", \"green\", \"green\", \"ground\", \"ground\", \"ground\", \"ground\", \"grounded\", \"guide\", \"guide\", \"gxxor\", \"hackers\", \"halifax\", \"handgun\", \"handguns\", \"happen\", \"happen\", \"happen\", \"happen\", \"happen\", \"happen\", \"happen\", \"happened\", \"happened\", \"hard\", \"hard\", \"hard\", \"hard\", \"hard\", \"hard\", \"hartford\", \"hawk\", \"hawks\", \"hawks\", \"headache\", \"health\", \"health\", \"heat\", \"heat\", \"heaven\", \"heaven\", \"height\", \"height\", \"height\", \"height\", \"hell\", \"hell\", \"hell\", \"hell\", \"hello\", \"hello\", \"helmet\", \"help\", \"help\", \"help\", \"help\", \"help\", \"help\", \"help\", \"help\", \"help\", \"hemisphere\", \"henrik\", \"hicnet\", \"high\", \"high\", \"high\", \"high\", \"high\", \"high\", \"high\", \"high\", \"high\", \"hinted\", \"history\", \"history\", \"history\", \"history\", \"history\", \"history\", \"hitler\", \"hitler\", \"hitter\", \"hockey\", \"hojali\", \"holocaust\", \"holy\", \"holy\", \"home\", \"home\", \"home\", \"home\", \"home\", \"home\", \"homeland\", \"homicide\", \"homosexual\", \"homosexuality\", \"homosexuals\", \"hong\", \"however\", \"however\", \"however\", \"however\", \"however\", \"however\", \"however\", \"however\", \"however\", \"however\", \"hudson\", \"hulk\", \"human\", \"human\", \"human\", \"human\", \"human\", \"human\", \"husband\", \"icon\", \"icons\", \"ieee\", \"image\", \"image\", \"image\", \"imaging\", \"immoral\", \"immoral\", \"immoral\", \"implies\", \"include\", \"include\", \"include\", \"include\", \"include\", \"include\", \"include\", \"include\", \"includes\", \"includes\", \"includes\", \"includes\", \"includes\", \"inference\", \"inflammation\", \"info\", \"info\", \"info\", \"info\", \"information\", \"information\", \"information\", \"information\", \"information\", \"information\", \"information\", \"ingr\", \"initiative\", \"injury\", \"injury\", \"injury\", \"inning\", \"innings\", \"input\", \"input\", \"insane\", \"intellect\", \"interactive\", \"interested\", \"interested\", \"interested\", \"interested\", \"interested\", \"interested\", \"interested\", \"internet\", \"internet\", \"internet\", \"internet\", \"internet\", \"interval\", \"invaded\", \"investment\", \"iran\", \"isbn\", \"isdn\", \"islam\", \"island\", \"island\", \"island\", \"island\", \"israel\", \"israel\", \"israeli\", \"israelis\", \"istanbul\", \"jagr\", \"jersey\", \"jersey\", \"jersey\", \"jesus\", \"jewish\", \"jewish\", \"jews\", \"jews\", \"jobs\", \"jobs\", \"john\", \"john\", \"john\", \"john\", \"john\", \"john\", \"john\", \"john\", \"jose\", \"jose\", \"journals\", \"jpeg\", \"judas\", \"judge\", \"judge\", \"judge\", \"judicial\", \"jumper\", \"jumpers\", \"june\", \"june\", \"june\", \"june\", \"june\", \"june\", \"june\", \"juneau\", \"jupiter\", \"justified\", \"karabagh\", \"karabakh\", \"karabakh\", \"karina\", \"kars\", \"kent\", \"keys\", \"keys\", \"keys\", \"kidney\", \"kill\", \"kill\", \"kill\", \"killed\", \"killed\", \"killed\", \"kirlian\", \"knew\", \"knew\", \"knew\", \"knew\", \"know\", \"know\", \"know\", \"know\", \"know\", \"know\", \"know\", \"know\", \"know\", \"koresh\", \"labor\", \"labor\", \"land\", \"land\", \"land\", \"land\", \"land\", \"laptop\", \"laserjet\", \"last\", \"last\", \"last\", \"last\", \"last\", \"last\", \"last\", \"last\", \"last\", \"last\", \"last\", \"launch\", \"launch\", \"launched\", \"launched\", \"launches\", \"league\", \"league\", \"league\", \"lebanese\", \"lebanon\", \"left\", \"left\", \"left\", \"left\", \"left\", \"left\", \"left\", \"left\", \"left\", \"left\", \"legal\", \"legal\", \"legal\", \"legislation\", \"lemieux\", \"lemieux\", \"lens\", \"lethal\", \"lethal\", \"liar\", \"library\", \"library\", \"library\", \"library\", \"life\", \"life\", \"life\", \"life\", \"life\", \"like\", \"like\", \"like\", \"like\", \"like\", \"like\", \"like\", \"like\", \"like\", \"like\", \"line\", \"line\", \"line\", \"line\", \"line\", \"line\", \"line\", \"line\", \"line\", \"line\", \"line\", \"linux\", \"list\", \"list\", \"list\", \"list\", \"list\", \"list\", \"list\", \"list\", \"list\", \"list\", \"list\", \"list\", \"listing\", \"listserv\", \"liturgy\", \"logically\", \"logos\", \"london\", \"london\", \"long\", \"long\", \"long\", \"long\", \"long\", \"long\", \"long\", \"long\", \"long\", \"long\", \"looking\", \"looking\", \"looking\", \"looking\", \"looking\", \"looking\", \"looking\", \"looking\", \"lord\", \"lost\", \"lost\", \"lost\", \"lost\", \"lost\", \"lost\", \"lost\", \"louis\", \"louis\", \"louis\", \"love\", \"love\", \"love\", \"love\", \"love\", \"love\", \"love\", \"lunar\", \"lying\", \"lyuda\", \"macx\", \"made\", \"made\", \"made\", \"made\", \"made\", \"made\", \"made\", \"made\", \"made\", \"made\", \"made\", \"mail\", \"mail\", \"mail\", \"mail\", \"mail\", \"mailer\", \"mailing\", \"mailing\", \"main\", \"main\", \"main\", \"main\", \"main\", \"main\", \"main\", \"main\", \"main\", \"main\", \"maine\", \"make\", \"make\", \"make\", \"make\", \"make\", \"make\", \"make\", \"make\", \"make\", \"male\", \"male\", \"male\", \"male\", \"mamma\", \"managing\", \"many\", \"many\", \"many\", \"many\", \"many\", \"many\", \"many\", \"many\", \"many\", \"many\", \"many\", \"marina\", \"mark\", \"mark\", \"mark\", \"mark\", \"mark\", \"mark\", \"mark\", \"marriage\", \"married\", \"mars\", \"mask\", \"mask\", \"massacre\", \"massacre\", \"massacres\", \"massacres\", \"matthew\", \"maybe\", \"maybe\", \"maybe\", \"maybe\", \"maybe\", \"mean\", \"mean\", \"mean\", \"mean\", \"mean\", \"mean\", \"mean\", \"mean\", \"mean\", \"meaning\", \"meaning\", \"meaning\", \"meaning\", \"meaning\", \"meaning\", \"meaning\", \"measurements\", \"medical\", \"medical\", \"medical\", \"medical\", \"medical\", \"medical\", \"medicine\", \"medicine\", \"mellon\", \"memory\", \"memory\", \"memory\", \"memory\", \"memory\", \"memory\", \"menu\", \"menu\", \"mercedes\", \"messenger\", \"messiah\", \"meter\", \"methanol\", \"mets\", \"miami\", \"might\", \"might\", \"might\", \"might\", \"might\", \"might\", \"might\", \"might\", \"might\", \"mile\", \"mile\", \"miles\", \"miles\", \"miles\", \"miles\", \"miles\", \"military\", \"military\", \"military\", \"military\", \"miller\", \"miller\", \"miller\", \"million\", \"million\", \"million\", \"million\", \"million\", \"million\", \"minister\", \"minister\", \"missile\", \"mission\", \"mission\", \"mission\", \"mission\", \"missions\", \"missions\", \"mixer\", \"model\", \"model\", \"model\", \"model\", \"model\", \"model\", \"modem\", \"modem\", \"modem\", \"money\", \"money\", \"money\", \"money\", \"money\", \"money\", \"mono\", \"monthly\", \"monthly\", \"montreal\", \"montreal\", \"moon\", \"moon\", \"moon\", \"morality\", \"morality\", \"morning\", \"morning\", \"morris\", \"morris\", \"motherboard\", \"motorcycle\", \"motorcycles\", \"motorola\", \"motorola\", \"motorola\", \"motto\", \"mouse\", \"much\", \"much\", \"much\", \"much\", \"much\", \"much\", \"much\", \"much\", \"much\", \"much\", \"much\", \"much\", \"mullen\", \"murphy\", \"murphy\", \"murphy\", \"muscles\", \"muslim\", \"muslim\", \"muslim\", \"muslims\", \"muslims\", \"must\", \"must\", \"must\", \"must\", \"must\", \"must\", \"must\", \"must\", \"must\", \"must\", \"must\", \"must\", \"mydisplay\", \"myers\", \"nagarno\", \"name\", \"name\", \"name\", \"name\", \"name\", \"name\", \"name\", \"name\", \"name\", \"nanao\", \"nasa\", \"nasa\", \"national\", \"national\", \"national\", \"national\", \"national\", \"national\", \"nazi\", \"nazi\", \"nazis\", \"nazis\", \"ncsl\", \"ncsl\", \"neck\", \"neck\", \"need\", \"need\", \"need\", \"need\", \"need\", \"need\", \"need\", \"need\", \"need\", \"need\", \"need\", \"need\", \"neely\", \"negotiating\", \"neural\", \"neutral\", \"neutral\", \"neutral\", \"never\", \"never\", \"never\", \"never\", \"never\", \"never\", \"never\", \"never\", \"never\", \"nick\", \"nick\", \"nick\", \"ninth\", \"nissan\", \"nist\", \"nist\", \"nolan\", \"nolan\", \"nords\", \"normal\", \"normal\", \"normal\", \"normal\", \"normal\", \"normal\", \"normal\", \"normal\", \"northeast\", \"norton\", \"norton\", \"notebook\", \"nubus\", \"null\", \"null\", \"number\", \"number\", \"number\", \"number\", \"number\", \"number\", \"number\", \"number\", \"number\", \"objective\", \"objective\", \"objective\", \"occupation\", \"occupied\", \"odometer\", \"offense\", \"offer\", \"offer\", \"offer\", \"offer\", \"offset\", \"online\", \"online\", \"openwindows\", \"orbit\", \"orbit\", \"orbital\", \"orbital\", \"orbiter\", \"organs\", \"orientation\", \"orientation\", \"orioles\", \"ottoman\", \"ottoman\", \"outlet\", \"outlets\", \"output\", \"output\", \"outs\", \"owns\", \"owns\", \"oxford\", \"ozone\", \"pack\", \"pack\", \"pack\", \"pack\", \"package\", \"package\", \"package\", \"package\", \"packaging\", \"pain\", \"pain\", \"palestine\", \"palestinians\", \"palette\", \"panther\", \"paradox\", \"paradox\", \"parish\", \"passage\", \"passages\", \"patents\", \"patients\", \"patterns\", \"patterns\", \"paul\", \"paul\", \"paul\", \"paul\", \"paul\", \"paul\", \"payload\", \"peace\", \"peace\", \"peace\", \"pens\", \"people\", \"people\", \"people\", \"people\", \"people\", \"people\", \"people\", \"people\", \"percent\", \"percent\", \"percent\", \"period\", \"period\", \"period\", \"period\", \"period\", \"period\", \"period\", \"period\", \"period\", \"period\", \"period\", \"phase\", \"phase\", \"philadelphia\", \"philadelphia\", \"philadelphia\", \"philips\", \"phillies\", \"pick\", \"pick\", \"pick\", \"pick\", \"pick\", \"pickup\", \"pipe\", \"pitched\", \"pitcher\", \"pitching\", \"pittsburgh\", \"pittsburgh\", \"pittsburgh\", \"pixmap\", \"pixmap\", \"plaintext\", \"plane\", \"plane\", \"plane\", \"planes\", \"planes\", \"planetary\", \"planetary\", \"plants\", \"plastic\", \"plastic\", \"plate\", \"play\", \"play\", \"play\", \"play\", \"play\", \"played\", \"played\", \"played\", \"played\", \"played\", \"player\", \"player\", \"player\", \"players\", \"playing\", \"playing\", \"playing\", \"playing\", \"playing\", \"playoffs\", \"plays\", \"please\", \"please\", \"please\", \"please\", \"please\", \"please\", \"please\", \"please\", \"please\", \"point\", \"point\", \"point\", \"point\", \"point\", \"point\", \"point\", \"point\", \"point\", \"point\", \"point\", \"points\", \"points\", \"points\", \"points\", \"points\", \"points\", \"points\", \"points\", \"poison\", \"poly\", \"poly\", \"polygon\", \"pope\", \"population\", \"population\", \"population\", \"population\", \"popup\", \"port\", \"port\", \"ports\", \"ports\", \"post\", \"post\", \"post\", \"post\", \"post\", \"post\", \"post\", \"post\", \"post\", \"pounds\", \"pounds\", \"power\", \"power\", \"power\", \"power\", \"power\", \"power\", \"power\", \"power\", \"power\", \"power\", \"power\", \"powerpc\", \"precision\", \"preferences\", \"premises\", \"presentations\", \"president\", \"president\", \"president\", \"price\", \"price\", \"price\", \"price\", \"price\", \"printf\", \"prison\", \"privacy\", \"private\", \"private\", \"probe\", \"probe\", \"probes\", \"problem\", \"problem\", \"problem\", \"problem\", \"problem\", \"problem\", \"problem\", \"problem\", \"problem\", \"proceedings\", \"processing\", \"processing\", \"processing\", \"professor\", \"professor\", \"prog\", \"program\", \"program\", \"program\", \"program\", \"progressive\", \"progressive\", \"projector\", \"promiscuous\", \"promo\", \"prophecy\", \"proposal\", \"proposal\", \"proprietary\", \"protect\", \"protect\", \"protect\", \"protect\", \"proud\", \"providence\", \"psalm\", \"public\", \"public\", \"public\", \"public\", \"public\", \"public\", \"published\", \"published\", \"published\", \"published\", \"published\", \"published\", \"puck\", \"punch\", \"qemm\", \"quadra\", \"quantization\", \"question\", \"question\", \"question\", \"question\", \"question\", \"question\", \"question\", \"question\", \"questioning\", \"quotes\", \"quotes\", \"quotes\", \"radar\", \"radius\", \"radius\", \"rash\", \"react\", \"read\", \"read\", \"read\", \"read\", \"read\", \"read\", \"read\", \"read\", \"read\", \"really\", \"really\", \"really\", \"really\", \"really\", \"really\", \"really\", \"really\", \"really\", \"reason\", \"reason\", \"reason\", \"reason\", \"reason\", \"reason\", \"reason\", \"reason\", \"reasoning\", \"reasoning\", \"rebuild\", \"recchi\", \"recchi\", \"recognition\", \"refugees\", \"religion\", \"religion\", \"religion\", \"remark\", \"remark\", \"repaired\", \"replies\", \"replies\", \"replies\", \"reply\", \"reply\", \"reply\", \"reply\", \"reply\", \"repost\", \"repost\", \"republicans\", \"request\", \"request\", \"request\", \"request\", \"requests\", \"requests\", \"requests\", \"resurrection\", \"retail\", \"retract\", \"revelation\", \"revenues\", \"ride\", \"riders\", \"ridiculous\", \"riding\", \"rifles\", \"right\", \"right\", \"right\", \"right\", \"right\", \"right\", \"right\", \"right\", \"right\", \"right\", \"right\", \"right\", \"right\", \"rights\", \"rights\", \"rights\", \"rights\", \"ripem\", \"road\", \"road\", \"road\", \"road\", \"road\", \"rockefeller\", \"rocket\", \"rocket\", \"rocketry\", \"rockets\", \"roenick\", \"rounds\", \"running\", \"running\", \"running\", \"running\", \"running\", \"running\", \"runs\", \"runs\", \"runs\", \"runs\", \"runs\", \"russian\", \"russian\", \"russian\", \"russian\", \"sabbath\", \"said\", \"said\", \"said\", \"said\", \"said\", \"said\", \"said\", \"sale\", \"sale\", \"sampling\", \"sandstrom\", \"satan\", \"satellite\", \"satellite\", \"satellites\", \"satellites\", \"saturn\", \"says\", \"says\", \"says\", \"says\", \"says\", \"says\", \"says\", \"science\", \"science\", \"science\", \"science\", \"score\", \"scored\", \"scorer\", \"screen\", \"screen\", \"screw\", \"script\", \"script\", \"scripture\", \"scrolls\", \"scsi\", \"sdpa\", \"seal\", \"season\", \"second\", \"second\", \"second\", \"second\", \"second\", \"second\", \"second\", \"second\", \"second\", \"second\", \"second\", \"secret\", \"secret\", \"secret\", \"secret\", \"section\", \"section\", \"section\", \"section\", \"section\", \"section\", \"section\", \"secure\", \"security\", \"security\", \"sedan\", \"seizure\", \"seizure\", \"seizures\", \"seizures\", \"sell\", \"sell\", \"sell\", \"sell\", \"sell\", \"senate\", \"senator\", \"send\", \"send\", \"send\", \"send\", \"send\", \"send\", \"send\", \"senior\", \"sense\", \"sense\", \"sense\", \"sense\", \"sense\", \"sense\", \"sensitivity\", \"sensor\", \"sentra\", \"sequence\", \"sequence\", \"sequence\", \"serdar\", \"serdar\", \"series\", \"series\", \"series\", \"series\", \"series\", \"series\", \"series\", \"series\", \"series\", \"server\", \"server\", \"sexual\", \"sexual\", \"sexual\", \"shameful\", \"shanahan\", \"shar\", \"shell\", \"shell\", \"shell\", \"shell\", \"shipping\", \"shipping\", \"ships\", \"ships\", \"shit\", \"shit\", \"shit\", \"shock\", \"shouting\", \"shuttle\", \"shuttle\", \"shuttle\", \"sick\", \"sick\", \"side\", \"side\", \"side\", \"side\", \"side\", \"side\", \"side\", \"side\", \"side\", \"siggraph\", \"signal\", \"signal\", \"signal\", \"signal\", \"simm\", \"simms\", \"singled\", \"sites\", \"sites\", \"sites\", \"sites\", \"size\", \"size\", \"size\", \"size\", \"size\", \"size\", \"size\", \"skepticism\", \"slaughter\", \"slaughter\", \"sleeve\", \"small\", \"small\", \"small\", \"small\", \"small\", \"small\", \"small\", \"small\", \"small\", \"small\", \"smiley\", \"smokeless\", \"smoking\", \"software\", \"software\", \"software\", \"solar\", \"solar\", \"soldiers\", \"soldiers\", \"someone\", \"someone\", \"someone\", \"someone\", \"someone\", \"something\", \"something\", \"something\", \"something\", \"something\", \"something\", \"something\", \"sony\", \"sony\", \"sound\", \"sound\", \"sound\", \"sound\", \"sound\", \"soundblaster\", \"source\", \"source\", \"source\", \"source\", \"source\", \"source\", \"source\", \"source\", \"source\", \"soviet\", \"soviet\", \"soviet\", \"soviet\", \"space\", \"space\", \"space\", \"spacecraft\", \"spacewalks\", \"spec\", \"spec\", \"spec\", \"specs\", \"specs\", \"specs\", \"speed\", \"speed\", \"speed\", \"speedstar\", \"spider\", \"spirit\", \"sports\", \"sports\", \"springfield\", \"sqrt\", \"stage\", \"stage\", \"stage\", \"standpoint\", \"stanley\", \"starters\", \"state\", \"state\", \"state\", \"state\", \"state\", \"state\", \"state\", \"state\", \"state\", \"state\", \"state\", \"statement\", \"statement\", \"statement\", \"statement\", \"statement\", \"statement\", \"states\", \"states\", \"states\", \"states\", \"states\", \"station\", \"station\", \"station\", \"stats\", \"stats\", \"statutes\", \"stereo\", \"stevens\", \"stewart\", \"sticker\", \"still\", \"still\", \"still\", \"still\", \"still\", \"still\", \"still\", \"still\", \"still\", \"still\", \"still\", \"still\", \"stimulus\", \"stream\", \"stream\", \"stream\", \"street\", \"street\", \"street\", \"street\", \"street\", \"street\", \"string\", \"studio\", \"subject\", \"subject\", \"subject\", \"subject\", \"subject\", \"subject\", \"subject\", \"subject\", \"subject\", \"subject\", \"subjective\", \"subjective\", \"subsequently\", \"suck\", \"sued\", \"sumgait\", \"summer\", \"summer\", \"summer\", \"summer\", \"summer\", \"sunday\", \"sunday\", \"sunday\", \"sunday\", \"sunos\", \"supra\", \"surgery\", \"surgery\", \"surgery\", \"surrender\", \"survivors\", \"sweden\", \"sweden\", \"symbol\", \"symbol\", \"sync\", \"sync\", \"syria\", \"system\", \"system\", \"system\", \"system\", \"system\", \"system\", \"system\", \"system\", \"systems\", \"systems\", \"systems\", \"systems\", \"systems\", \"systems\", \"take\", \"take\", \"take\", \"take\", \"take\", \"take\", \"take\", \"take\", \"take\", \"tamu\", \"tape\", \"tape\", \"tape\", \"tartar\", \"tartars\", \"team\", \"team\", \"team\", \"teams\", \"tear\", \"tear\", \"technology\", \"technology\", \"technology\", \"technology\", \"technology\", \"technology\", \"teel\", \"teel\", \"tell\", \"tell\", \"tell\", \"tell\", \"tell\", \"tell\", \"tell\", \"temp\", \"temperature\", \"terminals\", \"territory\", \"tesla\", \"test\", \"test\", \"test\", \"test\", \"test\", \"test\", \"test\", \"test\", \"testament\", \"thank\", \"thank\", \"thank\", \"thank\", \"thank\", \"thank\", \"thanks\", \"thanks\", \"thanks\", \"thanks\", \"thanx\", \"theist\", \"theists\", \"theory\", \"theory\", \"theory\", \"theory\", \"theory\", \"theory\", \"theory\", \"therefore\", \"therefore\", \"therefore\", \"therefore\", \"therefore\", \"therefore\", \"theta\", \"thing\", \"thing\", \"thing\", \"thing\", \"thing\", \"thing\", \"thing\", \"things\", \"things\", \"things\", \"things\", \"things\", \"things\", \"things\", \"things\", \"think\", \"think\", \"think\", \"think\", \"think\", \"think\", \"think\", \"think\", \"third\", \"third\", \"third\", \"third\", \"third\", \"third\", \"third\", \"third\", \"third\", \"third\", \"third\", \"thursday\", \"thursday\", \"thursday\", \"thursday\", \"thursday\", \"thursday\", \"tigers\", \"time\", \"time\", \"time\", \"time\", \"time\", \"time\", \"time\", \"time\", \"time\", \"time\", \"time\", \"tires\", \"tobacco\", \"tocchet\", \"todd\", \"told\", \"told\", \"told\", \"told\", \"toplevel\", \"toronto\", \"toronto\", \"toronto\", \"traded\", \"tragedy\", \"transmits\", \"triangle\", \"triangle\", \"trips\", \"troops\", \"troops\", \"true\", \"true\", \"true\", \"true\", \"true\", \"true\", \"true\", \"true\", \"true\", \"truth\", \"truth\", \"truth\", \"tseng\", \"tuning\", \"tuning\", \"turkey\", \"turkey\", \"turkish\", \"turkish\", \"turks\", \"turks\", \"twins\", \"typing\", \"typing\", \"unassisted\", \"unaware\", \"unbelievable\", \"unit\", \"unit\", \"unit\", \"unit\", \"unit\", \"unit\", \"united\", \"united\", \"united\", \"universe\", \"university\", \"university\", \"university\", \"university\", \"university\", \"university\", \"university\", \"unix\", \"unix\", \"upgrade\", \"upgrade\", \"used\", \"used\", \"used\", \"used\", \"used\", \"used\", \"used\", \"used\", \"used\", \"used\", \"used\", \"used\", \"usenet\", \"usenet\", \"usenet\", \"usenet\", \"usenet\", \"user\", \"user\", \"user\", \"user\", \"using\", \"using\", \"using\", \"using\", \"using\", \"using\", \"using\", \"using\", \"using\", \"using\", \"usually\", \"usually\", \"usually\", \"usually\", \"usually\", \"usually\", \"usually\", \"usually\", \"usually\", \"utica\", \"uuencode\", \"vancouver\", \"vancouver\", \"vancouver\", \"vancouver\", \"vancouver\", \"vent\", \"venus\", \"verbal\", \"vernon\", \"vernon\", \"version\", \"version\", \"version\", \"version\", \"version\", \"version\", \"version\", \"vesa\", \"victims\", \"video\", \"video\", \"video\", \"video\", \"visualization\", \"vitamin\", \"voltage\", \"vpic\", \"vram\", \"waco\", \"wanna\", \"want\", \"want\", \"want\", \"want\", \"want\", \"want\", \"want\", \"want\", \"warranty\", \"warsaw\", \"washington\", \"washington\", \"washington\", \"washington\", \"washington\", \"water\", \"water\", \"water\", \"water\", \"wave\", \"wave\", \"wave\", \"wave\", \"wave\", \"weapon\", \"weapon\", \"weapon\", \"weaver\", \"wednesday\", \"wednesday\", \"wednesday\", \"wednesday\", \"weiss\", \"well\", \"well\", \"well\", \"well\", \"well\", \"well\", \"well\", \"well\", \"well\", \"well\", \"well\", \"western\", \"western\", \"western\", \"western\", \"western\", \"wholesale\", \"widget\", \"widget\", \"widget\", \"width\", \"width\", \"window\", \"window\", \"window\", \"windows\", \"windows\", \"windows\", \"winning\", \"winnipeg\", \"winnipeg\", \"wins\", \"wire\", \"wire\", \"wiretap\", \"wiring\", \"wisc\", \"witnesses\", \"wolverine\", \"woman\", \"woman\", \"woman\", \"women\", \"women\", \"women\", \"women\", \"wondering\", \"wondering\", \"wondering\", \"wondering\", \"word\", \"word\", \"word\", \"word\", \"word\", \"word\", \"word\", \"words\", \"words\", \"words\", \"words\", \"words\", \"words\", \"words\", \"work\", \"work\", \"work\", \"work\", \"work\", \"work\", \"work\", \"work\", \"work\", \"working\", \"working\", \"working\", \"working\", \"working\", \"working\", \"working\", \"world\", \"world\", \"world\", \"world\", \"world\", \"world\", \"world\", \"world\", \"world\", \"world\", \"world\", \"world\", \"worse\", \"worse\", \"worse\", \"worship\", \"would\", \"would\", \"would\", \"would\", \"would\", \"would\", \"would\", \"would\", \"would\", \"would\", \"would\", \"wrist\", \"writes\", \"writes\", \"writes\", \"writes\", \"writes\", \"writes\", \"xlib\", \"xterm\", \"xtpointer\", \"xtsetarg\", \"xxxxx\", \"yamaha\", \"yankees\", \"year\", \"year\", \"year\", \"year\", \"year\", \"year\", \"year\", \"years\", \"years\", \"years\", \"years\", \"years\", \"years\", \"years\", \"years\", \"yeast\", \"zionism\", \"zionist\"]}, \"R\": 30, \"lambda.step\": 0.01, \"plot.opts\": {\"xlab\": \"PC1\", \"ylab\": \"PC2\"}, \"topic.order\": [10, 17, 8, 11, 6, 4, 3, 20, 12, 1, 13, 19, 18, 16, 7, 14, 2, 15, 5, 9]};\n",
       "\n",
       "function LDAvis_load_lib(url, callback){\n",
       "  var s = document.createElement('script');\n",
       "  s.src = url;\n",
       "  s.async = true;\n",
       "  s.onreadystatechange = s.onload = callback;\n",
       "  s.onerror = function(){console.warn(\"failed to load library \" + url);};\n",
       "  document.getElementsByTagName(\"head\")[0].appendChild(s);\n",
       "}\n",
       "\n",
       "if(typeof(LDAvis) !== \"undefined\"){\n",
       "   // already loaded: just create the visualization\n",
       "   !function(LDAvis){\n",
       "       new LDAvis(\"#\" + \"ldavis_el683471405215570446889048010451\", ldavis_el683471405215570446889048010451_data);\n",
       "   }(LDAvis);\n",
       "}else if(typeof define === \"function\" && define.amd){\n",
       "   // require.js is available: use it to load d3/LDAvis\n",
       "   require.config({paths: {d3: \"https://d3js.org/d3.v5\"}});\n",
       "   require([\"d3\"], function(d3){\n",
       "      window.d3 = d3;\n",
       "      LDAvis_load_lib(\"https://cdn.jsdelivr.net/gh/bmabey/pyLDAvis@3.4.0/pyLDAvis/js/ldavis.v3.0.0.js\", function(){\n",
       "        new LDAvis(\"#\" + \"ldavis_el683471405215570446889048010451\", ldavis_el683471405215570446889048010451_data);\n",
       "      });\n",
       "    });\n",
       "}else{\n",
       "    // require.js not available: dynamically load d3 & LDAvis\n",
       "    LDAvis_load_lib(\"https://d3js.org/d3.v5.js\", function(){\n",
       "         LDAvis_load_lib(\"https://cdn.jsdelivr.net/gh/bmabey/pyLDAvis@3.4.0/pyLDAvis/js/ldavis.v3.0.0.js\", function(){\n",
       "                 new LDAvis(\"#\" + \"ldavis_el683471405215570446889048010451\", ldavis_el683471405215570446889048010451_data);\n",
       "            })\n",
       "         });\n",
       "}\n",
       "</script>"
      ],
      "text/plain": [
       "<IPython.core.display.HTML object>"
      ]
     },
     "execution_count": 20,
     "metadata": {},
     "output_type": "execute_result"
    }
   ],
   "source": [
    "import pyLDAvis.gensim_models\n",
    "\n",
    "pyLDAvis.enable_notebook()\n",
    "vis = pyLDAvis.gensim_models.prepare(ldamodel, corpus, dictionary)\n",
    "pyLDAvis.display(vis)"
   ]
  },
  {
   "cell_type": "markdown",
   "id": "f7f9de54",
   "metadata": {},
   "source": [
    "- 좌측의 원: 각각 20개의 토픽을 나타낸다.\n",
    "- 각 원과의 거리: 각 토픽들이 서로 얼마나 다른지.\n",
    "- 만약 두개의 원이 겹친다면 유사한 토픽.\n",
    "- LDA 시각화에서는 토픽의 번호가 1부터 시작한다"
   ]
  },
  {
   "cell_type": "markdown",
   "id": "0d96528b",
   "metadata": {},
   "source": [
    "## 문서 별 토픽 분포 보기"
   ]
  },
  {
   "cell_type": "markdown",
   "id": "d3dac7fe",
   "metadata": {},
   "source": [
    "위 시각화 결과는 토픽 별 단어 분포이다.\n",
    "\n",
    "문서 별 토픽 분포를 확인해보자.\n",
    "\n",
    "각 문서의 토픽 분포는 훈련된 LDA 모델인 ldamodel[]에 전체 데이터가 정수 인코딩 된 결과를 넣은 후 확인 가능하다.\n",
    "\n",
    "상위 5개 문서에 대한 토픽을 확인해보자."
   ]
  },
  {
   "cell_type": "code",
   "execution_count": 22,
   "id": "2c9f8d9d",
   "metadata": {},
   "outputs": [
    {
     "name": "stdout",
     "output_type": "stream",
     "text": [
      "0 번째 문서의 topic 비율은 [(0, 0.29123423), (2, 0.054613512), (8, 0.09846291), (9, 0.4753993), (19, 0.06797002)]\n",
      "1 번째 문서의 topic 비율은 [(9, 0.5395148), (11, 0.28814065), (12, 0.14996399)]\n",
      "2 번째 문서의 topic 비율은 [(0, 0.3765783), (1, 0.016922697), (9, 0.57717127), (17, 0.016398111)]\n",
      "3 번째 문서의 topic 비율은 [(3, 0.19951566), (4, 0.01535701), (7, 0.16350228), (9, 0.14557658), (11, 0.060901497), (15, 0.016745824), (16, 0.3882147)]\n",
      "4 번째 문서의 topic 비율은 [(3, 0.39254716), (5, 0.092319794), (18, 0.06449187), (19, 0.42099798)]\n"
     ]
    },
    {
     "name": "stderr",
     "output_type": "stream",
     "text": [
      "/Users/jihyeonbin/opt/anaconda3/lib/python3.8/site-packages/ipykernel/ipkernel.py:287: DeprecationWarning: `should_run_async` will not call `transform_cell` automatically in the future. Please pass the result to `transformed_cell` argument and any exception that happen during thetransform in `preprocessing_exc_tuple` in IPython 7.17 and above.\n",
      "  and should_run_async(code)\n"
     ]
    }
   ],
   "source": [
    "for i, topic_list in enumerate(ldamodel[corpus]):\n",
    "    if i==5:\n",
    "        break\n",
    "    print(i,'번째 문서의 topic 비율은',topic_list)"
   ]
  },
  {
   "cell_type": "markdown",
   "id": "f62908cb",
   "metadata": {},
   "source": [
    "(숫자,확률)로 나타나는 결과는 각각 토픽 번호와 토픽이 해당 문서에서 차지하는 분포도를 나타낸다.\n",
    "\n",
    "예를 들어 (0,0.2912)는 0번 토픽이 29%의 분포를 가진다는 것을 알 수 있다.\n",
    "\n",
    "데이터프레임으로 출력해보자."
   ]
  },
  {
   "cell_type": "code",
   "execution_count": 23,
   "id": "9f00421d",
   "metadata": {},
   "outputs": [
    {
     "name": "stderr",
     "output_type": "stream",
     "text": [
      "/Users/jihyeonbin/opt/anaconda3/lib/python3.8/site-packages/ipykernel/ipkernel.py:287: DeprecationWarning: `should_run_async` will not call `transform_cell` automatically in the future. Please pass the result to `transformed_cell` argument and any exception that happen during thetransform in `preprocessing_exc_tuple` in IPython 7.17 and above.\n",
      "  and should_run_async(code)\n"
     ]
    },
    {
     "data": {
      "text/html": [
       "<div>\n",
       "<style scoped>\n",
       "    .dataframe tbody tr th:only-of-type {\n",
       "        vertical-align: middle;\n",
       "    }\n",
       "\n",
       "    .dataframe tbody tr th {\n",
       "        vertical-align: top;\n",
       "    }\n",
       "\n",
       "    .dataframe thead th {\n",
       "        text-align: right;\n",
       "    }\n",
       "</style>\n",
       "<table border=\"1\" class=\"dataframe\">\n",
       "  <thead>\n",
       "    <tr style=\"text-align: right;\">\n",
       "      <th></th>\n",
       "      <th>문서 번호</th>\n",
       "      <th>가장 비중이 높은 토픽</th>\n",
       "      <th>가장 높은 토픽의 비중</th>\n",
       "      <th>각 토픽의 비중</th>\n",
       "    </tr>\n",
       "  </thead>\n",
       "  <tbody>\n",
       "    <tr>\n",
       "      <th>0</th>\n",
       "      <td>0</td>\n",
       "      <td>9.0</td>\n",
       "      <td>0.4754</td>\n",
       "      <td>[(0, 0.29121318), (2, 0.054601748), (8, 0.0984...</td>\n",
       "    </tr>\n",
       "    <tr>\n",
       "      <th>1</th>\n",
       "      <td>1</td>\n",
       "      <td>9.0</td>\n",
       "      <td>0.5396</td>\n",
       "      <td>[(9, 0.53955877), (11, 0.2880958), (12, 0.1499...</td>\n",
       "    </tr>\n",
       "    <tr>\n",
       "      <th>2</th>\n",
       "      <td>2</td>\n",
       "      <td>9.0</td>\n",
       "      <td>0.5772</td>\n",
       "      <td>[(0, 0.37658405), (1, 0.016922703), (9, 0.5771...</td>\n",
       "    </tr>\n",
       "    <tr>\n",
       "      <th>3</th>\n",
       "      <td>3</td>\n",
       "      <td>16.0</td>\n",
       "      <td>0.3883</td>\n",
       "      <td>[(3, 0.19969477), (4, 0.015356995), (7, 0.1640...</td>\n",
       "    </tr>\n",
       "    <tr>\n",
       "      <th>4</th>\n",
       "      <td>4</td>\n",
       "      <td>19.0</td>\n",
       "      <td>0.4209</td>\n",
       "      <td>[(3, 0.39258894), (5, 0.092326894), (18, 0.064...</td>\n",
       "    </tr>\n",
       "    <tr>\n",
       "      <th>5</th>\n",
       "      <td>5</td>\n",
       "      <td>2.0</td>\n",
       "      <td>0.6392</td>\n",
       "      <td>[(2, 0.6392157), (9, 0.31985402)]</td>\n",
       "    </tr>\n",
       "    <tr>\n",
       "      <th>6</th>\n",
       "      <td>6</td>\n",
       "      <td>7.0</td>\n",
       "      <td>0.5980</td>\n",
       "      <td>[(5, 0.10054704), (7, 0.59802383), (11, 0.0342...</td>\n",
       "    </tr>\n",
       "    <tr>\n",
       "      <th>7</th>\n",
       "      <td>7</td>\n",
       "      <td>9.0</td>\n",
       "      <td>0.4879</td>\n",
       "      <td>[(0, 0.1006638), (3, 0.3574871), (9, 0.4878755...</td>\n",
       "    </tr>\n",
       "    <tr>\n",
       "      <th>8</th>\n",
       "      <td>8</td>\n",
       "      <td>3.0</td>\n",
       "      <td>0.2546</td>\n",
       "      <td>[(3, 0.25455418), (7, 0.24977902), (9, 0.22558...</td>\n",
       "    </tr>\n",
       "    <tr>\n",
       "      <th>9</th>\n",
       "      <td>9</td>\n",
       "      <td>7.0</td>\n",
       "      <td>0.2991</td>\n",
       "      <td>[(0, 0.030273702), (3, 0.26224503), (7, 0.2991...</td>\n",
       "    </tr>\n",
       "  </tbody>\n",
       "</table>\n",
       "</div>"
      ],
      "text/plain": [
       "   문서 번호  가장 비중이 높은 토픽  가장 높은 토픽의 비중  \\\n",
       "0      0           9.0        0.4754   \n",
       "1      1           9.0        0.5396   \n",
       "2      2           9.0        0.5772   \n",
       "3      3          16.0        0.3883   \n",
       "4      4          19.0        0.4209   \n",
       "5      5           2.0        0.6392   \n",
       "6      6           7.0        0.5980   \n",
       "7      7           9.0        0.4879   \n",
       "8      8           3.0        0.2546   \n",
       "9      9           7.0        0.2991   \n",
       "\n",
       "                                            각 토픽의 비중  \n",
       "0  [(0, 0.29121318), (2, 0.054601748), (8, 0.0984...  \n",
       "1  [(9, 0.53955877), (11, 0.2880958), (12, 0.1499...  \n",
       "2  [(0, 0.37658405), (1, 0.016922703), (9, 0.5771...  \n",
       "3  [(3, 0.19969477), (4, 0.015356995), (7, 0.1640...  \n",
       "4  [(3, 0.39258894), (5, 0.092326894), (18, 0.064...  \n",
       "5                  [(2, 0.6392157), (9, 0.31985402)]  \n",
       "6  [(5, 0.10054704), (7, 0.59802383), (11, 0.0342...  \n",
       "7  [(0, 0.1006638), (3, 0.3574871), (9, 0.4878755...  \n",
       "8  [(3, 0.25455418), (7, 0.24977902), (9, 0.22558...  \n",
       "9  [(0, 0.030273702), (3, 0.26224503), (7, 0.2991...  "
      ]
     },
     "execution_count": 23,
     "metadata": {},
     "output_type": "execute_result"
    }
   ],
   "source": [
    "def make_topictable_per_doc(ldamodel, corpus):\n",
    "    topic_table = pd.DataFrame()\n",
    "\n",
    "    # 몇 번째 문서인지를 의미하는 문서 번호와 해당 문서의 토픽 비중을 한 줄씩 꺼내온다.\n",
    "    for i, topic_list in enumerate(ldamodel[corpus]):\n",
    "        doc = topic_list[0] if ldamodel.per_word_topics else topic_list            \n",
    "        doc = sorted(doc, key=lambda x: (x[1]), reverse=True)\n",
    "        # 각 문서에 대해서 비중이 높은 토픽순으로 토픽을 정렬한다.\n",
    "        # EX) 정렬 전 0번 문서 : (2번 토픽, 48.5%), (8번 토픽, 25%), (10번 토픽, 5%), (12번 토픽, 21.5%), \n",
    "        # Ex) 정렬 후 0번 문서 : (2번 토픽, 48.5%), (8번 토픽, 25%), (12번 토픽, 21.5%), (10번 토픽, 5%)\n",
    "        # 48 > 25 > 21 > 5 순으로 정렬이 된 것.\n",
    "\n",
    "        # 모든 문서에 대해서 각각 아래를 수행\n",
    "        for j, (topic_num, prop_topic) in enumerate(doc): #  몇 번 토픽인지와 비중을 나눠서 저장한다.\n",
    "            if j == 0:  # 정렬을 한 상태이므로 가장 앞에 있는 것이 가장 비중이 높은 토픽\n",
    "                topic_table = topic_table.append(pd.Series([int(topic_num), round(prop_topic,4), topic_list]), ignore_index=True)\n",
    "                # 가장 비중이 높은 토픽과, 가장 비중이 높은 토픽의 비중과, 전체 토픽의 비중을 저장한다.\n",
    "            else:\n",
    "                break\n",
    "    return(topic_table)\n",
    "\n",
    "\n",
    "topictable = make_topictable_per_doc(ldamodel, corpus)\n",
    "topictable = topictable.reset_index() # 문서 번호을 의미하는 열(column)로 사용하기 위해서 인덱스 열을 하나 더 만든다.\n",
    "topictable.columns = ['문서 번호', '가장 비중이 높은 토픽', '가장 높은 토픽의 비중', '각 토픽의 비중']\n",
    "topictable[:10]"
   ]
  },
  {
   "cell_type": "markdown",
   "id": "1db7c5df",
   "metadata": {},
   "source": [
    "# 실습 02: 사이킷런을 활용한 실습"
   ]
  },
  {
   "cell_type": "markdown",
   "id": "adb29065",
   "metadata": {},
   "source": [
    "## 데이터 생성\n",
    "15년간 발생된 뉴스 기사 제목을 모아놓은 영어 데이터 다운받아보자.\n",
    "\n",
    "https://www.kaggle.com/datasets/therohk/million-headlines?resource=download"
   ]
  },
  {
   "cell_type": "code",
   "execution_count": 26,
   "id": "df0336ca",
   "metadata": {},
   "outputs": [
    {
     "name": "stderr",
     "output_type": "stream",
     "text": [
      "/Users/jihyeonbin/opt/anaconda3/lib/python3.8/site-packages/ipykernel/ipkernel.py:287: DeprecationWarning: `should_run_async` will not call `transform_cell` automatically in the future. Please pass the result to `transformed_cell` argument and any exception that happen during thetransform in `preprocessing_exc_tuple` in IPython 7.17 and above.\n",
      "  and should_run_async(code)\n"
     ]
    },
    {
     "name": "stdout",
     "output_type": "stream",
     "text": [
      "뉴스 제목 개수 : 1244184\n"
     ]
    }
   ],
   "source": [
    "import pandas as pd\n",
    "import urllib.request\n",
    "import nltk\n",
    "from nltk.corpus import stopwords\n",
    "from nltk.stem import WordNetLemmatizer\n",
    "from sklearn.feature_extraction.text import TfidfVectorizer\n",
    "from sklearn.decomposition import LatentDirichletAllocation\n",
    "\n",
    "\n",
    "data = pd.read_csv('abcnews-date-text.csv', error_bad_lines=False)\n",
    "print('뉴스 제목 개수 :',len(data))"
   ]
  },
  {
   "cell_type": "code",
   "execution_count": 27,
   "id": "eadea299",
   "metadata": {},
   "outputs": [
    {
     "name": "stdout",
     "output_type": "stream",
     "text": [
      "   publish_date                                      headline_text\n",
      "0      20030219  aba decides against community broadcasting lic...\n",
      "1      20030219     act fire witnesses must be aware of defamation\n",
      "2      20030219     a g calls for infrastructure protection summit\n",
      "3      20030219           air nz staff in aust strike for pay rise\n",
      "4      20030219      air nz strike to affect australian travellers\n"
     ]
    },
    {
     "name": "stderr",
     "output_type": "stream",
     "text": [
      "/Users/jihyeonbin/opt/anaconda3/lib/python3.8/site-packages/ipykernel/ipkernel.py:287: DeprecationWarning: `should_run_async` will not call `transform_cell` automatically in the future. Please pass the result to `transformed_cell` argument and any exception that happen during thetransform in `preprocessing_exc_tuple` in IPython 7.17 and above.\n",
      "  and should_run_async(code)\n"
     ]
    }
   ],
   "source": [
    "print(data.head(5))"
   ]
  },
  {
   "cell_type": "markdown",
   "id": "68e620ed",
   "metadata": {},
   "source": [
    "- publish_date: 뉴스가 나온 날짜\n",
    "- headline_text: 뉴스 기사 제목"
   ]
  },
  {
   "cell_type": "code",
   "execution_count": 28,
   "id": "10a93d57",
   "metadata": {},
   "outputs": [
    {
     "name": "stderr",
     "output_type": "stream",
     "text": [
      "/Users/jihyeonbin/opt/anaconda3/lib/python3.8/site-packages/ipykernel/ipkernel.py:287: DeprecationWarning: `should_run_async` will not call `transform_cell` automatically in the future. Please pass the result to `transformed_cell` argument and any exception that happen during thetransform in `preprocessing_exc_tuple` in IPython 7.17 and above.\n",
      "  and should_run_async(code)\n"
     ]
    },
    {
     "data": {
      "text/html": [
       "<div>\n",
       "<style scoped>\n",
       "    .dataframe tbody tr th:only-of-type {\n",
       "        vertical-align: middle;\n",
       "    }\n",
       "\n",
       "    .dataframe tbody tr th {\n",
       "        vertical-align: top;\n",
       "    }\n",
       "\n",
       "    .dataframe thead th {\n",
       "        text-align: right;\n",
       "    }\n",
       "</style>\n",
       "<table border=\"1\" class=\"dataframe\">\n",
       "  <thead>\n",
       "    <tr style=\"text-align: right;\">\n",
       "      <th></th>\n",
       "      <th>headline_text</th>\n",
       "    </tr>\n",
       "  </thead>\n",
       "  <tbody>\n",
       "    <tr>\n",
       "      <th>0</th>\n",
       "      <td>aba decides against community broadcasting lic...</td>\n",
       "    </tr>\n",
       "    <tr>\n",
       "      <th>1</th>\n",
       "      <td>act fire witnesses must be aware of defamation</td>\n",
       "    </tr>\n",
       "    <tr>\n",
       "      <th>2</th>\n",
       "      <td>a g calls for infrastructure protection summit</td>\n",
       "    </tr>\n",
       "    <tr>\n",
       "      <th>3</th>\n",
       "      <td>air nz staff in aust strike for pay rise</td>\n",
       "    </tr>\n",
       "    <tr>\n",
       "      <th>4</th>\n",
       "      <td>air nz strike to affect australian travellers</td>\n",
       "    </tr>\n",
       "  </tbody>\n",
       "</table>\n",
       "</div>"
      ],
      "text/plain": [
       "                                       headline_text\n",
       "0  aba decides against community broadcasting lic...\n",
       "1     act fire witnesses must be aware of defamation\n",
       "2     a g calls for infrastructure protection summit\n",
       "3           air nz staff in aust strike for pay rise\n",
       "4      air nz strike to affect australian travellers"
      ]
     },
     "execution_count": 28,
     "metadata": {},
     "output_type": "execute_result"
    }
   ],
   "source": [
    "text = data[['headline_text']]\n",
    "text.head(5)"
   ]
  },
  {
   "cell_type": "markdown",
   "id": "b7008a1e",
   "metadata": {},
   "source": [
    "## 텍스트 전처리\n",
    "\n",
    "불용어 제거, 표제어 추출, 길이가 짧은 단어 제거"
   ]
  },
  {
   "cell_type": "code",
   "execution_count": 29,
   "id": "12160b51",
   "metadata": {},
   "outputs": [
    {
     "name": "stderr",
     "output_type": "stream",
     "text": [
      "/Users/jihyeonbin/opt/anaconda3/lib/python3.8/site-packages/ipykernel/ipkernel.py:287: DeprecationWarning: `should_run_async` will not call `transform_cell` automatically in the future. Please pass the result to `transformed_cell` argument and any exception that happen during thetransform in `preprocessing_exc_tuple` in IPython 7.17 and above.\n",
      "  and should_run_async(code)\n"
     ]
    }
   ],
   "source": [
    "#단어 토큰화\n",
    "text['headline_text'] = text.apply(lambda row: nltk.word_tokenize(row['headline_text']), axis=1)"
   ]
  },
  {
   "cell_type": "code",
   "execution_count": 30,
   "id": "5ffe3228",
   "metadata": {},
   "outputs": [
    {
     "name": "stdout",
     "output_type": "stream",
     "text": [
      "                                       headline_text\n",
      "0  [aba, decides, against, community, broadcastin...\n",
      "1  [act, fire, witnesses, must, be, aware, of, de...\n",
      "2  [a, g, calls, for, infrastructure, protection,...\n",
      "3  [air, nz, staff, in, aust, strike, for, pay, r...\n",
      "4  [air, nz, strike, to, affect, australian, trav...\n"
     ]
    },
    {
     "name": "stderr",
     "output_type": "stream",
     "text": [
      "/Users/jihyeonbin/opt/anaconda3/lib/python3.8/site-packages/ipykernel/ipkernel.py:287: DeprecationWarning: `should_run_async` will not call `transform_cell` automatically in the future. Please pass the result to `transformed_cell` argument and any exception that happen during thetransform in `preprocessing_exc_tuple` in IPython 7.17 and above.\n",
      "  and should_run_async(code)\n"
     ]
    }
   ],
   "source": [
    "print(text.head(5))"
   ]
  },
  {
   "cell_type": "code",
   "execution_count": 31,
   "id": "1555ac37",
   "metadata": {},
   "outputs": [
    {
     "name": "stderr",
     "output_type": "stream",
     "text": [
      "/Users/jihyeonbin/opt/anaconda3/lib/python3.8/site-packages/ipykernel/ipkernel.py:287: DeprecationWarning: `should_run_async` will not call `transform_cell` automatically in the future. Please pass the result to `transformed_cell` argument and any exception that happen during thetransform in `preprocessing_exc_tuple` in IPython 7.17 and above.\n",
      "  and should_run_async(code)\n"
     ]
    }
   ],
   "source": [
    "#불용어 제거\n",
    "stop_words = stopwords.words('english')\n",
    "text['headline_text'] = text['headline_text'].apply(lambda x: [word for word in x if word not in (stop_words)])"
   ]
  },
  {
   "cell_type": "code",
   "execution_count": 33,
   "id": "9093638c",
   "metadata": {},
   "outputs": [
    {
     "name": "stderr",
     "output_type": "stream",
     "text": [
      "/Users/jihyeonbin/opt/anaconda3/lib/python3.8/site-packages/ipykernel/ipkernel.py:287: DeprecationWarning: `should_run_async` will not call `transform_cell` automatically in the future. Please pass the result to `transformed_cell` argument and any exception that happen during thetransform in `preprocessing_exc_tuple` in IPython 7.17 and above.\n",
      "  and should_run_async(code)\n",
      "[nltk_data] Downloading package wordnet to\n",
      "[nltk_data]     /Users/jihyeonbin/nltk_data...\n"
     ]
    },
    {
     "name": "stdout",
     "output_type": "stream",
     "text": [
      "                                       headline_text\n",
      "0       [aba, decide, community, broadcast, licence]\n",
      "1      [act, fire, witness, must, aware, defamation]\n",
      "2      [g, call, infrastructure, protection, summit]\n",
      "3          [air, nz, staff, aust, strike, pay, rise]\n",
      "4  [air, nz, strike, affect, australian, travellers]\n"
     ]
    }
   ],
   "source": [
    "#표제어 추출: 3인칭 단수를 1인칭으로 바꾸고 과거 현재형 동사를 현재형으로 바꾼다.\n",
    "\n",
    "import nltk\n",
    "nltk.download('wordnet')\n",
    "    \n",
    "    \n",
    "text['headline_text'] = text['headline_text'].apply(lambda x: [WordNetLemmatizer().lemmatize(word, pos='v') for word in x])\n",
    "print(text.head(5))"
   ]
  },
  {
   "cell_type": "code",
   "execution_count": 34,
   "id": "ec98dce0",
   "metadata": {},
   "outputs": [
    {
     "name": "stderr",
     "output_type": "stream",
     "text": [
      "/Users/jihyeonbin/opt/anaconda3/lib/python3.8/site-packages/ipykernel/ipkernel.py:287: DeprecationWarning: `should_run_async` will not call `transform_cell` automatically in the future. Please pass the result to `transformed_cell` argument and any exception that happen during thetransform in `preprocessing_exc_tuple` in IPython 7.17 and above.\n",
      "  and should_run_async(code)\n",
      "[nltk_data] Downloading package stopwords to\n",
      "[nltk_data]     /Users/jihyeonbin/nltk_data...\n",
      "[nltk_data]   Package stopwords is already up-to-date!\n"
     ]
    },
    {
     "name": "stdout",
     "output_type": "stream",
     "text": [
      "0       [decide, community, broadcast, licence]\n",
      "1      [fire, witness, must, aware, defamation]\n",
      "2    [call, infrastructure, protection, summit]\n",
      "3                   [staff, aust, strike, rise]\n",
      "4      [strike, affect, australian, travellers]\n",
      "Name: headline_text, dtype: object\n"
     ]
    }
   ],
   "source": [
    "#길이가 3 이하인 단어 제거\n",
    "import nltk\n",
    "nltk.download('stopwords')\n",
    "\n",
    "tokenized_doc = text['headline_text'].apply(lambda x: [word for word in x if len(word) > 3])\n",
    "print(tokenized_doc[:5])"
   ]
  },
  {
   "cell_type": "markdown",
   "id": "cda573be",
   "metadata": {},
   "source": [
    "## TF-IDF 행렬 만들기"
   ]
  },
  {
   "cell_type": "code",
   "execution_count": 35,
   "id": "7b859d92",
   "metadata": {},
   "outputs": [
    {
     "name": "stderr",
     "output_type": "stream",
     "text": [
      "/Users/jihyeonbin/opt/anaconda3/lib/python3.8/site-packages/ipykernel/ipkernel.py:287: DeprecationWarning: `should_run_async` will not call `transform_cell` automatically in the future. Please pass the result to `transformed_cell` argument and any exception that happen during thetransform in `preprocessing_exc_tuple` in IPython 7.17 and above.\n",
      "  and should_run_async(code)\n"
     ]
    }
   ],
   "source": [
    "# 역토큰화 (토큰화 작업을 되돌림)\n",
    "detokenized_doc = []\n",
    "for i in range(len(text)):\n",
    "    t = ' '.join(tokenized_doc[i])\n",
    "    detokenized_doc.append(t)\n",
    "\n",
    "# 다시 text['headline_text']에 재저장\n",
    "text['headline_text'] = detokenized_doc"
   ]
  },
  {
   "cell_type": "code",
   "execution_count": 36,
   "id": "6f10bdd8",
   "metadata": {},
   "outputs": [
    {
     "name": "stderr",
     "output_type": "stream",
     "text": [
      "/Users/jihyeonbin/opt/anaconda3/lib/python3.8/site-packages/ipykernel/ipkernel.py:287: DeprecationWarning: `should_run_async` will not call `transform_cell` automatically in the future. Please pass the result to `transformed_cell` argument and any exception that happen during thetransform in `preprocessing_exc_tuple` in IPython 7.17 and above.\n",
      "  and should_run_async(code)\n"
     ]
    },
    {
     "name": "stdout",
     "output_type": "stream",
     "text": [
      "TF-IDF 행렬의 크기 : (1244184, 1000)\n"
     ]
    }
   ],
   "source": [
    "#1000개로 TF-IDF 행렬 만들어보자\n",
    "# 상위 1,000개의 단어를 보존 \n",
    "vectorizer = TfidfVectorizer(stop_words='english', max_features= 1000)\n",
    "X = vectorizer.fit_transform(text['headline_text'])\n",
    "\n",
    "# TF-IDF 행렬의 크기 확인\n",
    "print('TF-IDF 행렬의 크기 :',X.shape)"
   ]
  },
  {
   "cell_type": "markdown",
   "id": "9db20ddb",
   "metadata": {},
   "source": [
    "## 토픽 모델링"
   ]
  },
  {
   "cell_type": "code",
   "execution_count": 37,
   "id": "55372a58",
   "metadata": {},
   "outputs": [
    {
     "name": "stderr",
     "output_type": "stream",
     "text": [
      "/Users/jihyeonbin/opt/anaconda3/lib/python3.8/site-packages/ipykernel/ipkernel.py:287: DeprecationWarning: `should_run_async` will not call `transform_cell` automatically in the future. Please pass the result to `transformed_cell` argument and any exception that happen during thetransform in `preprocessing_exc_tuple` in IPython 7.17 and above.\n",
      "  and should_run_async(code)\n"
     ]
    }
   ],
   "source": [
    "lda_model = LatentDirichletAllocation(n_components=10,learning_method='online',random_state=777,max_iter=1)"
   ]
  },
  {
   "cell_type": "code",
   "execution_count": 38,
   "id": "1f009684",
   "metadata": {},
   "outputs": [
    {
     "name": "stderr",
     "output_type": "stream",
     "text": [
      "/Users/jihyeonbin/opt/anaconda3/lib/python3.8/site-packages/ipykernel/ipkernel.py:287: DeprecationWarning: `should_run_async` will not call `transform_cell` automatically in the future. Please pass the result to `transformed_cell` argument and any exception that happen during thetransform in `preprocessing_exc_tuple` in IPython 7.17 and above.\n",
      "  and should_run_async(code)\n"
     ]
    }
   ],
   "source": [
    "lda_top = lda_model.fit_transform(X)"
   ]
  },
  {
   "cell_type": "code",
   "execution_count": 39,
   "id": "57b7fe77",
   "metadata": {},
   "outputs": [
    {
     "name": "stdout",
     "output_type": "stream",
     "text": [
      "Topic 1: [('australia', 20556.0), ('sydney', 11219.29), ('melbourne', 8765.73), ('kill', 6646.06), ('court', 6004.12)]\n",
      "Topic 2: [('coronavirus', 41719.62), ('covid', 28960.68), ('government', 9793.89), ('change', 7576.98), ('home', 7457.74)]\n",
      "Topic 3: [('south', 7102.98), ('death', 6825.39), ('speak', 5402.31), ('care', 4521.48), ('interview', 4058.71)]\n",
      "Topic 4: [('donald', 8536.49), ('restrictions', 6456.4), ('world', 6320.61), ('state', 6087.5), ('water', 4219.67)]\n",
      "Topic 5: [('vaccine', 8040.87), ('open', 6915.17), ('coast', 5990.55), ('warn', 5472.84), ('morrison', 5247.93)]\n",
      "Topic 6: [('trump', 14878.13), ('charge', 7717.96), ('health', 6836.95), ('murder', 6663.45), ('house', 6624.13)]\n",
      "Topic 7: [('australian', 13885.88), ('queensland', 13373.53), ('record', 9037.88), ('test', 7713.9), ('help', 5922.05)]\n",
      "Topic 8: [('case', 13146.83), ('police', 11143.1), ('live', 7528.03), ('border', 6855.54), ('tasmania', 5664.64)]\n",
      "Topic 9: [('victoria', 11777.5), ('school', 6009.78), ('attack', 5503.39), ('national', 4672.53), ('concern', 4112.28)]\n",
      "Topic 10: [('election', 8942.32), ('news', 8568.78), ('china', 8452.56), ('people', 6645.62), ('make', 6482.1)]\n"
     ]
    },
    {
     "name": "stderr",
     "output_type": "stream",
     "text": [
      "/Users/jihyeonbin/opt/anaconda3/lib/python3.8/site-packages/ipykernel/ipkernel.py:287: DeprecationWarning: `should_run_async` will not call `transform_cell` automatically in the future. Please pass the result to `transformed_cell` argument and any exception that happen during thetransform in `preprocessing_exc_tuple` in IPython 7.17 and above.\n",
      "  and should_run_async(code)\n"
     ]
    }
   ],
   "source": [
    "# 단어 집합. 1,000개의 단어가 저장됨.\n",
    "terms = vectorizer.get_feature_names()\n",
    "\n",
    "def get_topics(components, feature_names, n=5):\n",
    "    for idx, topic in enumerate(components):\n",
    "        print(\"Topic %d:\" % (idx+1), [(feature_names[i], topic[i].round(2)) for i in topic.argsort()[:-n - 1:-1]])\n",
    "\n",
    "get_topics(lda_model.components_,terms)"
   ]
  },
  {
   "cell_type": "markdown",
   "id": "69bf4f73",
   "metadata": {},
   "source": [
    "아래 코드는 별개이다.\n",
    "\n",
    "Sklearn LDA는 fit과 transform 함수를 제공하는데 fit 호출까지는 토픽별 단어들의 분포를 반환해주고 transform까지 하면 문서별 토픽들의 분포까지 반환해준다.\n",
    "\n",
    "아래 코드에서 토픽별 단어들의 분포까지만 반환하고 우리에게 어떻게 시각화 되는지 지켜보자"
   ]
  },
  {
   "cell_type": "code",
   "execution_count": 41,
   "id": "a027d56e",
   "metadata": {},
   "outputs": [
    {
     "name": "stderr",
     "output_type": "stream",
     "text": [
      "/Users/jihyeonbin/opt/anaconda3/lib/python3.8/site-packages/ipykernel/ipkernel.py:287: DeprecationWarning: `should_run_async` will not call `transform_cell` automatically in the future. Please pass the result to `transformed_cell` argument and any exception that happen during thetransform in `preprocessing_exc_tuple` in IPython 7.17 and above.\n",
      "  and should_run_async(code)\n"
     ]
    },
    {
     "name": "stdout",
     "output_type": "stream",
     "text": [
      "(10, 1000)\n",
      "[[1.00005784e-01 1.00000401e-01 1.00000837e-01 ... 1.00008966e-01\n",
      "  1.00003001e-01 1.00003989e-01]\n",
      " [1.00001271e-01 1.00000170e-01 1.00000702e-01 ... 1.00009027e-01\n",
      "  1.00004822e-01 6.11677308e+02]\n",
      " [1.00001893e-01 1.00000747e-01 5.29631843e+02 ... 1.00004665e-01\n",
      "  1.00003828e-01 1.00003730e-01]\n",
      " ...\n",
      " [1.00006258e-01 1.00000570e-01 1.00000388e-01 ... 1.00006276e-01\n",
      "  1.00001666e-01 1.00008566e-01]\n",
      " [1.00000280e-01 1.00000135e-01 1.00001609e-01 ... 1.00003391e-01\n",
      "  1.00001003e-01 1.00006488e-01]\n",
      " [1.03272231e+02 1.00000349e-01 1.00001881e-01 ... 1.00005116e-01\n",
      "  1.00004106e-01 1.00006425e-01]]\n"
     ]
    }
   ],
   "source": [
    "lda_model = LatentDirichletAllocation(n_components=10,learning_method='online',random_state=777,max_iter=1)\n",
    "\n",
    "lda_model.fit(X) #X는 행렬\n",
    "\n",
    "print(lda_model.components_.shape)\n",
    "print(lda_model.components_)"
   ]
  },
  {
   "cell_type": "markdown",
   "id": "6039c45e",
   "metadata": {},
   "source": [
    "10개의 토픽, 1000개의 feature 나타난다.\n",
    "\n",
    "토픽별로 어떤 단어들이 분포하는지 확인해보자"
   ]
  },
  {
   "cell_type": "code",
   "execution_count": 42,
   "id": "3f9c170e",
   "metadata": {},
   "outputs": [
    {
     "name": "stderr",
     "output_type": "stream",
     "text": [
      "/Users/jihyeonbin/opt/anaconda3/lib/python3.8/site-packages/ipykernel/ipkernel.py:287: DeprecationWarning: `should_run_async` will not call `transform_cell` automatically in the future. Please pass the result to `transformed_cell` argument and any exception that happen during thetransform in `preprocessing_exc_tuple` in IPython 7.17 and above.\n",
      "  and should_run_async(code)\n"
     ]
    }
   ],
   "source": [
    "def display_topic_words(lda_model,feature_names,num_top_words):\n",
    "    for topic_idx, topic in enumerate(lda_model.components_):\n",
    "        print('\\nTopic #', topic_idx +1)\n",
    "        \n",
    "        #Topic별 1000개의 feaure중 높은 값 순으로 정렬 후 index 반환\n",
    "        #argsort는 디폴트가 오름차순이라 내림차순으로 변경\n",
    "        \n",
    "        topic_word_idx = topic.argsort()[::-1]\n",
    "        top_idx = topic_word_idx[:num_top_words]\n",
    "        \n",
    "        #CountVectorizer 함수 할당시킨 객체에 get_feature_names()로 벡터화시킨 feautres 확인 가능\n",
    "        #이 벡터화된 features는 숫자-알파벳 순으로 정렬\n",
    "        # 문자열.join 함수로 특정 문자열 사이에 끼고 합쳐주자\n",
    "        \n",
    "        feautre_concat = '+'.join([str(feature_names[i]) + '*' + str(round(topic[i],1)) for i in top_idx])\n",
    "        print(feautre_concat)"
   ]
  },
  {
   "cell_type": "code",
   "execution_count": null,
   "id": "0f374bff",
   "metadata": {},
   "outputs": [],
   "source": [
    "count_vect = CountVectorizer(max_df = 0.95, max_features = )"
   ]
  },
  {
   "cell_type": "code",
   "execution_count": 48,
   "id": "f2e143a7",
   "metadata": {},
   "outputs": [
    {
     "name": "stderr",
     "output_type": "stream",
     "text": [
      "/Users/jihyeonbin/opt/anaconda3/lib/python3.8/site-packages/ipykernel/ipkernel.py:287: DeprecationWarning: `should_run_async` will not call `transform_cell` automatically in the future. Please pass the result to `transformed_cell` argument and any exception that happen during thetransform in `preprocessing_exc_tuple` in IPython 7.17 and above.\n",
      "  and should_run_async(code)\n"
     ]
    },
    {
     "ename": "TypeError",
     "evalue": "get_feature_names() missing 1 required positional argument: 'self'",
     "output_type": "error",
     "traceback": [
      "\u001b[0;31m---------------------------------------------------------------------------\u001b[0m",
      "\u001b[0;31mTypeError\u001b[0m                                 Traceback (most recent call last)",
      "\u001b[0;32m<ipython-input-48-acf29e2887b1>\u001b[0m in \u001b[0;36m<module>\u001b[0;34m\u001b[0m\n\u001b[1;32m      1\u001b[0m \u001b[0;32mfrom\u001b[0m \u001b[0msklearn\u001b[0m\u001b[0;34m.\u001b[0m\u001b[0mfeature_extraction\u001b[0m\u001b[0;34m.\u001b[0m\u001b[0mtext\u001b[0m \u001b[0;32mimport\u001b[0m \u001b[0mCountVectorizer\u001b[0m\u001b[0;34m\u001b[0m\u001b[0;34m\u001b[0m\u001b[0m\n\u001b[1;32m      2\u001b[0m \u001b[0;34m\u001b[0m\u001b[0m\n\u001b[0;32m----> 3\u001b[0;31m \u001b[0mfeautre_names\u001b[0m \u001b[0;34m=\u001b[0m \u001b[0mcount_vect\u001b[0m\u001b[0;34m.\u001b[0m\u001b[0mget_feature_names\u001b[0m\u001b[0;34m(\u001b[0m\u001b[0;34m)\u001b[0m\u001b[0;34m\u001b[0m\u001b[0;34m\u001b[0m\u001b[0m\n\u001b[0m\u001b[1;32m      4\u001b[0m \u001b[0mdisplay_topic_words\u001b[0m\u001b[0;34m(\u001b[0m\u001b[0mlda_model\u001b[0m\u001b[0;34m,\u001b[0m \u001b[0mfeature_names\u001b[0m\u001b[0;34m,\u001b[0m \u001b[0;36m15\u001b[0m\u001b[0;34m)\u001b[0m\u001b[0;34m\u001b[0m\u001b[0;34m\u001b[0m\u001b[0m\n",
      "\u001b[0;32m~/opt/anaconda3/lib/python3.8/site-packages/sklearn/utils/deprecation.py\u001b[0m in \u001b[0;36mwrapped\u001b[0;34m(*args, **kwargs)\u001b[0m\n\u001b[1;32m     86\u001b[0m         \u001b[0;32mdef\u001b[0m \u001b[0mwrapped\u001b[0m\u001b[0;34m(\u001b[0m\u001b[0;34m*\u001b[0m\u001b[0margs\u001b[0m\u001b[0;34m,\u001b[0m \u001b[0;34m**\u001b[0m\u001b[0mkwargs\u001b[0m\u001b[0;34m)\u001b[0m\u001b[0;34m:\u001b[0m\u001b[0;34m\u001b[0m\u001b[0;34m\u001b[0m\u001b[0m\n\u001b[1;32m     87\u001b[0m             \u001b[0mwarnings\u001b[0m\u001b[0;34m.\u001b[0m\u001b[0mwarn\u001b[0m\u001b[0;34m(\u001b[0m\u001b[0mmsg\u001b[0m\u001b[0;34m,\u001b[0m \u001b[0mcategory\u001b[0m\u001b[0;34m=\u001b[0m\u001b[0mFutureWarning\u001b[0m\u001b[0;34m)\u001b[0m\u001b[0;34m\u001b[0m\u001b[0;34m\u001b[0m\u001b[0m\n\u001b[0;32m---> 88\u001b[0;31m             \u001b[0;32mreturn\u001b[0m \u001b[0mfun\u001b[0m\u001b[0;34m(\u001b[0m\u001b[0;34m*\u001b[0m\u001b[0margs\u001b[0m\u001b[0;34m,\u001b[0m \u001b[0;34m**\u001b[0m\u001b[0mkwargs\u001b[0m\u001b[0;34m)\u001b[0m\u001b[0;34m\u001b[0m\u001b[0;34m\u001b[0m\u001b[0m\n\u001b[0m\u001b[1;32m     89\u001b[0m \u001b[0;34m\u001b[0m\u001b[0m\n\u001b[1;32m     90\u001b[0m         \u001b[0mwrapped\u001b[0m\u001b[0;34m.\u001b[0m\u001b[0m__doc__\u001b[0m \u001b[0;34m=\u001b[0m \u001b[0mself\u001b[0m\u001b[0;34m.\u001b[0m\u001b[0m_update_doc\u001b[0m\u001b[0;34m(\u001b[0m\u001b[0mwrapped\u001b[0m\u001b[0;34m.\u001b[0m\u001b[0m__doc__\u001b[0m\u001b[0;34m)\u001b[0m\u001b[0;34m\u001b[0m\u001b[0;34m\u001b[0m\u001b[0m\n",
      "\u001b[0;31mTypeError\u001b[0m: get_feature_names() missing 1 required positional argument: 'self'"
     ]
    }
   ],
   "source": [
    "from sklearn.feature_extraction.text import CountVectorizer\n",
    "\n",
    "feautre_names = count_vect.get_feature_names()\n",
    "display_topic_words(lda_model, feature_names, 15)"
   ]
  },
  {
   "cell_type": "code",
   "execution_count": null,
   "id": "182aca1e",
   "metadata": {},
   "outputs": [],
   "source": []
  }
 ],
 "metadata": {
  "kernelspec": {
   "display_name": "Python 3",
   "language": "python",
   "name": "python3"
  },
  "language_info": {
   "codemirror_mode": {
    "name": "ipython",
    "version": 3
   },
   "file_extension": ".py",
   "mimetype": "text/x-python",
   "name": "python",
   "nbconvert_exporter": "python",
   "pygments_lexer": "ipython3",
   "version": "3.8.8"
  },
  "toc": {
   "base_numbering": 1,
   "nav_menu": {},
   "number_sections": true,
   "sideBar": true,
   "skip_h1_title": false,
   "title_cell": "Table of Contents",
   "title_sidebar": "Contents",
   "toc_cell": false,
   "toc_position": {},
   "toc_section_display": true,
   "toc_window_display": false
  }
 },
 "nbformat": 4,
 "nbformat_minor": 5
}
